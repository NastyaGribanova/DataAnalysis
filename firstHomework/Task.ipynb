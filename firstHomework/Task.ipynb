{
 "cells": [
  {
   "cell_type": "markdown",
   "metadata": {},
   "source": [
    "# Machine Learning\n",
    "\n",
    "*Лектор: Екатерина Лобачева*\n",
    "\n",
    "*Факультет экономических наук НИУ ВШЭ, 2017-18 учебный год*\n",
    "\n",
    "[Страница курса](http://wiki.cs.hse.ru/Машинное_обучение_(факультет_экономических_наук%29)"
   ]
  },
  {
   "cell_type": "markdown",
   "metadata": {},
   "source": [
    "## Домашнее задание №1\n",
    "Задание основано на материалах курса [Data analysis (Software Engineering)](http://wiki.cs.hse.ru/Data_analysis_(Software_Engineering%29) (ФКН НИУ ВШЭ).\n",
    "\n",
    "Вам необходимо анализировать набор данных [adult.data](http://archive.ics.uci.edu/ml/datasets/Adult) (источник: UCI Machine Learning Repository) с помощью Python, pandas, numpy, scipy.\n",
    "\n",
    "Чтобы выполнить работу, скачайте настоящий ipynb-файл, откройте его в *Jupyter Notebook*, впишите решения в оставленные для этого ячейки (при необходимости можно добавлять новые ячейки), приводя полный работающий код, а также все необходимые пояснения и ответы (для этого нужно использовать markdown-ячейки). Вы можете вставлять формулы с помощью TeX-разметки в markdown-ячейки. После выполнения работы необходимо вытащить ipynb-файл из Jupyter (например, с помощью *File → Download as… → IPython Notebook*).\n",
    "\n",
    "**Подсказка.** Файл [adult.data](http://archive.ics.uci.edu/ml/machine-learning-databases/adult/adult.data) является CSV-файлом, но в нём отсутствуют имена переменных — они (вместе с описаниями) приводятся в отдельном файле [adult.names](http://archive.ics.uci.edu/ml/machine-learning-databases/adult/adult.names). При загрузке датафрейма с помощью `pd.read_csv` используйте параметры `header=None` (чтобы первая строка не воспринималась как строка с именами переменных) и `names=[\"age\", \"workclass\", \"fnlwgt\", \"education\", \"education-num\", \"marital-status\", \"occupation\", \"relationship\", \"race\", \"sex\", \"capital-gain\", \"capital-loss\", \"hours-per-week\", \"native-country\", \"50K\"]`. Чтобы убрать лишние пробелы после запятых, которые есть в файле, следует добавить опцию `skipinitialspace=True`."
   ]
  },
  {
   "cell_type": "markdown",
   "metadata": {},
   "source": [
    "### Вопрос 1\n",
    "Сколько мужчин и женщин в выборке?"
   ]
  },
  {
   "cell_type": "code",
   "execution_count": 2,
   "metadata": {},
   "outputs": [
    {
     "name": "stdout",
     "output_type": "stream",
     "text": [
      "count of females is  10771\n",
      "count of males is  21790\n"
     ]
    }
   ],
   "source": [
    "import pandas as pd\n",
    "pass_data = pd.read_csv('http://archive.ics.uci.edu/ml/machine-learning-databases/adult/adult.data', header=None, sep=',',skipinitialspace=True, names=['age', 'workclass', 'fnlwgt', 'education', 'education-num', 'marital-status', 'occupation', 'relationship', 'race', 'sex', 'capital-gain', 'capital-loss', 'hours-per-week', 'native-country', '50K'])\n",
    "\n",
    "female = pass_data[pass_data['sex'] == 'Female']\n",
    "male = pass_data[pass_data['sex'] == 'Male']\n",
    "print('count of females is ', female['sex'].count())\n",
    "print('count of males is ', male['sex'].count())"
   ]
  },
  {
   "cell_type": "markdown",
   "metadata": {},
   "source": [
    "### Вопрос 2\n",
    "Каков средний возраст мужчин?\n"
   ]
  },
  {
   "cell_type": "code",
   "execution_count": 4,
   "metadata": {},
   "outputs": [
    {
     "name": "stdout",
     "output_type": "stream",
     "text": [
      "mean males age is  39.43354749885268\n"
     ]
    }
   ],
   "source": [
    "male = pass_data[pass_data['sex'] == 'Male']\n",
    "mean_male_age = male['age'].mean()\n",
    "print('mean males age is ', mean_male_age)"
   ]
  },
  {
   "cell_type": "markdown",
   "metadata": {},
   "source": [
    "### Вопрос 3\n",
    "Какова доля граждан США?"
   ]
  },
  {
   "cell_type": "code",
   "execution_count": 5,
   "metadata": {},
   "outputs": [
    {
     "name": "stdout",
     "output_type": "stream",
     "text": [
      "share of usa citizens is  0.895857006848684\n"
     ]
    }
   ],
   "source": [
    "usa = pass_data[pass_data['native-country'] == 'United-States']\n",
    "usa_count = usa['native-country'].count()\n",
    "country_count = pass_data['native-country'].count()\n",
    "share_usa = usa_count/country_count\n",
    "print('share of usa citizens is ', share_usa)"
   ]
  },
  {
   "cell_type": "markdown",
   "metadata": {},
   "source": [
    "### Вопрос 4\n",
    "Нарисовать распределение уровня образования в виде столбчатой диаграммы (bar plot)."
   ]
  },
  {
   "cell_type": "code",
   "execution_count": 7,
   "metadata": {},
   "outputs": [
    {
     "data": {
      "image/png": "[encoded data removed]",
      "text/plain": [
       "<Figure size 432x288 with 1 Axes>"
      ]
     },
     "metadata": {
      "needs_background": "light"
     },
     "output_type": "display_data"
    }
   ],
   "source": [
    "import seaborn as sns\n",
    "sns_plot = sns.distplot(pass_data['education-num'])\n",
    "fig = sns_plot.get_figure()"
   ]
  },
  {
   "cell_type": "markdown",
   "metadata": {},
   "source": [
    "### Вопрос 5\n",
    "Найти среднее и стандартное отклонение переменной \"final weight\" (fnlwgt) для разведённых людей?"
   ]
  },
  {
   "cell_type": "code",
   "execution_count": 8,
   "metadata": {},
   "outputs": [
    {
     "name": "stdout",
     "output_type": "stream",
     "text": [
      "mean weight of divorced people is  185802.79045689848\n",
      "standart deviation weight of divorced people is  105646.78945933603\n"
     ]
    }
   ],
   "source": [
    "divorced_people = pass_data[pass_data['marital-status'] == 'Divorced']\n",
    "mean_weight_divorced = divorced_people['fnlwgt'].mean()\n",
    "standart_deviation = divorced_people['fnlwgt'].std()\n",
    "print('mean weight of divorced people is ', mean_weight_divorced)\n",
    "print('standart deviation weight of divorced people is ', standart_deviation)"
   ]
  },
  {
   "cell_type": "markdown",
   "metadata": {},
   "source": [
    "### Вопрос 6\n",
    "Правда ли, что люди, зарабатывающие более 50 тыс. в основном имеют высшее образование?"
   ]
  },
  {
   "cell_type": "code",
   "execution_count": 9,
   "metadata": {},
   "outputs": [
    {
     "name": "stdout",
     "output_type": "stream",
     "text": [
      "it is true\n"
     ]
    }
   ],
   "source": [
    "people_with_50k = pass_data[pass_data['50K'] == '>50K']\n",
    "count_50k = people_with_50k['50K'].count()\n",
    "higher_education_50k = people_with_50k[(people_with_50k['education'] == 'Bachelors')|(people_with_50k['education'] == 'Masters')|(people_with_50k['education'] == 'Some-college')|(people_with_50k['education'] == 'Assoc-acdm')|(people_with_50k['education'] == 'Doctorate')]\n",
    "count_higher_50k = higher_education_50k['education'].count()\n",
    "share_50k = count_higher_50k / count_50k\n",
    "if share_50k > 0.5:\n",
    "    print('it is true')\n",
    "else:\n",
    "    print('it is false')"
   ]
  },
  {
   "cell_type": "markdown",
   "metadata": {},
   "source": [
    "### Вопрос 7\n",
    "Каков максимальный возраст мужчин и женщин каждой расы?"
   ]
  },
  {
   "cell_type": "code",
   "execution_count": 10,
   "metadata": {},
   "outputs": [
    {
     "name": "stdout",
     "output_type": "stream",
     "text": [
      "max age of white women is  90\n",
      "max age of black women is  90\n",
      "max age of asian women is  75\n",
      "max age of amer women is  80\n",
      "max age of other women is  74\n",
      "max age of white men is  90\n",
      "max age of black men is  90\n",
      "max age of asian men is  90\n",
      "max age of amer men is  82\n",
      "max age of other men is  77\n"
     ]
    }
   ],
   "source": [
    "white_female = female[female['race'] == 'White']\n",
    "black_female = female[female['race'] == 'Black']\n",
    "asian_female = female[female['race'] == 'Asian-Pac-Islander']\n",
    "amer_female = female[female['race'] == 'Amer-Indian-Eskimo']\n",
    "other_female = female[female['race'] == 'Other']\n",
    "max_age_fwhite = white_female['age'].max()\n",
    "max_age_fblack = black_female['age'].max()\n",
    "max_age_fasian = asian_female['age'].max()\n",
    "max_age_famer = amer_female['age'].max()\n",
    "max_age_fother = other_female['age'].max()\n",
    "\n",
    "white_male = male[male['race'] == 'White']\n",
    "black_male = male[male['race'] == 'Black']\n",
    "asian_male = male[male['race'] == 'Asian-Pac-Islander']\n",
    "amer_male = male[male['race'] == 'Amer-Indian-Eskimo']\n",
    "other_male = male[male['race'] == 'Other']\n",
    "max_age_mwhite = white_male['age'].max()\n",
    "max_age_mblack = black_male['age'].max()\n",
    "max_age_masian = asian_male['age'].max()\n",
    "max_age_mamer = amer_male['age'].max()\n",
    "max_age_mother = other_male['age'].max()\n",
    "\n",
    "print('max age of white women is ', max_age_fwhite)\n",
    "print('max age of black women is ', max_age_fblack)\n",
    "print('max age of asian women is ', max_age_fasian)\n",
    "print('max age of amer women is ', max_age_famer)\n",
    "print('max age of other women is ', max_age_fother)\n",
    "print('max age of white men is ', max_age_mwhite)\n",
    "print('max age of black men is ', max_age_mblack)\n",
    "print('max age of asian men is ', max_age_masian)\n",
    "print('max age of amer men is ', max_age_mamer)\n",
    "print('max age of other men is ', max_age_mother)"
   ]
  },
  {
   "cell_type": "markdown",
   "metadata": {},
   "source": [
    "### Вопрос 8\n",
    "Люди из каких стран работают как фермеры/рыбаки?"
   ]
  },
  {
   "cell_type": "code",
   "execution_count": 11,
   "metadata": {},
   "outputs": [
    {
     "name": "stdout",
     "output_type": "stream",
     "text": [
      "farmers and fishers are from \n",
      "16       United-States\n",
      "255           Cambodia\n",
      "500             Poland\n",
      "771          Guatemala\n",
      "861             Mexico\n",
      "2353           England\n",
      "3532                 ?\n",
      "6006       Philippines\n",
      "6559             Italy\n",
      "8551       Puerto-Rico\n",
      "11271          Vietnam\n",
      "12621          Germany\n",
      "15177            Japan\n",
      "16486           Canada\n",
      "20549       Yugoslavia\n",
      "21145             Cuba\n",
      "22391         Portugal\n",
      "25761      El-Salvador\n",
      "25943             Hong\n",
      "28654          Ireland\n",
      "29466           France\n",
      "Name: native-country, dtype: object\n"
     ]
    }
   ],
   "source": [
    "farmers_fisher = pass_data[pass_data['occupation'] == 'Farming-fishing']\n",
    "country_farmer = farmers_fisher.drop_duplicates('native-country')['native-country']\n",
    "print('farmers and fishers are from ')\n",
    "print(country_farmer)"
   ]
  },
  {
   "cell_type": "markdown",
   "metadata": {},
   "source": [
    "### Вопрос 9\n",
    "Рассмотрим два отношения 1) количество мужчин-бакалавров к количеству мужчин-магистров и 2) количество женщин-бакалавров к количеству женщин-магистров. Какое отношение больше?\n"
   ]
  },
  {
   "cell_type": "code",
   "execution_count": 12,
   "metadata": {},
   "outputs": [
    {
     "name": "stdout",
     "output_type": "stream",
     "text": [
      "the ratio of male bachelors to masters is more than female\n"
     ]
    }
   ],
   "source": [
    "male_bachelors = male[male['education'] == 'Bachelors']\n",
    "male_masters = male[male['education'] == 'Masters']\n",
    "count_mbachelors = male_bachelors['education'].count()\n",
    "count_mmasters = male_masters['education'].count()\n",
    "mratio = count_mbachelors / count_mmasters\n",
    "\n",
    "female_bachelors = female[female['education'] == 'Bachelors']\n",
    "female_masters = female[female['education'] == 'Masters']\n",
    "count_fbachelors = female_bachelors['education'].count()\n",
    "count_fmasters = female_masters['education'].count()\n",
    "fratio = count_fbachelors / count_fmasters\n",
    "\n",
    "if mratio > fratio:\n",
    "    print('the ratio of male bachelors to masters is more than female')\n",
    "else:\n",
    "    print('the ratio of female bachelors to masters is more than male')"
   ]
  },
  {
   "cell_type": "markdown",
   "metadata": {},
   "source": [
    "### Вопрос 10\n",
    "Каково максимальное количество рабочих часов в неделю? Как много людей работают столько часов в неделю? Каков их заработок?"
   ]
  },
  {
   "cell_type": "code",
   "execution_count": 16,
   "metadata": {},
   "outputs": [
    {
     "name": "stdout",
     "output_type": "stream",
     "text": [
      "maximum working hours per week is  99\n",
      "count of people working maximum hours is  85\n",
      "their salary is \n",
      "935      >50K\n",
      "4086    <=50K\n",
      "Name: 50K, dtype: object\n"
     ]
    }
   ],
   "source": [
    "max_hours = pass_data['hours-per-week'].max()\n",
    "print('maximum working hours per week is ', max_hours)\n",
    "max_workers = len(pass_data[pass_data['hours-per-week'] == max_hours])\n",
    "print('count of people working maximum hours is ', max_workers)\n",
    "salary = pass_data[pass_data['hours-per-week'] == max_hours].drop_duplicates('50K')['50K']\n",
    "print('their salary is ')\n",
    "print(salary)"
   ]
  },
  {
   "cell_type": "code",
   "execution_count": null,
   "metadata": {},
   "outputs": [],
   "source": []
  }
 ],
 "metadata": {
  "kernelspec": {
   "display_name": "Python 3",
   "language": "python",
   "name": "python3"
  },
  "language_info": {
   "codemirror_mode": {
    "name": "ipython",
    "version": 3
   },
   "file_extension": ".py",
   "mimetype": "text/x-python",
   "name": "python",
   "nbconvert_exporter": "python",
   "pygments_lexer": "ipython3",
   "version": "3.7.4"
  },
  "toc": {
   "toc_cell": false,
   "toc_number_sections": false,
   "toc_threshold": 6,
   "toc_window_display": false
  }
 },
 "nbformat": 4,
 "nbformat_minor": 1
}
