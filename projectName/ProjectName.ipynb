{
 "cells": [
  {
   "cell_type": "markdown",
   "metadata": {},
   "source": [
    "# Определение пола человека по его имени\n",
    "Работу выполнили студентки 2 курса Высшей школы ИТИС Грибанова Анастасия и Шафеева Дина, группа 11-803.\n",
    "\n",
    "**Цель проекта:** научиться по имени, фамилии и отчеству человека определять его пол. \n",
    "\n",
    "Для достижения этой цели берутся данные 62609 человек и на их основе строятся различные модели.\n",
    "Для работы берутся данные русскоязычного населения, из-за наличия у тех отчества, которое будет являться дополнительным параметром для анализа.\n",
    "\n",
    "**Поля:** полями данных являются полные имена, а именно: фамилия, имя, отчество человека. Последнее поле в таблице - пол.\n",
    "\n",
    "**Источник:** https://github.com/Rai220/MlSexDetector/blob/master/dataMini.csv"
   ]
  },
  {
   "cell_type": "code",
   "execution_count": 1,
   "metadata": {},
   "outputs": [
    {
     "data": {
      "text/html": [
       "<div>\n",
       "<style scoped>\n",
       "    .dataframe tbody tr th:only-of-type {\n",
       "        vertical-align: middle;\n",
       "    }\n",
       "\n",
       "    .dataframe tbody tr th {\n",
       "        vertical-align: top;\n",
       "    }\n",
       "\n",
       "    .dataframe thead th {\n",
       "        text-align: right;\n",
       "    }\n",
       "</style>\n",
       "<table border=\"1\" class=\"dataframe\">\n",
       "  <thead>\n",
       "    <tr style=\"text-align: right;\">\n",
       "      <th></th>\n",
       "      <th>ФАМИЛИЯ</th>\n",
       "      <th>ИМЯ</th>\n",
       "      <th>ОТЧЕСТВО</th>\n",
       "      <th>ПОЛ</th>\n",
       "    </tr>\n",
       "  </thead>\n",
       "  <tbody>\n",
       "    <tr>\n",
       "      <td>0</td>\n",
       "      <td>АБАБКОВ</td>\n",
       "      <td>СЕРГЕЙ</td>\n",
       "      <td>ИВАНОВИЧ</td>\n",
       "      <td>М</td>\n",
       "    </tr>\n",
       "    <tr>\n",
       "      <td>1</td>\n",
       "      <td>АБАЕВ</td>\n",
       "      <td>АНДРЕЙ</td>\n",
       "      <td>АЛЕКСАНДРОВИЧ</td>\n",
       "      <td>М</td>\n",
       "    </tr>\n",
       "    <tr>\n",
       "      <td>2</td>\n",
       "      <td>АБАЗОВА</td>\n",
       "      <td>ЕЛЕНА</td>\n",
       "      <td>НИКОЛАЕВНА</td>\n",
       "      <td>Ж</td>\n",
       "    </tr>\n",
       "    <tr>\n",
       "      <td>3</td>\n",
       "      <td>АБАКУМОВ</td>\n",
       "      <td>СЕРГЕЙ</td>\n",
       "      <td>ВАСИЛЬЕВИЧ</td>\n",
       "      <td>М</td>\n",
       "    </tr>\n",
       "    <tr>\n",
       "      <td>4</td>\n",
       "      <td>АБАКУМОВ</td>\n",
       "      <td>СЕРГЕЙ</td>\n",
       "      <td>ВАСИЛЬЕВИЧ</td>\n",
       "      <td>М</td>\n",
       "    </tr>\n",
       "  </tbody>\n",
       "</table>\n",
       "</div>"
      ],
      "text/plain": [
       "    ФАМИЛИЯ     ИМЯ       ОТЧЕСТВО ПОЛ\n",
       "0   АБАБКОВ  СЕРГЕЙ       ИВАНОВИЧ   М\n",
       "1     АБАЕВ  АНДРЕЙ  АЛЕКСАНДРОВИЧ   М\n",
       "2   АБАЗОВА   ЕЛЕНА     НИКОЛАЕВНА   Ж\n",
       "3  АБАКУМОВ  СЕРГЕЙ     ВАСИЛЬЕВИЧ   М\n",
       "4  АБАКУМОВ  СЕРГЕЙ     ВАСИЛЬЕВИЧ   М"
      ]
     },
     "execution_count": 1,
     "metadata": {},
     "output_type": "execute_result"
    }
   ],
   "source": [
    "import chardet\n",
    "import pandas as pd\n",
    "\n",
    "with open('C:/Users/Nastya/dataMini.csv', 'rb') as f:\n",
    "    result = chardet.detect(f.readline()) \n",
    "\n",
    "\n",
    "data = pd.read_csv('C:/Users/Nastya/dataMini.csv', encoding=result['encoding'])\n",
    "data.head()"
   ]
  }
 ],
 "metadata": {
  "kernelspec": {
   "display_name": "Python 3",
   "language": "python",
   "name": "python3"
  },
  "language_info": {
   "codemirror_mode": {
    "name": "ipython",
    "version": 3
   },
   "file_extension": ".py",
   "mimetype": "text/x-python",
   "name": "python",
   "nbconvert_exporter": "python",
   "pygments_lexer": "ipython3",
   "version": "3.7.4"
  }
 },
 "nbformat": 4,
 "nbformat_minor": 2
}
