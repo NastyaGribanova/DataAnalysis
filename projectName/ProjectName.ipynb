{
 "cells": [
  {
   "cell_type": "markdown",
   "metadata": {},
   "source": [
    "# Определение пола человека по его имени\n",
    "Работу выполнили студентки 2 курса Высшей школы ИТИС Грибанова Анастасия и Шафеева Дина, группа 11-803.\n",
    "\n",
    "**Цель проекта:** научиться по имени, фамилии и отчеству человека определять его пол. \n",
    "\n",
    "Для достижения этой цели берутся данные 62609 человек и на их основе строятся различные модели.\n",
    "Для работы берутся данные русскоязычного населения, из-за наличия у тех отчества, которое будет являться дополнительным параметром для анализа.\n",
    "\n",
    "**Поля:** полями данных являются полные имена, а именно: фамилия, имя, отчество человека. Последнее поле в таблице - пол.\n",
    "\n",
    "**Источник:** https://github.com/Rai220/MlSexDetector/blob/master/dataMini.csv"
   ]
  },
  {
   "cell_type": "code",
   "execution_count": 23,
   "metadata": {},
   "outputs": [
    {
     "data": {
      "text/html": [
       "<div>\n",
       "<style scoped>\n",
       "    .dataframe tbody tr th:only-of-type {\n",
       "        vertical-align: middle;\n",
       "    }\n",
       "\n",
       "    .dataframe tbody tr th {\n",
       "        vertical-align: top;\n",
       "    }\n",
       "\n",
       "    .dataframe thead th {\n",
       "        text-align: right;\n",
       "    }\n",
       "</style>\n",
       "<table border=\"1\" class=\"dataframe\">\n",
       "  <thead>\n",
       "    <tr style=\"text-align: right;\">\n",
       "      <th></th>\n",
       "      <th>ФАМИЛИЯ</th>\n",
       "      <th>ИМЯ</th>\n",
       "      <th>ОТЧЕСТВО</th>\n",
       "      <th>ПОЛ</th>\n",
       "    </tr>\n",
       "  </thead>\n",
       "  <tbody>\n",
       "    <tr>\n",
       "      <td>0</td>\n",
       "      <td>АБАБКОВ</td>\n",
       "      <td>СЕРГЕЙ</td>\n",
       "      <td>ИВАНОВИЧ</td>\n",
       "      <td>М</td>\n",
       "    </tr>\n",
       "    <tr>\n",
       "      <td>1</td>\n",
       "      <td>АБАЕВ</td>\n",
       "      <td>АНДРЕЙ</td>\n",
       "      <td>АЛЕКСАНДРОВИЧ</td>\n",
       "      <td>М</td>\n",
       "    </tr>\n",
       "    <tr>\n",
       "      <td>2</td>\n",
       "      <td>АБАЗОВА</td>\n",
       "      <td>ЕЛЕНА</td>\n",
       "      <td>НИКОЛАЕВНА</td>\n",
       "      <td>Ж</td>\n",
       "    </tr>\n",
       "    <tr>\n",
       "      <td>3</td>\n",
       "      <td>АБАКУМОВ</td>\n",
       "      <td>СЕРГЕЙ</td>\n",
       "      <td>ВАСИЛЬЕВИЧ</td>\n",
       "      <td>М</td>\n",
       "    </tr>\n",
       "    <tr>\n",
       "      <td>4</td>\n",
       "      <td>АБАКУМОВ</td>\n",
       "      <td>СЕРГЕЙ</td>\n",
       "      <td>ВАСИЛЬЕВИЧ</td>\n",
       "      <td>М</td>\n",
       "    </tr>\n",
       "  </tbody>\n",
       "</table>\n",
       "</div>"
      ],
      "text/plain": [
       "    ФАМИЛИЯ     ИМЯ       ОТЧЕСТВО ПОЛ\n",
       "0   АБАБКОВ  СЕРГЕЙ       ИВАНОВИЧ   М\n",
       "1     АБАЕВ  АНДРЕЙ  АЛЕКСАНДРОВИЧ   М\n",
       "2   АБАЗОВА   ЕЛЕНА     НИКОЛАЕВНА   Ж\n",
       "3  АБАКУМОВ  СЕРГЕЙ     ВАСИЛЬЕВИЧ   М\n",
       "4  АБАКУМОВ  СЕРГЕЙ     ВАСИЛЬЕВИЧ   М"
      ]
     },
     "execution_count": 23,
     "metadata": {},
     "output_type": "execute_result"
    }
   ],
   "source": [
    "import chardet\n",
    "import pandas as pd\n",
    "from statistics import mode\n",
    "\n",
    "with open('C:/Users/Nastya/dataMini.csv', 'rb') as f:\n",
    "    result = chardet.detect(f.readline()) \n",
    "\n",
    "\n",
    "data = pd.read_csv('C:/Users/Nastya/dataMini.csv', encoding=result['encoding'])\n",
    "data.head()"
   ]
  },
  {
   "cell_type": "code",
   "execution_count": 24,
   "metadata": {},
   "outputs": [
    {
     "data": {
      "text/plain": [
       "(62609, 4)"
      ]
     },
     "execution_count": 24,
     "metadata": {},
     "output_type": "execute_result"
    }
   ],
   "source": [
    "data.shape"
   ]
  },
  {
   "cell_type": "markdown",
   "metadata": {},
   "source": [
    "Узнаем, есть ли в данных пропущенные значения, с помощью функции isnull()"
   ]
  },
  {
   "cell_type": "code",
   "execution_count": 25,
   "metadata": {},
   "outputs": [
    {
     "data": {
      "text/plain": [
       "True"
      ]
     },
     "execution_count": 25,
     "metadata": {},
     "output_type": "execute_result"
    }
   ],
   "source": [
    "data.isnull().any().any()"
   ]
  },
  {
   "cell_type": "code",
   "execution_count": 26,
   "metadata": {},
   "outputs": [
    {
     "name": "stdout",
     "output_type": "stream",
     "text": [
      "<class 'pandas.core.frame.DataFrame'>\n",
      "RangeIndex: 62609 entries, 0 to 62608\n",
      "Data columns (total 4 columns):\n",
      "ФАМИЛИЯ     62609 non-null object\n",
      "ИМЯ         62609 non-null object\n",
      "ОТЧЕСТВО    62579 non-null object\n",
      "ПОЛ         62609 non-null object\n",
      "dtypes: object(4)\n",
      "memory usage: 1.9+ MB\n"
     ]
    }
   ],
   "source": [
    "data.info()"
   ]
  },
  {
   "cell_type": "markdown",
   "metadata": {},
   "source": [
    "Воспользовавшись функцией info(), выяснили, что пропуски встречаются только в столбце «Отчество», и их не так много, всего 30, так что можем заменить их на самое часто встречающееся значение в этом столбце - моду. Найдем это значение."
   ]
  },
  {
   "cell_type": "code",
   "execution_count": 27,
   "metadata": {},
   "outputs": [
    {
     "name": "stdout",
     "output_type": "stream",
     "text": [
      "0    АЛЕКСАНДРОВНА\n",
      "Name: ОТЧЕСТВО, dtype: object\n"
     ]
    }
   ],
   "source": [
    "print(data.mode()['ОТЧЕСТВО'])"
   ]
  },
  {
   "cell_type": "markdown",
   "metadata": {},
   "source": [
    "Подставляем эту моду ('Александровна') в пропущенные ячейки."
   ]
  },
  {
   "cell_type": "code",
   "execution_count": 28,
   "metadata": {},
   "outputs": [
    {
     "name": "stdout",
     "output_type": "stream",
     "text": [
      "         ФАМИЛИЯ     ИМЯ       ОТЧЕСТВО ПОЛ\n",
      "0        АБАБКОВ  СЕРГЕЙ       ИВАНОВИЧ   М\n",
      "1          АБАЕВ  АНДРЕЙ  АЛЕКСАНДРОВИЧ   М\n",
      "2        АБАЗОВА   ЕЛЕНА     НИКОЛАЕВНА   Ж\n",
      "3       АБАКУМОВ  СЕРГЕЙ     ВАСИЛЬЕВИЧ   М\n",
      "4       АБАКУМОВ  СЕРГЕЙ     ВАСИЛЬЕВИЧ   М\n",
      "...          ...     ...            ...  ..\n",
      "62604     ЖАРОВА  МАРИНА    АНАТОЛЬЕВНА   Ж\n",
      "62605  СИРОТКИНА  ГАЛИНА     НИКОЛАЕВНА   Ж\n",
      "62606    ЧУВИЛИН  СЕРГЕЙ     ВИКТОРОВИЧ   М\n",
      "62607    БЕКАСОВ  МИХАИЛ     НИКОЛАЕВИЧ   М\n",
      "62608     ЛЕЗОВА    ИННА     НИКОЛАЕВНА   Ж\n",
      "\n",
      "[62609 rows x 4 columns]\n"
     ]
    }
   ],
   "source": [
    "data = data.fillna('АЛЕКСАНДРОВНА')\n",
    "print(data)"
   ]
  },
  {
   "cell_type": "markdown",
   "metadata": {},
   "source": [
    "Еще раз проверим наши данные на наличие пропущенных значений с помощью той же функции isnull()."
   ]
  },
  {
   "cell_type": "code",
   "execution_count": 29,
   "metadata": {},
   "outputs": [
    {
     "data": {
      "text/plain": [
       "False"
      ]
     },
     "execution_count": 29,
     "metadata": {},
     "output_type": "execute_result"
    }
   ],
   "source": [
    "data.isnull().any().any()"
   ]
  },
  {
   "cell_type": "code",
   "execution_count": 30,
   "metadata": {},
   "outputs": [
    {
     "name": "stdout",
     "output_type": "stream",
     "text": [
      "<class 'pandas.core.frame.DataFrame'>\n",
      "RangeIndex: 62609 entries, 0 to 62608\n",
      "Data columns (total 4 columns):\n",
      "ФАМИЛИЯ     62609 non-null object\n",
      "ИМЯ         62609 non-null object\n",
      "ОТЧЕСТВО    62609 non-null object\n",
      "ПОЛ         62609 non-null object\n",
      "dtypes: object(4)\n",
      "memory usage: 1.9+ MB\n"
     ]
    }
   ],
   "source": [
    "data.info()"
   ]
  },
  {
   "cell_type": "markdown",
   "metadata": {},
   "source": [
    "Пропущенные данные успешно заполнились модой"
   ]
  },
  {
   "cell_type": "markdown",
   "metadata": {},
   "source": [
    "   Наш алгоритм будет строиться на основе окончаний отчеств. Мы выяснили, что большинство отчеств оканчиваются на \"ич\", \"лы\", \"на\", \"зы\" и \"ва\". Из них первые два относятся к мужским отчествам, а последние к женским.\n",
    "\n",
    "   Но при этом в выборке будут встречаться и отчества, которые не относятся к данным категориям, имеющие другие окончания.\n",
    "\n",
    "   Чтобы узнать, к какому полу чаще всего относятся люди, имеющие такие отчества, мы прошлись по всем данным и посчитали сколько человек относится к мужскому полу, а сколько к женскому."
   ]
  },
  {
   "cell_type": "code",
   "execution_count": 31,
   "metadata": {},
   "outputs": [
    {
     "name": "stdout",
     "output_type": "stream",
     "text": [
      "count of male =  195  count of female =  112\n"
     ]
    }
   ],
   "source": [
    "male = 0\n",
    "female = 0\n",
    "for index, row in data.iterrows():\n",
    "    endOfLastname = row['ОТЧЕСТВО'][len(row['ОТЧЕСТВО'])-2:]\n",
    "    if endOfLastname!='ИЧ' and endOfLastname!='ЛЫ' and endOfLastname!='НА' and endOfLastname!='ЗЫ' and endOfLastname!='ВА':\n",
    "        if row['ПОЛ']=='М':\n",
    "            male=male+1\n",
    "        else:\n",
    "            female=female+1\n",
    "print(\"count of male = \", male, \" count of female = \", female)"
   ]
  },
  {
   "cell_type": "markdown",
   "metadata": {},
   "source": [
    "В результате мы выяснили, что мужчин 195, а женщин 112. Так как мужчин больше, мы решили причислять всех людей с отличными от нашей классификации окончаний отчествами к мужскому полу."
   ]
  },
  {
   "cell_type": "code",
   "execution_count": 32,
   "metadata": {},
   "outputs": [
    {
     "name": "stdout",
     "output_type": "stream",
     "text": [
      "<class 'pandas.core.frame.DataFrame'>\n",
      "RangeIndex: 62609 entries, 0 to 62608\n",
      "Data columns (total 5 columns):\n",
      "ФАМИЛИЯ     62609 non-null object\n",
      "ИМЯ         62609 non-null object\n",
      "ОТЧЕСТВО    62609 non-null object\n",
      "ПОЛ         62609 non-null object\n",
      "Pred        0 non-null object\n",
      "dtypes: object(5)\n",
      "memory usage: 2.4+ MB\n"
     ]
    }
   ],
   "source": [
    "data['Pred'] = None\n",
    "data.info()"
   ]
  },
  {
   "cell_type": "markdown",
   "metadata": {},
   "source": [
    "Далее мы создали новый столбец для нашей модели, прошлись по всем данным и заполнили его."
   ]
  },
  {
   "cell_type": "code",
   "execution_count": 33,
   "metadata": {},
   "outputs": [
    {
     "name": "stdout",
     "output_type": "stream",
     "text": [
      "<class 'pandas.core.frame.DataFrame'>\n",
      "RangeIndex: 62609 entries, 0 to 62608\n",
      "Data columns (total 5 columns):\n",
      "ФАМИЛИЯ     62609 non-null object\n",
      "ИМЯ         62609 non-null object\n",
      "ОТЧЕСТВО    62609 non-null object\n",
      "ПОЛ         62609 non-null object\n",
      "Pred        62609 non-null object\n",
      "dtypes: object(5)\n",
      "memory usage: 2.4+ MB\n"
     ]
    }
   ],
   "source": [
    "for index, row in data.iterrows():\n",
    "    endOfLastname = row['ОТЧЕСТВО'][len(row['ОТЧЕСТВО'])-2:]\n",
    "    if endOfLastname=='НА' or endOfLastname=='ЗЫ' or endOfLastname=='ВА':\n",
    "        row['Pred'] = 'Ж'\n",
    "    else:\n",
    "        row['Pred'] = 'М'\n",
    "data.info()"
   ]
  },
  {
   "cell_type": "code",
   "execution_count": 34,
   "metadata": {},
   "outputs": [
    {
     "data": {
      "text/html": [
       "<div>\n",
       "<style scoped>\n",
       "    .dataframe tbody tr th:only-of-type {\n",
       "        vertical-align: middle;\n",
       "    }\n",
       "\n",
       "    .dataframe tbody tr th {\n",
       "        vertical-align: top;\n",
       "    }\n",
       "\n",
       "    .dataframe thead th {\n",
       "        text-align: right;\n",
       "    }\n",
       "</style>\n",
       "<table border=\"1\" class=\"dataframe\">\n",
       "  <thead>\n",
       "    <tr style=\"text-align: right;\">\n",
       "      <th></th>\n",
       "      <th>ФАМИЛИЯ</th>\n",
       "      <th>ИМЯ</th>\n",
       "      <th>ОТЧЕСТВО</th>\n",
       "      <th>ПОЛ</th>\n",
       "      <th>Pred</th>\n",
       "    </tr>\n",
       "  </thead>\n",
       "  <tbody>\n",
       "    <tr>\n",
       "      <td>0</td>\n",
       "      <td>АБАБКОВ</td>\n",
       "      <td>СЕРГЕЙ</td>\n",
       "      <td>ИВАНОВИЧ</td>\n",
       "      <td>М</td>\n",
       "      <td>М</td>\n",
       "    </tr>\n",
       "    <tr>\n",
       "      <td>1</td>\n",
       "      <td>АБАЕВ</td>\n",
       "      <td>АНДРЕЙ</td>\n",
       "      <td>АЛЕКСАНДРОВИЧ</td>\n",
       "      <td>М</td>\n",
       "      <td>М</td>\n",
       "    </tr>\n",
       "    <tr>\n",
       "      <td>2</td>\n",
       "      <td>АБАЗОВА</td>\n",
       "      <td>ЕЛЕНА</td>\n",
       "      <td>НИКОЛАЕВНА</td>\n",
       "      <td>Ж</td>\n",
       "      <td>Ж</td>\n",
       "    </tr>\n",
       "    <tr>\n",
       "      <td>3</td>\n",
       "      <td>АБАКУМОВ</td>\n",
       "      <td>СЕРГЕЙ</td>\n",
       "      <td>ВАСИЛЬЕВИЧ</td>\n",
       "      <td>М</td>\n",
       "      <td>М</td>\n",
       "    </tr>\n",
       "    <tr>\n",
       "      <td>4</td>\n",
       "      <td>АБАКУМОВ</td>\n",
       "      <td>СЕРГЕЙ</td>\n",
       "      <td>ВАСИЛЬЕВИЧ</td>\n",
       "      <td>М</td>\n",
       "      <td>М</td>\n",
       "    </tr>\n",
       "  </tbody>\n",
       "</table>\n",
       "</div>"
      ],
      "text/plain": [
       "    ФАМИЛИЯ     ИМЯ       ОТЧЕСТВО ПОЛ Pred\n",
       "0   АБАБКОВ  СЕРГЕЙ       ИВАНОВИЧ   М    М\n",
       "1     АБАЕВ  АНДРЕЙ  АЛЕКСАНДРОВИЧ   М    М\n",
       "2   АБАЗОВА   ЕЛЕНА     НИКОЛАЕВНА   Ж    Ж\n",
       "3  АБАКУМОВ  СЕРГЕЙ     ВАСИЛЬЕВИЧ   М    М\n",
       "4  АБАКУМОВ  СЕРГЕЙ     ВАСИЛЬЕВИЧ   М    М"
      ]
     },
     "execution_count": 34,
     "metadata": {},
     "output_type": "execute_result"
    }
   ],
   "source": [
    "data.head()"
   ]
  },
  {
   "cell_type": "code",
   "execution_count": 35,
   "metadata": {},
   "outputs": [
    {
     "data": {
      "text/html": [
       "<div>\n",
       "<style scoped>\n",
       "    .dataframe tbody tr th:only-of-type {\n",
       "        vertical-align: middle;\n",
       "    }\n",
       "\n",
       "    .dataframe tbody tr th {\n",
       "        vertical-align: top;\n",
       "    }\n",
       "\n",
       "    .dataframe thead th {\n",
       "        text-align: right;\n",
       "    }\n",
       "</style>\n",
       "<table border=\"1\" class=\"dataframe\">\n",
       "  <thead>\n",
       "    <tr style=\"text-align: right;\">\n",
       "      <th></th>\n",
       "      <th>ФАМИЛИЯ</th>\n",
       "      <th>ИМЯ</th>\n",
       "      <th>ОТЧЕСТВО</th>\n",
       "      <th>ПОЛ</th>\n",
       "      <th>Pred</th>\n",
       "    </tr>\n",
       "  </thead>\n",
       "  <tbody>\n",
       "    <tr>\n",
       "      <td>62604</td>\n",
       "      <td>ЖАРОВА</td>\n",
       "      <td>МАРИНА</td>\n",
       "      <td>АНАТОЛЬЕВНА</td>\n",
       "      <td>Ж</td>\n",
       "      <td>Ж</td>\n",
       "    </tr>\n",
       "    <tr>\n",
       "      <td>62605</td>\n",
       "      <td>СИРОТКИНА</td>\n",
       "      <td>ГАЛИНА</td>\n",
       "      <td>НИКОЛАЕВНА</td>\n",
       "      <td>Ж</td>\n",
       "      <td>Ж</td>\n",
       "    </tr>\n",
       "    <tr>\n",
       "      <td>62606</td>\n",
       "      <td>ЧУВИЛИН</td>\n",
       "      <td>СЕРГЕЙ</td>\n",
       "      <td>ВИКТОРОВИЧ</td>\n",
       "      <td>М</td>\n",
       "      <td>М</td>\n",
       "    </tr>\n",
       "    <tr>\n",
       "      <td>62607</td>\n",
       "      <td>БЕКАСОВ</td>\n",
       "      <td>МИХАИЛ</td>\n",
       "      <td>НИКОЛАЕВИЧ</td>\n",
       "      <td>М</td>\n",
       "      <td>М</td>\n",
       "    </tr>\n",
       "    <tr>\n",
       "      <td>62608</td>\n",
       "      <td>ЛЕЗОВА</td>\n",
       "      <td>ИННА</td>\n",
       "      <td>НИКОЛАЕВНА</td>\n",
       "      <td>Ж</td>\n",
       "      <td>Ж</td>\n",
       "    </tr>\n",
       "  </tbody>\n",
       "</table>\n",
       "</div>"
      ],
      "text/plain": [
       "         ФАМИЛИЯ     ИМЯ     ОТЧЕСТВО ПОЛ Pred\n",
       "62604     ЖАРОВА  МАРИНА  АНАТОЛЬЕВНА   Ж    Ж\n",
       "62605  СИРОТКИНА  ГАЛИНА   НИКОЛАЕВНА   Ж    Ж\n",
       "62606    ЧУВИЛИН  СЕРГЕЙ   ВИКТОРОВИЧ   М    М\n",
       "62607    БЕКАСОВ  МИХАИЛ   НИКОЛАЕВИЧ   М    М\n",
       "62608     ЛЕЗОВА    ИННА   НИКОЛАЕВНА   Ж    Ж"
      ]
     },
     "execution_count": 35,
     "metadata": {},
     "output_type": "execute_result"
    }
   ],
   "source": [
    "data.tail()"
   ]
  },
  {
   "cell_type": "code",
   "execution_count": 36,
   "metadata": {},
   "outputs": [
    {
     "name": "stdout",
     "output_type": "stream",
     "text": [
      "accuracy is  0.9963583510357936\n"
     ]
    }
   ],
   "source": [
    "accuracy = 0\n",
    "for index, row in data.iterrows():\n",
    "    if row['Pred']==row['ПОЛ']:\n",
    "        accuracy=accuracy+1\n",
    "print('accuracy is ', accuracy/len(data))"
   ]
  },
  {
   "cell_type": "markdown",
   "metadata": {},
   "source": [
    "Чтобы выяснить точность нашей модели, мы еще раз прошлись по всем данным и сравнили готовое значение пола с нашим прогнозом. Результат поделили на количество всех элементов. \n",
    "\n",
    "Итак, точность нашего алгоритма равняется 0,996."
   ]
  },
  {
   "cell_type": "markdown",
   "metadata": {},
   "source": [
    "Для сравнения воспользуемся методами машинного обучения. Для этого еще раз считаем данные, чтобы избавиться от изменений, которые мы внесли при предыдущей работе с ними."
   ]
  },
  {
   "cell_type": "code",
   "execution_count": 48,
   "metadata": {},
   "outputs": [
    {
     "data": {
      "text/html": [
       "<div>\n",
       "<style scoped>\n",
       "    .dataframe tbody tr th:only-of-type {\n",
       "        vertical-align: middle;\n",
       "    }\n",
       "\n",
       "    .dataframe tbody tr th {\n",
       "        vertical-align: top;\n",
       "    }\n",
       "\n",
       "    .dataframe thead th {\n",
       "        text-align: right;\n",
       "    }\n",
       "</style>\n",
       "<table border=\"1\" class=\"dataframe\">\n",
       "  <thead>\n",
       "    <tr style=\"text-align: right;\">\n",
       "      <th></th>\n",
       "      <th>ФАМИЛИЯ</th>\n",
       "      <th>ИМЯ</th>\n",
       "      <th>ОТЧЕСТВО</th>\n",
       "      <th>ПОЛ</th>\n",
       "    </tr>\n",
       "  </thead>\n",
       "  <tbody>\n",
       "    <tr>\n",
       "      <td>0</td>\n",
       "      <td>АБАБКОВ</td>\n",
       "      <td>СЕРГЕЙ</td>\n",
       "      <td>ИВАНОВИЧ</td>\n",
       "      <td>М</td>\n",
       "    </tr>\n",
       "    <tr>\n",
       "      <td>1</td>\n",
       "      <td>АБАЕВ</td>\n",
       "      <td>АНДРЕЙ</td>\n",
       "      <td>АЛЕКСАНДРОВИЧ</td>\n",
       "      <td>М</td>\n",
       "    </tr>\n",
       "    <tr>\n",
       "      <td>2</td>\n",
       "      <td>АБАЗОВА</td>\n",
       "      <td>ЕЛЕНА</td>\n",
       "      <td>НИКОЛАЕВНА</td>\n",
       "      <td>Ж</td>\n",
       "    </tr>\n",
       "    <tr>\n",
       "      <td>3</td>\n",
       "      <td>АБАКУМОВ</td>\n",
       "      <td>СЕРГЕЙ</td>\n",
       "      <td>ВАСИЛЬЕВИЧ</td>\n",
       "      <td>М</td>\n",
       "    </tr>\n",
       "    <tr>\n",
       "      <td>4</td>\n",
       "      <td>АБАКУМОВ</td>\n",
       "      <td>СЕРГЕЙ</td>\n",
       "      <td>ВАСИЛЬЕВИЧ</td>\n",
       "      <td>М</td>\n",
       "    </tr>\n",
       "  </tbody>\n",
       "</table>\n",
       "</div>"
      ],
      "text/plain": [
       "    ФАМИЛИЯ     ИМЯ       ОТЧЕСТВО ПОЛ\n",
       "0   АБАБКОВ  СЕРГЕЙ       ИВАНОВИЧ   М\n",
       "1     АБАЕВ  АНДРЕЙ  АЛЕКСАНДРОВИЧ   М\n",
       "2   АБАЗОВА   ЕЛЕНА     НИКОЛАЕВНА   Ж\n",
       "3  АБАКУМОВ  СЕРГЕЙ     ВАСИЛЬЕВИЧ   М\n",
       "4  АБАКУМОВ  СЕРГЕЙ     ВАСИЛЬЕВИЧ   М"
      ]
     },
     "execution_count": 48,
     "metadata": {},
     "output_type": "execute_result"
    }
   ],
   "source": [
    "with open('C:/Users/Nastya/dataMini.csv', 'rb') as f:\n",
    "    result = chardet.detect(f.readline()) \n",
    "\n",
    "\n",
    "data1 = pd.read_csv('C:/Users/Nastya/dataMini.csv', encoding=result['encoding'])\n",
    "data1.head()"
   ]
  },
  {
   "cell_type": "markdown",
   "metadata": {},
   "source": [
    "Прежде всего опять заполним пропущенные значения в столбце \"Отчество\" на чаще встречающееся - Александровна."
   ]
  },
  {
   "cell_type": "code",
   "execution_count": 49,
   "metadata": {},
   "outputs": [
    {
     "name": "stdout",
     "output_type": "stream",
     "text": [
      "         ФАМИЛИЯ     ИМЯ       ОТЧЕСТВО ПОЛ\n",
      "0        АБАБКОВ  СЕРГЕЙ       ИВАНОВИЧ   М\n",
      "1          АБАЕВ  АНДРЕЙ  АЛЕКСАНДРОВИЧ   М\n",
      "2        АБАЗОВА   ЕЛЕНА     НИКОЛАЕВНА   Ж\n",
      "3       АБАКУМОВ  СЕРГЕЙ     ВАСИЛЬЕВИЧ   М\n",
      "4       АБАКУМОВ  СЕРГЕЙ     ВАСИЛЬЕВИЧ   М\n",
      "...          ...     ...            ...  ..\n",
      "62604     ЖАРОВА  МАРИНА    АНАТОЛЬЕВНА   Ж\n",
      "62605  СИРОТКИНА  ГАЛИНА     НИКОЛАЕВНА   Ж\n",
      "62606    ЧУВИЛИН  СЕРГЕЙ     ВИКТОРОВИЧ   М\n",
      "62607    БЕКАСОВ  МИХАИЛ     НИКОЛАЕВИЧ   М\n",
      "62608     ЛЕЗОВА    ИННА     НИКОЛАЕВНА   Ж\n",
      "\n",
      "[62609 rows x 4 columns]\n"
     ]
    }
   ],
   "source": [
    "data1 = data1.fillna('АЛЕКСАНДРОВНА')\n",
    "print(data1)"
   ]
  },
  {
   "cell_type": "markdown",
   "metadata": {},
   "source": [
    "Так как большинство методов машинного обучения может работать только с числовыми значениями, нам нужно изменить наши строковые данные. Для анализа имен достаточно иметь информацию об окончаниях всех частей ФИО. Для имени и фамилии нам будет достаточно последней буквы, а для отчества возьмем последние две."
   ]
  },
  {
   "cell_type": "code",
   "execution_count": 51,
   "metadata": {},
   "outputs": [
    {
     "data": {
      "text/html": [
       "<div>\n",
       "<style scoped>\n",
       "    .dataframe tbody tr th:only-of-type {\n",
       "        vertical-align: middle;\n",
       "    }\n",
       "\n",
       "    .dataframe tbody tr th {\n",
       "        vertical-align: top;\n",
       "    }\n",
       "\n",
       "    .dataframe thead th {\n",
       "        text-align: right;\n",
       "    }\n",
       "</style>\n",
       "<table border=\"1\" class=\"dataframe\">\n",
       "  <thead>\n",
       "    <tr style=\"text-align: right;\">\n",
       "      <th></th>\n",
       "      <th>ФАМИЛИЯ</th>\n",
       "      <th>ИМЯ</th>\n",
       "      <th>ОТЧЕСТВО</th>\n",
       "      <th>ПОЛ</th>\n",
       "      <th>ФАМИЛИЯ_КОД</th>\n",
       "      <th>ИМЯ_КОД</th>\n",
       "      <th>ОТЧЕСТВО_КОД</th>\n",
       "      <th>ФАМ_ОКОНЧ</th>\n",
       "      <th>ИМЯ_ОКОНЧ</th>\n",
       "      <th>ОТЧ_ОКОНЧ</th>\n",
       "    </tr>\n",
       "  </thead>\n",
       "  <tbody>\n",
       "    <tr>\n",
       "      <td>0</td>\n",
       "      <td>АБАБКОВ</td>\n",
       "      <td>СЕРГЕЙ</td>\n",
       "      <td>ИВАНОВИЧ</td>\n",
       "      <td>М</td>\n",
       "      <td>None</td>\n",
       "      <td>None</td>\n",
       "      <td>None</td>\n",
       "      <td>None</td>\n",
       "      <td>None</td>\n",
       "      <td>None</td>\n",
       "    </tr>\n",
       "    <tr>\n",
       "      <td>1</td>\n",
       "      <td>АБАЕВ</td>\n",
       "      <td>АНДРЕЙ</td>\n",
       "      <td>АЛЕКСАНДРОВИЧ</td>\n",
       "      <td>М</td>\n",
       "      <td>None</td>\n",
       "      <td>None</td>\n",
       "      <td>None</td>\n",
       "      <td>None</td>\n",
       "      <td>None</td>\n",
       "      <td>None</td>\n",
       "    </tr>\n",
       "    <tr>\n",
       "      <td>2</td>\n",
       "      <td>АБАЗОВА</td>\n",
       "      <td>ЕЛЕНА</td>\n",
       "      <td>НИКОЛАЕВНА</td>\n",
       "      <td>Ж</td>\n",
       "      <td>None</td>\n",
       "      <td>None</td>\n",
       "      <td>None</td>\n",
       "      <td>None</td>\n",
       "      <td>None</td>\n",
       "      <td>None</td>\n",
       "    </tr>\n",
       "    <tr>\n",
       "      <td>3</td>\n",
       "      <td>АБАКУМОВ</td>\n",
       "      <td>СЕРГЕЙ</td>\n",
       "      <td>ВАСИЛЬЕВИЧ</td>\n",
       "      <td>М</td>\n",
       "      <td>None</td>\n",
       "      <td>None</td>\n",
       "      <td>None</td>\n",
       "      <td>None</td>\n",
       "      <td>None</td>\n",
       "      <td>None</td>\n",
       "    </tr>\n",
       "    <tr>\n",
       "      <td>4</td>\n",
       "      <td>АБАКУМОВ</td>\n",
       "      <td>СЕРГЕЙ</td>\n",
       "      <td>ВАСИЛЬЕВИЧ</td>\n",
       "      <td>М</td>\n",
       "      <td>None</td>\n",
       "      <td>None</td>\n",
       "      <td>None</td>\n",
       "      <td>None</td>\n",
       "      <td>None</td>\n",
       "      <td>None</td>\n",
       "    </tr>\n",
       "  </tbody>\n",
       "</table>\n",
       "</div>"
      ],
      "text/plain": [
       "    ФАМИЛИЯ     ИМЯ       ОТЧЕСТВО ПОЛ ФАМИЛИЯ_КОД ИМЯ_КОД ОТЧЕСТВО_КОД  \\\n",
       "0   АБАБКОВ  СЕРГЕЙ       ИВАНОВИЧ   М        None    None         None   \n",
       "1     АБАЕВ  АНДРЕЙ  АЛЕКСАНДРОВИЧ   М        None    None         None   \n",
       "2   АБАЗОВА   ЕЛЕНА     НИКОЛАЕВНА   Ж        None    None         None   \n",
       "3  АБАКУМОВ  СЕРГЕЙ     ВАСИЛЬЕВИЧ   М        None    None         None   \n",
       "4  АБАКУМОВ  СЕРГЕЙ     ВАСИЛЬЕВИЧ   М        None    None         None   \n",
       "\n",
       "  ФАМ_ОКОНЧ ИМЯ_ОКОНЧ ОТЧ_ОКОНЧ  \n",
       "0      None      None      None  \n",
       "1      None      None      None  \n",
       "2      None      None      None  \n",
       "3      None      None      None  \n",
       "4      None      None      None  "
      ]
     },
     "execution_count": 51,
     "metadata": {},
     "output_type": "execute_result"
    }
   ],
   "source": [
    "data1['ФАМ_ОКОНЧ'] = None\n",
    "data1['ИМЯ_ОКОНЧ'] = None\n",
    "data1['ОТЧ_ОКОНЧ'] = None\n",
    "data1.head()"
   ]
  },
  {
   "cell_type": "code",
   "execution_count": 52,
   "metadata": {},
   "outputs": [
    {
     "name": "stdout",
     "output_type": "stream",
     "text": [
      "<class 'pandas.core.frame.DataFrame'>\n",
      "RangeIndex: 62609 entries, 0 to 62608\n",
      "Data columns (total 10 columns):\n",
      "ФАМИЛИЯ         62609 non-null object\n",
      "ИМЯ             62609 non-null object\n",
      "ОТЧЕСТВО        62609 non-null object\n",
      "ПОЛ             62609 non-null object\n",
      "ФАМИЛИЯ_КОД     0 non-null object\n",
      "ИМЯ_КОД         0 non-null object\n",
      "ОТЧЕСТВО_КОД    0 non-null object\n",
      "ФАМ_ОКОНЧ       0 non-null object\n",
      "ИМЯ_ОКОНЧ       0 non-null object\n",
      "ОТЧ_ОКОНЧ       0 non-null object\n",
      "dtypes: object(10)\n",
      "memory usage: 4.8+ MB\n"
     ]
    }
   ],
   "source": [
    "data1.info()"
   ]
  },
  {
   "cell_type": "code",
   "execution_count": 53,
   "metadata": {},
   "outputs": [
    {
     "data": {
      "text/html": [
       "<div>\n",
       "<style scoped>\n",
       "    .dataframe tbody tr th:only-of-type {\n",
       "        vertical-align: middle;\n",
       "    }\n",
       "\n",
       "    .dataframe tbody tr th {\n",
       "        vertical-align: top;\n",
       "    }\n",
       "\n",
       "    .dataframe thead th {\n",
       "        text-align: right;\n",
       "    }\n",
       "</style>\n",
       "<table border=\"1\" class=\"dataframe\">\n",
       "  <thead>\n",
       "    <tr style=\"text-align: right;\">\n",
       "      <th></th>\n",
       "      <th>ФАМИЛИЯ</th>\n",
       "      <th>ИМЯ</th>\n",
       "      <th>ОТЧЕСТВО</th>\n",
       "      <th>ПОЛ</th>\n",
       "      <th>ФАМИЛИЯ_КОД</th>\n",
       "      <th>ИМЯ_КОД</th>\n",
       "      <th>ОТЧЕСТВО_КОД</th>\n",
       "      <th>ФАМ_ОКОНЧ</th>\n",
       "      <th>ИМЯ_ОКОНЧ</th>\n",
       "      <th>ОТЧ_ОКОНЧ</th>\n",
       "    </tr>\n",
       "  </thead>\n",
       "  <tbody>\n",
       "    <tr>\n",
       "      <td>0</td>\n",
       "      <td>АБАБКОВ</td>\n",
       "      <td>СЕРГЕЙ</td>\n",
       "      <td>ИВАНОВИЧ</td>\n",
       "      <td>М</td>\n",
       "      <td>None</td>\n",
       "      <td>None</td>\n",
       "      <td>None</td>\n",
       "      <td>В</td>\n",
       "      <td>Й</td>\n",
       "      <td>ИЧ</td>\n",
       "    </tr>\n",
       "    <tr>\n",
       "      <td>1</td>\n",
       "      <td>АБАЕВ</td>\n",
       "      <td>АНДРЕЙ</td>\n",
       "      <td>АЛЕКСАНДРОВИЧ</td>\n",
       "      <td>М</td>\n",
       "      <td>None</td>\n",
       "      <td>None</td>\n",
       "      <td>None</td>\n",
       "      <td>В</td>\n",
       "      <td>Й</td>\n",
       "      <td>ИЧ</td>\n",
       "    </tr>\n",
       "    <tr>\n",
       "      <td>2</td>\n",
       "      <td>АБАЗОВА</td>\n",
       "      <td>ЕЛЕНА</td>\n",
       "      <td>НИКОЛАЕВНА</td>\n",
       "      <td>Ж</td>\n",
       "      <td>None</td>\n",
       "      <td>None</td>\n",
       "      <td>None</td>\n",
       "      <td>А</td>\n",
       "      <td>А</td>\n",
       "      <td>НА</td>\n",
       "    </tr>\n",
       "    <tr>\n",
       "      <td>3</td>\n",
       "      <td>АБАКУМОВ</td>\n",
       "      <td>СЕРГЕЙ</td>\n",
       "      <td>ВАСИЛЬЕВИЧ</td>\n",
       "      <td>М</td>\n",
       "      <td>None</td>\n",
       "      <td>None</td>\n",
       "      <td>None</td>\n",
       "      <td>В</td>\n",
       "      <td>Й</td>\n",
       "      <td>ИЧ</td>\n",
       "    </tr>\n",
       "    <tr>\n",
       "      <td>4</td>\n",
       "      <td>АБАКУМОВ</td>\n",
       "      <td>СЕРГЕЙ</td>\n",
       "      <td>ВАСИЛЬЕВИЧ</td>\n",
       "      <td>М</td>\n",
       "      <td>None</td>\n",
       "      <td>None</td>\n",
       "      <td>None</td>\n",
       "      <td>В</td>\n",
       "      <td>Й</td>\n",
       "      <td>ИЧ</td>\n",
       "    </tr>\n",
       "  </tbody>\n",
       "</table>\n",
       "</div>"
      ],
      "text/plain": [
       "    ФАМИЛИЯ     ИМЯ       ОТЧЕСТВО ПОЛ ФАМИЛИЯ_КОД ИМЯ_КОД ОТЧЕСТВО_КОД  \\\n",
       "0   АБАБКОВ  СЕРГЕЙ       ИВАНОВИЧ   М        None    None         None   \n",
       "1     АБАЕВ  АНДРЕЙ  АЛЕКСАНДРОВИЧ   М        None    None         None   \n",
       "2   АБАЗОВА   ЕЛЕНА     НИКОЛАЕВНА   Ж        None    None         None   \n",
       "3  АБАКУМОВ  СЕРГЕЙ     ВАСИЛЬЕВИЧ   М        None    None         None   \n",
       "4  АБАКУМОВ  СЕРГЕЙ     ВАСИЛЬЕВИЧ   М        None    None         None   \n",
       "\n",
       "  ФАМ_ОКОНЧ ИМЯ_ОКОНЧ ОТЧ_ОКОНЧ  \n",
       "0         В         Й        ИЧ  \n",
       "1         В         Й        ИЧ  \n",
       "2         А         А        НА  \n",
       "3         В         Й        ИЧ  \n",
       "4         В         Й        ИЧ  "
      ]
     },
     "execution_count": 53,
     "metadata": {},
     "output_type": "execute_result"
    }
   ],
   "source": [
    "for index, row in data1.iterrows():\n",
    "    endOfSurname = row['ФАМИЛИЯ'][len(row['ФАМИЛИЯ'])-1]\n",
    "    endOfName = row['ИМЯ'][len(row['ИМЯ'])-1]\n",
    "    endOfLastname = row['ОТЧЕСТВО'][len(row['ОТЧЕСТВО'])-2:]\n",
    "    row['ФАМ_ОКОНЧ'] = endOfSurname\n",
    "    row['ИМЯ_ОКОНЧ'] = endOfName\n",
    "    row['ОТЧ_ОКОНЧ'] = endOfLastname\n",
    "data1.head()"
   ]
  },
  {
   "cell_type": "markdown",
   "metadata": {},
   "source": [
    "Создадим словари для конвертирования окончаний в числа. При этом 1 будет значить принадлежность к женскому полу, -1 - к мужскому, а 0 - неопределенные данные. Заполним этими значениями новые столбцы для кодировки окончаний, а все пропущенные значения заменим на 0."
   ]
  },
  {
   "cell_type": "code",
   "execution_count": 50,
   "metadata": {},
   "outputs": [
    {
     "data": {
      "text/html": [
       "<div>\n",
       "<style scoped>\n",
       "    .dataframe tbody tr th:only-of-type {\n",
       "        vertical-align: middle;\n",
       "    }\n",
       "\n",
       "    .dataframe tbody tr th {\n",
       "        vertical-align: top;\n",
       "    }\n",
       "\n",
       "    .dataframe thead th {\n",
       "        text-align: right;\n",
       "    }\n",
       "</style>\n",
       "<table border=\"1\" class=\"dataframe\">\n",
       "  <thead>\n",
       "    <tr style=\"text-align: right;\">\n",
       "      <th></th>\n",
       "      <th>ФАМИЛИЯ</th>\n",
       "      <th>ИМЯ</th>\n",
       "      <th>ОТЧЕСТВО</th>\n",
       "      <th>ПОЛ</th>\n",
       "      <th>ФАМИЛИЯ_КОД</th>\n",
       "      <th>ИМЯ_КОД</th>\n",
       "      <th>ОТЧЕСТВО_КОД</th>\n",
       "    </tr>\n",
       "  </thead>\n",
       "  <tbody>\n",
       "    <tr>\n",
       "      <td>0</td>\n",
       "      <td>АБАБКОВ</td>\n",
       "      <td>СЕРГЕЙ</td>\n",
       "      <td>ИВАНОВИЧ</td>\n",
       "      <td>М</td>\n",
       "      <td>None</td>\n",
       "      <td>None</td>\n",
       "      <td>None</td>\n",
       "    </tr>\n",
       "    <tr>\n",
       "      <td>1</td>\n",
       "      <td>АБАЕВ</td>\n",
       "      <td>АНДРЕЙ</td>\n",
       "      <td>АЛЕКСАНДРОВИЧ</td>\n",
       "      <td>М</td>\n",
       "      <td>None</td>\n",
       "      <td>None</td>\n",
       "      <td>None</td>\n",
       "    </tr>\n",
       "    <tr>\n",
       "      <td>2</td>\n",
       "      <td>АБАЗОВА</td>\n",
       "      <td>ЕЛЕНА</td>\n",
       "      <td>НИКОЛАЕВНА</td>\n",
       "      <td>Ж</td>\n",
       "      <td>None</td>\n",
       "      <td>None</td>\n",
       "      <td>None</td>\n",
       "    </tr>\n",
       "    <tr>\n",
       "      <td>3</td>\n",
       "      <td>АБАКУМОВ</td>\n",
       "      <td>СЕРГЕЙ</td>\n",
       "      <td>ВАСИЛЬЕВИЧ</td>\n",
       "      <td>М</td>\n",
       "      <td>None</td>\n",
       "      <td>None</td>\n",
       "      <td>None</td>\n",
       "    </tr>\n",
       "    <tr>\n",
       "      <td>4</td>\n",
       "      <td>АБАКУМОВ</td>\n",
       "      <td>СЕРГЕЙ</td>\n",
       "      <td>ВАСИЛЬЕВИЧ</td>\n",
       "      <td>М</td>\n",
       "      <td>None</td>\n",
       "      <td>None</td>\n",
       "      <td>None</td>\n",
       "    </tr>\n",
       "  </tbody>\n",
       "</table>\n",
       "</div>"
      ],
      "text/plain": [
       "    ФАМИЛИЯ     ИМЯ       ОТЧЕСТВО ПОЛ ФАМИЛИЯ_КОД ИМЯ_КОД ОТЧЕСТВО_КОД\n",
       "0   АБАБКОВ  СЕРГЕЙ       ИВАНОВИЧ   М        None    None         None\n",
       "1     АБАЕВ  АНДРЕЙ  АЛЕКСАНДРОВИЧ   М        None    None         None\n",
       "2   АБАЗОВА   ЕЛЕНА     НИКОЛАЕВНА   Ж        None    None         None\n",
       "3  АБАКУМОВ  СЕРГЕЙ     ВАСИЛЬЕВИЧ   М        None    None         None\n",
       "4  АБАКУМОВ  СЕРГЕЙ     ВАСИЛЬЕВИЧ   М        None    None         None"
      ]
     },
     "execution_count": 50,
     "metadata": {},
     "output_type": "execute_result"
    }
   ],
   "source": [
    "data1['ФАМИЛИЯ_КОД'] = None\n",
    "data1['ИМЯ_КОД'] = None\n",
    "data1['ОТЧЕСТВО_КОД'] = None\n",
    "data1.head()"
   ]
  },
  {
   "cell_type": "code",
   "execution_count": 55,
   "metadata": {},
   "outputs": [
    {
     "data": {
      "text/html": [
       "<div>\n",
       "<style scoped>\n",
       "    .dataframe tbody tr th:only-of-type {\n",
       "        vertical-align: middle;\n",
       "    }\n",
       "\n",
       "    .dataframe tbody tr th {\n",
       "        vertical-align: top;\n",
       "    }\n",
       "\n",
       "    .dataframe thead th {\n",
       "        text-align: right;\n",
       "    }\n",
       "</style>\n",
       "<table border=\"1\" class=\"dataframe\">\n",
       "  <thead>\n",
       "    <tr style=\"text-align: right;\">\n",
       "      <th></th>\n",
       "      <th>ФАМИЛИЯ</th>\n",
       "      <th>ИМЯ</th>\n",
       "      <th>ОТЧЕСТВО</th>\n",
       "      <th>ПОЛ</th>\n",
       "      <th>ФАМИЛИЯ_КОД</th>\n",
       "      <th>ИМЯ_КОД</th>\n",
       "      <th>ОТЧЕСТВО_КОД</th>\n",
       "      <th>ФАМ_ОКОНЧ</th>\n",
       "      <th>ИМЯ_ОКОНЧ</th>\n",
       "      <th>ОТЧ_ОКОНЧ</th>\n",
       "    </tr>\n",
       "  </thead>\n",
       "  <tbody>\n",
       "    <tr>\n",
       "      <td>0</td>\n",
       "      <td>АБАБКОВ</td>\n",
       "      <td>СЕРГЕЙ</td>\n",
       "      <td>ИВАНОВИЧ</td>\n",
       "      <td>М</td>\n",
       "      <td>-1.0</td>\n",
       "      <td>None</td>\n",
       "      <td>None</td>\n",
       "      <td>В</td>\n",
       "      <td>Й</td>\n",
       "      <td>ИЧ</td>\n",
       "    </tr>\n",
       "    <tr>\n",
       "      <td>1</td>\n",
       "      <td>АБАЕВ</td>\n",
       "      <td>АНДРЕЙ</td>\n",
       "      <td>АЛЕКСАНДРОВИЧ</td>\n",
       "      <td>М</td>\n",
       "      <td>-1.0</td>\n",
       "      <td>None</td>\n",
       "      <td>None</td>\n",
       "      <td>В</td>\n",
       "      <td>Й</td>\n",
       "      <td>ИЧ</td>\n",
       "    </tr>\n",
       "    <tr>\n",
       "      <td>2</td>\n",
       "      <td>АБАЗОВА</td>\n",
       "      <td>ЕЛЕНА</td>\n",
       "      <td>НИКОЛАЕВНА</td>\n",
       "      <td>Ж</td>\n",
       "      <td>1.0</td>\n",
       "      <td>None</td>\n",
       "      <td>None</td>\n",
       "      <td>А</td>\n",
       "      <td>А</td>\n",
       "      <td>НА</td>\n",
       "    </tr>\n",
       "    <tr>\n",
       "      <td>3</td>\n",
       "      <td>АБАКУМОВ</td>\n",
       "      <td>СЕРГЕЙ</td>\n",
       "      <td>ВАСИЛЬЕВИЧ</td>\n",
       "      <td>М</td>\n",
       "      <td>-1.0</td>\n",
       "      <td>None</td>\n",
       "      <td>None</td>\n",
       "      <td>В</td>\n",
       "      <td>Й</td>\n",
       "      <td>ИЧ</td>\n",
       "    </tr>\n",
       "    <tr>\n",
       "      <td>4</td>\n",
       "      <td>АБАКУМОВ</td>\n",
       "      <td>СЕРГЕЙ</td>\n",
       "      <td>ВАСИЛЬЕВИЧ</td>\n",
       "      <td>М</td>\n",
       "      <td>-1.0</td>\n",
       "      <td>None</td>\n",
       "      <td>None</td>\n",
       "      <td>В</td>\n",
       "      <td>Й</td>\n",
       "      <td>ИЧ</td>\n",
       "    </tr>\n",
       "  </tbody>\n",
       "</table>\n",
       "</div>"
      ],
      "text/plain": [
       "    ФАМИЛИЯ     ИМЯ       ОТЧЕСТВО ПОЛ  ФАМИЛИЯ_КОД ИМЯ_КОД ОТЧЕСТВО_КОД  \\\n",
       "0   АБАБКОВ  СЕРГЕЙ       ИВАНОВИЧ   М         -1.0    None         None   \n",
       "1     АБАЕВ  АНДРЕЙ  АЛЕКСАНДРОВИЧ   М         -1.0    None         None   \n",
       "2   АБАЗОВА   ЕЛЕНА     НИКОЛАЕВНА   Ж          1.0    None         None   \n",
       "3  АБАКУМОВ  СЕРГЕЙ     ВАСИЛЬЕВИЧ   М         -1.0    None         None   \n",
       "4  АБАКУМОВ  СЕРГЕЙ     ВАСИЛЬЕВИЧ   М         -1.0    None         None   \n",
       "\n",
       "  ФАМ_ОКОНЧ ИМЯ_ОКОНЧ ОТЧ_ОКОНЧ  \n",
       "0         В         Й        ИЧ  \n",
       "1         В         Й        ИЧ  \n",
       "2         А         А        НА  \n",
       "3         В         Й        ИЧ  \n",
       "4         В         Й        ИЧ  "
      ]
     },
     "execution_count": 55,
     "metadata": {},
     "output_type": "execute_result"
    }
   ],
   "source": [
    "dct = {'А': 1, 'Я': 1, 'Н': -1, 'В': -1, 'Й': -1} \n",
    "data1['ФАМИЛИЯ_КОД'] = data1['ФАМ_ОКОНЧ'].map(dct)\n",
    "data1.head()"
   ]
  },
  {
   "cell_type": "code",
   "execution_count": 57,
   "metadata": {},
   "outputs": [
    {
     "data": {
      "text/html": [
       "<div>\n",
       "<style scoped>\n",
       "    .dataframe tbody tr th:only-of-type {\n",
       "        vertical-align: middle;\n",
       "    }\n",
       "\n",
       "    .dataframe tbody tr th {\n",
       "        vertical-align: top;\n",
       "    }\n",
       "\n",
       "    .dataframe thead th {\n",
       "        text-align: right;\n",
       "    }\n",
       "</style>\n",
       "<table border=\"1\" class=\"dataframe\">\n",
       "  <thead>\n",
       "    <tr style=\"text-align: right;\">\n",
       "      <th></th>\n",
       "      <th>ФАМИЛИЯ</th>\n",
       "      <th>ИМЯ</th>\n",
       "      <th>ОТЧЕСТВО</th>\n",
       "      <th>ПОЛ</th>\n",
       "      <th>ФАМИЛИЯ_КОД</th>\n",
       "      <th>ИМЯ_КОД</th>\n",
       "      <th>ОТЧЕСТВО_КОД</th>\n",
       "      <th>ФАМ_ОКОНЧ</th>\n",
       "      <th>ИМЯ_ОКОНЧ</th>\n",
       "      <th>ОТЧ_ОКОНЧ</th>\n",
       "    </tr>\n",
       "  </thead>\n",
       "  <tbody>\n",
       "    <tr>\n",
       "      <td>0</td>\n",
       "      <td>АБАБКОВ</td>\n",
       "      <td>СЕРГЕЙ</td>\n",
       "      <td>ИВАНОВИЧ</td>\n",
       "      <td>М</td>\n",
       "      <td>-1.0</td>\n",
       "      <td>None</td>\n",
       "      <td>-1.0</td>\n",
       "      <td>В</td>\n",
       "      <td>Й</td>\n",
       "      <td>ИЧ</td>\n",
       "    </tr>\n",
       "    <tr>\n",
       "      <td>1</td>\n",
       "      <td>АБАЕВ</td>\n",
       "      <td>АНДРЕЙ</td>\n",
       "      <td>АЛЕКСАНДРОВИЧ</td>\n",
       "      <td>М</td>\n",
       "      <td>-1.0</td>\n",
       "      <td>None</td>\n",
       "      <td>-1.0</td>\n",
       "      <td>В</td>\n",
       "      <td>Й</td>\n",
       "      <td>ИЧ</td>\n",
       "    </tr>\n",
       "    <tr>\n",
       "      <td>2</td>\n",
       "      <td>АБАЗОВА</td>\n",
       "      <td>ЕЛЕНА</td>\n",
       "      <td>НИКОЛАЕВНА</td>\n",
       "      <td>Ж</td>\n",
       "      <td>1.0</td>\n",
       "      <td>None</td>\n",
       "      <td>1.0</td>\n",
       "      <td>А</td>\n",
       "      <td>А</td>\n",
       "      <td>НА</td>\n",
       "    </tr>\n",
       "    <tr>\n",
       "      <td>3</td>\n",
       "      <td>АБАКУМОВ</td>\n",
       "      <td>СЕРГЕЙ</td>\n",
       "      <td>ВАСИЛЬЕВИЧ</td>\n",
       "      <td>М</td>\n",
       "      <td>-1.0</td>\n",
       "      <td>None</td>\n",
       "      <td>-1.0</td>\n",
       "      <td>В</td>\n",
       "      <td>Й</td>\n",
       "      <td>ИЧ</td>\n",
       "    </tr>\n",
       "    <tr>\n",
       "      <td>4</td>\n",
       "      <td>АБАКУМОВ</td>\n",
       "      <td>СЕРГЕЙ</td>\n",
       "      <td>ВАСИЛЬЕВИЧ</td>\n",
       "      <td>М</td>\n",
       "      <td>-1.0</td>\n",
       "      <td>None</td>\n",
       "      <td>-1.0</td>\n",
       "      <td>В</td>\n",
       "      <td>Й</td>\n",
       "      <td>ИЧ</td>\n",
       "    </tr>\n",
       "  </tbody>\n",
       "</table>\n",
       "</div>"
      ],
      "text/plain": [
       "    ФАМИЛИЯ     ИМЯ       ОТЧЕСТВО ПОЛ  ФАМИЛИЯ_КОД ИМЯ_КОД  ОТЧЕСТВО_КОД  \\\n",
       "0   АБАБКОВ  СЕРГЕЙ       ИВАНОВИЧ   М         -1.0    None          -1.0   \n",
       "1     АБАЕВ  АНДРЕЙ  АЛЕКСАНДРОВИЧ   М         -1.0    None          -1.0   \n",
       "2   АБАЗОВА   ЕЛЕНА     НИКОЛАЕВНА   Ж          1.0    None           1.0   \n",
       "3  АБАКУМОВ  СЕРГЕЙ     ВАСИЛЬЕВИЧ   М         -1.0    None          -1.0   \n",
       "4  АБАКУМОВ  СЕРГЕЙ     ВАСИЛЬЕВИЧ   М         -1.0    None          -1.0   \n",
       "\n",
       "  ФАМ_ОКОНЧ ИМЯ_ОКОНЧ ОТЧ_ОКОНЧ  \n",
       "0         В         Й        ИЧ  \n",
       "1         В         Й        ИЧ  \n",
       "2         А         А        НА  \n",
       "3         В         Й        ИЧ  \n",
       "4         В         Й        ИЧ  "
      ]
     },
     "execution_count": 57,
     "metadata": {},
     "output_type": "execute_result"
    }
   ],
   "source": [
    "dct_third_name = {'ИЧ':-1, 'ЛЫ':-1, 'НА':1, 'ЗЫ':1, 'ВА':1}\n",
    "data1['ОТЧЕСТВО_КОД'] = data1['ОТЧ_ОКОНЧ'].map(dct_third_name)\n",
    "data1.head()"
   ]
  },
  {
   "cell_type": "code",
   "execution_count": 62,
   "metadata": {},
   "outputs": [
    {
     "data": {
      "text/html": [
       "<div>\n",
       "<style scoped>\n",
       "    .dataframe tbody tr th:only-of-type {\n",
       "        vertical-align: middle;\n",
       "    }\n",
       "\n",
       "    .dataframe tbody tr th {\n",
       "        vertical-align: top;\n",
       "    }\n",
       "\n",
       "    .dataframe thead th {\n",
       "        text-align: right;\n",
       "    }\n",
       "</style>\n",
       "<table border=\"1\" class=\"dataframe\">\n",
       "  <thead>\n",
       "    <tr style=\"text-align: right;\">\n",
       "      <th></th>\n",
       "      <th>ФАМИЛИЯ</th>\n",
       "      <th>ИМЯ</th>\n",
       "      <th>ОТЧЕСТВО</th>\n",
       "      <th>ПОЛ</th>\n",
       "      <th>ФАМИЛИЯ_КОД</th>\n",
       "      <th>ИМЯ_КОД</th>\n",
       "      <th>ОТЧЕСТВО_КОД</th>\n",
       "      <th>ФАМ_ОКОНЧ</th>\n",
       "      <th>ИМЯ_ОКОНЧ</th>\n",
       "      <th>ОТЧ_ОКОНЧ</th>\n",
       "    </tr>\n",
       "  </thead>\n",
       "  <tbody>\n",
       "    <tr>\n",
       "      <td>0</td>\n",
       "      <td>АБАБКОВ</td>\n",
       "      <td>СЕРГЕЙ</td>\n",
       "      <td>ИВАНОВИЧ</td>\n",
       "      <td>М</td>\n",
       "      <td>-1.0</td>\n",
       "      <td>-1.0</td>\n",
       "      <td>-1.0</td>\n",
       "      <td>В</td>\n",
       "      <td>Й</td>\n",
       "      <td>ИЧ</td>\n",
       "    </tr>\n",
       "    <tr>\n",
       "      <td>1</td>\n",
       "      <td>АБАЕВ</td>\n",
       "      <td>АНДРЕЙ</td>\n",
       "      <td>АЛЕКСАНДРОВИЧ</td>\n",
       "      <td>М</td>\n",
       "      <td>-1.0</td>\n",
       "      <td>-1.0</td>\n",
       "      <td>-1.0</td>\n",
       "      <td>В</td>\n",
       "      <td>Й</td>\n",
       "      <td>ИЧ</td>\n",
       "    </tr>\n",
       "    <tr>\n",
       "      <td>2</td>\n",
       "      <td>АБАЗОВА</td>\n",
       "      <td>ЕЛЕНА</td>\n",
       "      <td>НИКОЛАЕВНА</td>\n",
       "      <td>Ж</td>\n",
       "      <td>1.0</td>\n",
       "      <td>1.0</td>\n",
       "      <td>1.0</td>\n",
       "      <td>А</td>\n",
       "      <td>А</td>\n",
       "      <td>НА</td>\n",
       "    </tr>\n",
       "    <tr>\n",
       "      <td>3</td>\n",
       "      <td>АБАКУМОВ</td>\n",
       "      <td>СЕРГЕЙ</td>\n",
       "      <td>ВАСИЛЬЕВИЧ</td>\n",
       "      <td>М</td>\n",
       "      <td>-1.0</td>\n",
       "      <td>-1.0</td>\n",
       "      <td>-1.0</td>\n",
       "      <td>В</td>\n",
       "      <td>Й</td>\n",
       "      <td>ИЧ</td>\n",
       "    </tr>\n",
       "    <tr>\n",
       "      <td>4</td>\n",
       "      <td>АБАКУМОВ</td>\n",
       "      <td>СЕРГЕЙ</td>\n",
       "      <td>ВАСИЛЬЕВИЧ</td>\n",
       "      <td>М</td>\n",
       "      <td>-1.0</td>\n",
       "      <td>-1.0</td>\n",
       "      <td>-1.0</td>\n",
       "      <td>В</td>\n",
       "      <td>Й</td>\n",
       "      <td>ИЧ</td>\n",
       "    </tr>\n",
       "  </tbody>\n",
       "</table>\n",
       "</div>"
      ],
      "text/plain": [
       "    ФАМИЛИЯ     ИМЯ       ОТЧЕСТВО ПОЛ  ФАМИЛИЯ_КОД  ИМЯ_КОД  ОТЧЕСТВО_КОД  \\\n",
       "0   АБАБКОВ  СЕРГЕЙ       ИВАНОВИЧ   М         -1.0     -1.0          -1.0   \n",
       "1     АБАЕВ  АНДРЕЙ  АЛЕКСАНДРОВИЧ   М         -1.0     -1.0          -1.0   \n",
       "2   АБАЗОВА   ЕЛЕНА     НИКОЛАЕВНА   Ж          1.0      1.0           1.0   \n",
       "3  АБАКУМОВ  СЕРГЕЙ     ВАСИЛЬЕВИЧ   М         -1.0     -1.0          -1.0   \n",
       "4  АБАКУМОВ  СЕРГЕЙ     ВАСИЛЬЕВИЧ   М         -1.0     -1.0          -1.0   \n",
       "\n",
       "  ФАМ_ОКОНЧ ИМЯ_ОКОНЧ ОТЧ_ОКОНЧ  \n",
       "0         В         Й        ИЧ  \n",
       "1         В         Й        ИЧ  \n",
       "2         А         А        НА  \n",
       "3         В         Й        ИЧ  \n",
       "4         В         Й        ИЧ  "
      ]
     },
     "execution_count": 62,
     "metadata": {},
     "output_type": "execute_result"
    }
   ],
   "source": [
    "dct_name = {'А':1, 'Я':1, 'М':-1, 'Й':-1, 'Н':-1, 'Т':-1, 'Р':-1}\n",
    "data1['ИМЯ_КОД'] = data1['ИМЯ_ОКОНЧ'].map(dct_name)\n",
    "data1.head()"
   ]
  },
  {
   "cell_type": "code",
   "execution_count": 63,
   "metadata": {},
   "outputs": [
    {
     "name": "stdout",
     "output_type": "stream",
     "text": [
      "<class 'pandas.core.frame.DataFrame'>\n",
      "RangeIndex: 62609 entries, 0 to 62608\n",
      "Data columns (total 10 columns):\n",
      "ФАМИЛИЯ         62609 non-null object\n",
      "ИМЯ             62609 non-null object\n",
      "ОТЧЕСТВО        62609 non-null object\n",
      "ПОЛ             62609 non-null object\n",
      "ФАМИЛИЯ_КОД     55897 non-null float64\n",
      "ИМЯ_КОД         56206 non-null float64\n",
      "ОТЧЕСТВО_КОД    62302 non-null float64\n",
      "ФАМ_ОКОНЧ       62609 non-null object\n",
      "ИМЯ_ОКОНЧ       62609 non-null object\n",
      "ОТЧ_ОКОНЧ       62609 non-null object\n",
      "dtypes: float64(3), object(7)\n",
      "memory usage: 4.8+ MB\n"
     ]
    }
   ],
   "source": [
    "data1.info()"
   ]
  },
  {
   "cell_type": "code",
   "execution_count": 65,
   "metadata": {},
   "outputs": [
    {
     "name": "stdout",
     "output_type": "stream",
     "text": [
      "<class 'pandas.core.frame.DataFrame'>\n",
      "RangeIndex: 62609 entries, 0 to 62608\n",
      "Data columns (total 10 columns):\n",
      "ФАМИЛИЯ         62609 non-null object\n",
      "ИМЯ             62609 non-null object\n",
      "ОТЧЕСТВО        62609 non-null object\n",
      "ПОЛ             62609 non-null object\n",
      "ФАМИЛИЯ_КОД     62609 non-null float64\n",
      "ИМЯ_КОД         62609 non-null float64\n",
      "ОТЧЕСТВО_КОД    62609 non-null float64\n",
      "ФАМ_ОКОНЧ       62609 non-null object\n",
      "ИМЯ_ОКОНЧ       62609 non-null object\n",
      "ОТЧ_ОКОНЧ       62609 non-null object\n",
      "dtypes: float64(3), object(7)\n",
      "memory usage: 4.8+ MB\n"
     ]
    }
   ],
   "source": [
    "data1 = data1.fillna(0)\n",
    "data1.info()"
   ]
  },
  {
   "cell_type": "markdown",
   "metadata": {},
   "source": [
    "Таким же образом закодируем пол: женский - 1, мужской - -1."
   ]
  },
  {
   "cell_type": "code",
   "execution_count": 66,
   "metadata": {},
   "outputs": [],
   "source": [
    "data1['ПОЛ_КОД'] = None"
   ]
  },
  {
   "cell_type": "code",
   "execution_count": 67,
   "metadata": {},
   "outputs": [
    {
     "data": {
      "text/html": [
       "<div>\n",
       "<style scoped>\n",
       "    .dataframe tbody tr th:only-of-type {\n",
       "        vertical-align: middle;\n",
       "    }\n",
       "\n",
       "    .dataframe tbody tr th {\n",
       "        vertical-align: top;\n",
       "    }\n",
       "\n",
       "    .dataframe thead th {\n",
       "        text-align: right;\n",
       "    }\n",
       "</style>\n",
       "<table border=\"1\" class=\"dataframe\">\n",
       "  <thead>\n",
       "    <tr style=\"text-align: right;\">\n",
       "      <th></th>\n",
       "      <th>ФАМИЛИЯ</th>\n",
       "      <th>ИМЯ</th>\n",
       "      <th>ОТЧЕСТВО</th>\n",
       "      <th>ПОЛ</th>\n",
       "      <th>ФАМИЛИЯ_КОД</th>\n",
       "      <th>ИМЯ_КОД</th>\n",
       "      <th>ОТЧЕСТВО_КОД</th>\n",
       "      <th>ФАМ_ОКОНЧ</th>\n",
       "      <th>ИМЯ_ОКОНЧ</th>\n",
       "      <th>ОТЧ_ОКОНЧ</th>\n",
       "      <th>ПОЛ_КОД</th>\n",
       "    </tr>\n",
       "  </thead>\n",
       "  <tbody>\n",
       "    <tr>\n",
       "      <td>0</td>\n",
       "      <td>АБАБКОВ</td>\n",
       "      <td>СЕРГЕЙ</td>\n",
       "      <td>ИВАНОВИЧ</td>\n",
       "      <td>М</td>\n",
       "      <td>-1.0</td>\n",
       "      <td>-1.0</td>\n",
       "      <td>-1.0</td>\n",
       "      <td>В</td>\n",
       "      <td>Й</td>\n",
       "      <td>ИЧ</td>\n",
       "      <td>-1</td>\n",
       "    </tr>\n",
       "    <tr>\n",
       "      <td>1</td>\n",
       "      <td>АБАЕВ</td>\n",
       "      <td>АНДРЕЙ</td>\n",
       "      <td>АЛЕКСАНДРОВИЧ</td>\n",
       "      <td>М</td>\n",
       "      <td>-1.0</td>\n",
       "      <td>-1.0</td>\n",
       "      <td>-1.0</td>\n",
       "      <td>В</td>\n",
       "      <td>Й</td>\n",
       "      <td>ИЧ</td>\n",
       "      <td>-1</td>\n",
       "    </tr>\n",
       "    <tr>\n",
       "      <td>2</td>\n",
       "      <td>АБАЗОВА</td>\n",
       "      <td>ЕЛЕНА</td>\n",
       "      <td>НИКОЛАЕВНА</td>\n",
       "      <td>Ж</td>\n",
       "      <td>1.0</td>\n",
       "      <td>1.0</td>\n",
       "      <td>1.0</td>\n",
       "      <td>А</td>\n",
       "      <td>А</td>\n",
       "      <td>НА</td>\n",
       "      <td>1</td>\n",
       "    </tr>\n",
       "    <tr>\n",
       "      <td>3</td>\n",
       "      <td>АБАКУМОВ</td>\n",
       "      <td>СЕРГЕЙ</td>\n",
       "      <td>ВАСИЛЬЕВИЧ</td>\n",
       "      <td>М</td>\n",
       "      <td>-1.0</td>\n",
       "      <td>-1.0</td>\n",
       "      <td>-1.0</td>\n",
       "      <td>В</td>\n",
       "      <td>Й</td>\n",
       "      <td>ИЧ</td>\n",
       "      <td>-1</td>\n",
       "    </tr>\n",
       "    <tr>\n",
       "      <td>4</td>\n",
       "      <td>АБАКУМОВ</td>\n",
       "      <td>СЕРГЕЙ</td>\n",
       "      <td>ВАСИЛЬЕВИЧ</td>\n",
       "      <td>М</td>\n",
       "      <td>-1.0</td>\n",
       "      <td>-1.0</td>\n",
       "      <td>-1.0</td>\n",
       "      <td>В</td>\n",
       "      <td>Й</td>\n",
       "      <td>ИЧ</td>\n",
       "      <td>-1</td>\n",
       "    </tr>\n",
       "  </tbody>\n",
       "</table>\n",
       "</div>"
      ],
      "text/plain": [
       "    ФАМИЛИЯ     ИМЯ       ОТЧЕСТВО ПОЛ  ФАМИЛИЯ_КОД  ИМЯ_КОД  ОТЧЕСТВО_КОД  \\\n",
       "0   АБАБКОВ  СЕРГЕЙ       ИВАНОВИЧ   М         -1.0     -1.0          -1.0   \n",
       "1     АБАЕВ  АНДРЕЙ  АЛЕКСАНДРОВИЧ   М         -1.0     -1.0          -1.0   \n",
       "2   АБАЗОВА   ЕЛЕНА     НИКОЛАЕВНА   Ж          1.0      1.0           1.0   \n",
       "3  АБАКУМОВ  СЕРГЕЙ     ВАСИЛЬЕВИЧ   М         -1.0     -1.0          -1.0   \n",
       "4  АБАКУМОВ  СЕРГЕЙ     ВАСИЛЬЕВИЧ   М         -1.0     -1.0          -1.0   \n",
       "\n",
       "  ФАМ_ОКОНЧ ИМЯ_ОКОНЧ ОТЧ_ОКОНЧ  ПОЛ_КОД  \n",
       "0         В         Й        ИЧ       -1  \n",
       "1         В         Й        ИЧ       -1  \n",
       "2         А         А        НА        1  \n",
       "3         В         Й        ИЧ       -1  \n",
       "4         В         Й        ИЧ       -1  "
      ]
     },
     "execution_count": 67,
     "metadata": {},
     "output_type": "execute_result"
    }
   ],
   "source": [
    "dct_gender = {'Ж':1, 'М':-1}\n",
    "data1['ПОЛ_КОД'] = data1['ПОЛ'].map(dct_gender)\n",
    "data1.head()"
   ]
  },
  {
   "cell_type": "markdown",
   "metadata": {},
   "source": [
    "Теперь можем удалить столбцы с окончаниями, так как они нам больше не нужны."
   ]
  },
  {
   "cell_type": "code",
   "execution_count": 68,
   "metadata": {},
   "outputs": [
    {
     "data": {
      "text/html": [
       "<div>\n",
       "<style scoped>\n",
       "    .dataframe tbody tr th:only-of-type {\n",
       "        vertical-align: middle;\n",
       "    }\n",
       "\n",
       "    .dataframe tbody tr th {\n",
       "        vertical-align: top;\n",
       "    }\n",
       "\n",
       "    .dataframe thead th {\n",
       "        text-align: right;\n",
       "    }\n",
       "</style>\n",
       "<table border=\"1\" class=\"dataframe\">\n",
       "  <thead>\n",
       "    <tr style=\"text-align: right;\">\n",
       "      <th></th>\n",
       "      <th>ФАМИЛИЯ</th>\n",
       "      <th>ИМЯ</th>\n",
       "      <th>ОТЧЕСТВО</th>\n",
       "      <th>ПОЛ</th>\n",
       "      <th>ФАМИЛИЯ_КОД</th>\n",
       "      <th>ИМЯ_КОД</th>\n",
       "      <th>ОТЧЕСТВО_КОД</th>\n",
       "      <th>ПОЛ_КОД</th>\n",
       "    </tr>\n",
       "  </thead>\n",
       "  <tbody>\n",
       "    <tr>\n",
       "      <td>0</td>\n",
       "      <td>АБАБКОВ</td>\n",
       "      <td>СЕРГЕЙ</td>\n",
       "      <td>ИВАНОВИЧ</td>\n",
       "      <td>М</td>\n",
       "      <td>-1.0</td>\n",
       "      <td>-1.0</td>\n",
       "      <td>-1.0</td>\n",
       "      <td>-1</td>\n",
       "    </tr>\n",
       "    <tr>\n",
       "      <td>1</td>\n",
       "      <td>АБАЕВ</td>\n",
       "      <td>АНДРЕЙ</td>\n",
       "      <td>АЛЕКСАНДРОВИЧ</td>\n",
       "      <td>М</td>\n",
       "      <td>-1.0</td>\n",
       "      <td>-1.0</td>\n",
       "      <td>-1.0</td>\n",
       "      <td>-1</td>\n",
       "    </tr>\n",
       "    <tr>\n",
       "      <td>2</td>\n",
       "      <td>АБАЗОВА</td>\n",
       "      <td>ЕЛЕНА</td>\n",
       "      <td>НИКОЛАЕВНА</td>\n",
       "      <td>Ж</td>\n",
       "      <td>1.0</td>\n",
       "      <td>1.0</td>\n",
       "      <td>1.0</td>\n",
       "      <td>1</td>\n",
       "    </tr>\n",
       "    <tr>\n",
       "      <td>3</td>\n",
       "      <td>АБАКУМОВ</td>\n",
       "      <td>СЕРГЕЙ</td>\n",
       "      <td>ВАСИЛЬЕВИЧ</td>\n",
       "      <td>М</td>\n",
       "      <td>-1.0</td>\n",
       "      <td>-1.0</td>\n",
       "      <td>-1.0</td>\n",
       "      <td>-1</td>\n",
       "    </tr>\n",
       "    <tr>\n",
       "      <td>4</td>\n",
       "      <td>АБАКУМОВ</td>\n",
       "      <td>СЕРГЕЙ</td>\n",
       "      <td>ВАСИЛЬЕВИЧ</td>\n",
       "      <td>М</td>\n",
       "      <td>-1.0</td>\n",
       "      <td>-1.0</td>\n",
       "      <td>-1.0</td>\n",
       "      <td>-1</td>\n",
       "    </tr>\n",
       "  </tbody>\n",
       "</table>\n",
       "</div>"
      ],
      "text/plain": [
       "    ФАМИЛИЯ     ИМЯ       ОТЧЕСТВО ПОЛ  ФАМИЛИЯ_КОД  ИМЯ_КОД  ОТЧЕСТВО_КОД  \\\n",
       "0   АБАБКОВ  СЕРГЕЙ       ИВАНОВИЧ   М         -1.0     -1.0          -1.0   \n",
       "1     АБАЕВ  АНДРЕЙ  АЛЕКСАНДРОВИЧ   М         -1.0     -1.0          -1.0   \n",
       "2   АБАЗОВА   ЕЛЕНА     НИКОЛАЕВНА   Ж          1.0      1.0           1.0   \n",
       "3  АБАКУМОВ  СЕРГЕЙ     ВАСИЛЬЕВИЧ   М         -1.0     -1.0          -1.0   \n",
       "4  АБАКУМОВ  СЕРГЕЙ     ВАСИЛЬЕВИЧ   М         -1.0     -1.0          -1.0   \n",
       "\n",
       "   ПОЛ_КОД  \n",
       "0       -1  \n",
       "1       -1  \n",
       "2        1  \n",
       "3       -1  \n",
       "4       -1  "
      ]
     },
     "execution_count": 68,
     "metadata": {},
     "output_type": "execute_result"
    }
   ],
   "source": [
    "data1.drop(['ФАМ_ОКОНЧ', 'ИМЯ_ОКОНЧ', 'ОТЧ_ОКОНЧ'], axis='columns', inplace=True)\n",
    "data1.head()"
   ]
  },
  {
   "cell_type": "markdown",
   "metadata": {},
   "source": [
    "Построим дерево решений для нашей выборки.\n",
    "\n",
    "Создадим массив признаков из столбцов: \"ФАМИЛИЯ_КОД\", \"ИМЯ_КОД\", \"ОТЧЕСТВО_КОД\" и массив классов из столбца \"ПОЛ_КОД\". Разделим выборку на тестовую и трейновую, отдавая тестовой 30 процентов данных."
   ]
  },
  {
   "cell_type": "code",
   "execution_count": 76,
   "metadata": {},
   "outputs": [],
   "source": [
    "X = data1[['ФАМИЛИЯ_КОД', 'ИМЯ_КОД', 'ОТЧЕСТВО_КОД']]\n",
    "y = data1[['ПОЛ_КОД']]\n",
    "from sklearn.model_selection import train_test_split\n",
    "X_train, X_test, y_train, y_test = train_test_split(X, y, test_size=0.3)"
   ]
  },
  {
   "cell_type": "markdown",
   "metadata": {},
   "source": [
    "Найдем наилучшие параметры для нашего обучающегося дерева и обучим наше дерево на них. "
   ]
  },
  {
   "cell_type": "code",
   "execution_count": 77,
   "metadata": {},
   "outputs": [],
   "source": [
    "from sklearn.model_selection import GridSearchCV\n",
    "from sklearn.tree import DecisionTreeClassifier\n",
    "gs = GridSearchCV(DecisionTreeClassifier(random_state=17),\n",
    "                  param_grid = {'max_depth' : range(1, 6),\n",
    "                                'max_features' : ['auto', 'log2', None],\n",
    "                                'min_samples_leaf' : range(1, 6),\n",
    "                                'min_samples_split' : range(2, 6),\n",
    "                                'criterion' : ['gini', 'entropy'],\n",
    "                                'presort' : ['auto', True, False],\n",
    "                                'splitter' : ['best', 'random']},\n",
    "                  cv=7, scoring='accuracy'\n",
    "                  ).fit(X_train, y_train)"
   ]
  },
  {
   "cell_type": "markdown",
   "metadata": {},
   "source": [
    "Наилучшие параметры найдены:"
   ]
  },
  {
   "cell_type": "code",
   "execution_count": 78,
   "metadata": {},
   "outputs": [
    {
     "data": {
      "text/plain": [
       "{'criterion': 'gini',\n",
       " 'max_depth': 3,\n",
       " 'max_features': None,\n",
       " 'min_samples_leaf': 1,\n",
       " 'min_samples_split': 2,\n",
       " 'presort': 'auto',\n",
       " 'splitter': 'best'}"
      ]
     },
     "execution_count": 78,
     "metadata": {},
     "output_type": "execute_result"
    }
   ],
   "source": [
    "gs.best_params_"
   ]
  },
  {
   "cell_type": "code",
   "execution_count": 79,
   "metadata": {},
   "outputs": [
    {
     "data": {
      "text/plain": [
       "DecisionTreeClassifier(class_weight=None, criterion='gini', max_depth=3,\n",
       "                       max_features=None, max_leaf_nodes=None,\n",
       "                       min_impurity_decrease=0.0, min_impurity_split=None,\n",
       "                       min_samples_leaf=1, min_samples_split=2,\n",
       "                       min_weight_fraction_leaf=0.0, presort='auto',\n",
       "                       random_state=None, splitter='best')"
      ]
     },
     "execution_count": 79,
     "metadata": {},
     "output_type": "execute_result"
    }
   ],
   "source": [
    "tree=DecisionTreeClassifier(criterion = 'gini', max_depth = 3, min_samples_leaf = 1, min_samples_split = 2, presort = 'auto', splitter = 'best')\n",
    "tree.fit(X_train, y_train)"
   ]
  },
  {
   "cell_type": "code",
   "execution_count": 80,
   "metadata": {},
   "outputs": [
    {
     "data": {
      "text/plain": [
       "0.9974672568794779"
      ]
     },
     "execution_count": 80,
     "metadata": {},
     "output_type": "execute_result"
    }
   ],
   "source": [
    "tree.score(X_train, y_train)"
   ]
  },
  {
   "cell_type": "markdown",
   "metadata": {},
   "source": [
    "В результате точность нашего дерева решений на трейновой выборке равна 0,997467. "
   ]
  },
  {
   "cell_type": "code",
   "execution_count": 81,
   "metadata": {},
   "outputs": [
    {
     "data": {
      "text/plain": [
       "DecisionTreeClassifier(class_weight=None, criterion='gini', max_depth=3,\n",
       "                       max_features=None, max_leaf_nodes=None,\n",
       "                       min_impurity_decrease=0.0, min_impurity_split=None,\n",
       "                       min_samples_leaf=1, min_samples_split=2,\n",
       "                       min_weight_fraction_leaf=0.0, presort='auto',\n",
       "                       random_state=None, splitter='best')"
      ]
     },
     "execution_count": 81,
     "metadata": {},
     "output_type": "execute_result"
    }
   ],
   "source": [
    "tree.fit(X_test, y_test)"
   ]
  },
  {
   "cell_type": "code",
   "execution_count": 82,
   "metadata": {},
   "outputs": [
    {
     "data": {
      "text/plain": [
       "0.99787041473673"
      ]
     },
     "execution_count": 82,
     "metadata": {},
     "output_type": "execute_result"
    }
   ],
   "source": [
    "tree.score(X_test, y_test)"
   ]
  },
  {
   "cell_type": "markdown",
   "metadata": {},
   "source": [
    "А точность нашего дерева решений на тестовой выборке равна 0,99787."
   ]
  }
 ],
 "metadata": {
  "kernelspec": {
   "display_name": "Python 3",
   "language": "python",
   "name": "python3"
  },
  "language_info": {
   "codemirror_mode": {
    "name": "ipython",
    "version": 3
   },
   "file_extension": ".py",
   "mimetype": "text/x-python",
   "name": "python",
   "nbconvert_exporter": "python",
   "pygments_lexer": "ipython3",
   "version": "3.7.4"
  }
 },
 "nbformat": 4,
 "nbformat_minor": 2
}
