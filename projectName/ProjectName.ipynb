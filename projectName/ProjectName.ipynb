{
 "cells": [
  {
   "cell_type": "markdown",
   "metadata": {},
   "source": [
    "# Определение пола человека по его имени\n",
    "Работу выполнили студентки 2 курса Высшей школы ИТИС Грибанова Анастасия и Шафеева Дина, группа 11-803.\n",
    "\n",
    "**Цель проекта:** научиться по имени, фамилии и отчеству человека определять его пол. \n",
    "\n",
    "Для достижения этой цели берутся данные 62609 человек и на их основе строятся различные модели.\n",
    "Для работы берутся данные русскоязычного населения, из-за наличия у тех отчества, которое будет являться дополнительным параметром для анализа.\n",
    "\n",
    "**Поля:** полями данных являются полные имена, а именно: фамилия, имя, отчество человека. Последнее поле в таблице - пол.\n",
    "\n",
    "**Источник:** https://github.com/Rai220/MlSexDetector/blob/master/dataMini.csv"
   ]
  },
  {
   "cell_type": "markdown",
   "metadata": {},
   "source": [
    "Прежде всего нам нужно импортировать все библиотеки, которые мы будем использовать в дальнейшем."
   ]
  },
  {
   "cell_type": "code",
   "execution_count": null,
   "metadata": {},
   "outputs": [],
   "source": [
    "import chardet\n",
    "import pandas as pd\n",
    "from statistics import mode\n",
    "import warnings\n",
    "warnings.filterwarnings('ignore')\n",
    "from sklearn.model_selection import train_test_split\n",
    "from sklearn.model_selection import GridSearchCV\n",
    "from sklearn.tree import DecisionTreeClassifier\n",
    "from sklearn.ensemble import BaggingClassifier\n",
    "from sklearn.ensemble import RandomForestClassifier\n",
    "from matplotlib import pyplot as plt"
   ]
  },
  {
   "cell_type": "markdown",
   "metadata": {},
   "source": [
    "Теперь загрузим данные."
   ]
  },
  {
   "cell_type": "code",
   "execution_count": 1,
   "metadata": {},
   "outputs": [
    {
     "data": {
      "text/html": [
       "<div>\n",
       "<style scoped>\n",
       "    .dataframe tbody tr th:only-of-type {\n",
       "        vertical-align: middle;\n",
       "    }\n",
       "\n",
       "    .dataframe tbody tr th {\n",
       "        vertical-align: top;\n",
       "    }\n",
       "\n",
       "    .dataframe thead th {\n",
       "        text-align: right;\n",
       "    }\n",
       "</style>\n",
       "<table border=\"1\" class=\"dataframe\">\n",
       "  <thead>\n",
       "    <tr style=\"text-align: right;\">\n",
       "      <th></th>\n",
       "      <th>ФАМИЛИЯ</th>\n",
       "      <th>ИМЯ</th>\n",
       "      <th>ОТЧЕСТВО</th>\n",
       "      <th>ПОЛ</th>\n",
       "    </tr>\n",
       "  </thead>\n",
       "  <tbody>\n",
       "    <tr>\n",
       "      <td>0</td>\n",
       "      <td>АБАБКОВ</td>\n",
       "      <td>СЕРГЕЙ</td>\n",
       "      <td>ИВАНОВИЧ</td>\n",
       "      <td>М</td>\n",
       "    </tr>\n",
       "    <tr>\n",
       "      <td>1</td>\n",
       "      <td>АБАЕВ</td>\n",
       "      <td>АНДРЕЙ</td>\n",
       "      <td>АЛЕКСАНДРОВИЧ</td>\n",
       "      <td>М</td>\n",
       "    </tr>\n",
       "    <tr>\n",
       "      <td>2</td>\n",
       "      <td>АБАЗОВА</td>\n",
       "      <td>ЕЛЕНА</td>\n",
       "      <td>НИКОЛАЕВНА</td>\n",
       "      <td>Ж</td>\n",
       "    </tr>\n",
       "    <tr>\n",
       "      <td>3</td>\n",
       "      <td>АБАКУМОВ</td>\n",
       "      <td>СЕРГЕЙ</td>\n",
       "      <td>ВАСИЛЬЕВИЧ</td>\n",
       "      <td>М</td>\n",
       "    </tr>\n",
       "    <tr>\n",
       "      <td>4</td>\n",
       "      <td>АБАКУМОВ</td>\n",
       "      <td>СЕРГЕЙ</td>\n",
       "      <td>ВАСИЛЬЕВИЧ</td>\n",
       "      <td>М</td>\n",
       "    </tr>\n",
       "  </tbody>\n",
       "</table>\n",
       "</div>"
      ],
      "text/plain": [
       "    ФАМИЛИЯ     ИМЯ       ОТЧЕСТВО ПОЛ\n",
       "0   АБАБКОВ  СЕРГЕЙ       ИВАНОВИЧ   М\n",
       "1     АБАЕВ  АНДРЕЙ  АЛЕКСАНДРОВИЧ   М\n",
       "2   АБАЗОВА   ЕЛЕНА     НИКОЛАЕВНА   Ж\n",
       "3  АБАКУМОВ  СЕРГЕЙ     ВАСИЛЬЕВИЧ   М\n",
       "4  АБАКУМОВ  СЕРГЕЙ     ВАСИЛЬЕВИЧ   М"
      ]
     },
     "execution_count": 1,
     "metadata": {},
     "output_type": "execute_result"
    }
   ],
   "source": [
    "with open('C:/Users/Nastya/dataMini.csv', 'rb') as f:\n",
    "    result = chardet.detect(f.readline()) \n",
    "\n",
    "\n",
    "data = pd.read_csv('C:/Users/Nastya/dataMini.csv', encoding=result['encoding'])\n",
    "data.head()"
   ]
  },
  {
   "cell_type": "code",
   "execution_count": 2,
   "metadata": {},
   "outputs": [
    {
     "data": {
      "text/plain": [
       "(62609, 4)"
      ]
     },
     "execution_count": 2,
     "metadata": {},
     "output_type": "execute_result"
    }
   ],
   "source": [
    "data.shape"
   ]
  },
  {
   "cell_type": "markdown",
   "metadata": {},
   "source": [
    "Узнаем, есть ли в данных пропущенные значения, с помощью функции isnull()"
   ]
  },
  {
   "cell_type": "code",
   "execution_count": 3,
   "metadata": {},
   "outputs": [
    {
     "data": {
      "text/plain": [
       "True"
      ]
     },
     "execution_count": 3,
     "metadata": {},
     "output_type": "execute_result"
    }
   ],
   "source": [
    "data.isnull().any().any()"
   ]
  },
  {
   "cell_type": "code",
   "execution_count": 4,
   "metadata": {},
   "outputs": [
    {
     "name": "stdout",
     "output_type": "stream",
     "text": [
      "<class 'pandas.core.frame.DataFrame'>\n",
      "RangeIndex: 62609 entries, 0 to 62608\n",
      "Data columns (total 4 columns):\n",
      "ФАМИЛИЯ     62609 non-null object\n",
      "ИМЯ         62609 non-null object\n",
      "ОТЧЕСТВО    62579 non-null object\n",
      "ПОЛ         62609 non-null object\n",
      "dtypes: object(4)\n",
      "memory usage: 1.9+ MB\n"
     ]
    }
   ],
   "source": [
    "data.info()"
   ]
  },
  {
   "cell_type": "markdown",
   "metadata": {},
   "source": [
    "Воспользовавшись функцией info(), выяснили, что пропуски встречаются только в столбце «Отчество», и их не так много, всего 30, так что можем заменить их на самое часто встречающееся значение в этом столбце - моду. Найдем это значение."
   ]
  },
  {
   "cell_type": "code",
   "execution_count": 5,
   "metadata": {},
   "outputs": [
    {
     "name": "stdout",
     "output_type": "stream",
     "text": [
      "0    АЛЕКСАНДРОВНА\n",
      "Name: ОТЧЕСТВО, dtype: object\n"
     ]
    }
   ],
   "source": [
    "print(data.mode()['ОТЧЕСТВО'])"
   ]
  },
  {
   "cell_type": "markdown",
   "metadata": {},
   "source": [
    "Подставляем эту моду ('Александровна') в пропущенные ячейки."
   ]
  },
  {
   "cell_type": "code",
   "execution_count": 6,
   "metadata": {},
   "outputs": [
    {
     "name": "stdout",
     "output_type": "stream",
     "text": [
      "         ФАМИЛИЯ     ИМЯ       ОТЧЕСТВО ПОЛ\n",
      "0        АБАБКОВ  СЕРГЕЙ       ИВАНОВИЧ   М\n",
      "1          АБАЕВ  АНДРЕЙ  АЛЕКСАНДРОВИЧ   М\n",
      "2        АБАЗОВА   ЕЛЕНА     НИКОЛАЕВНА   Ж\n",
      "3       АБАКУМОВ  СЕРГЕЙ     ВАСИЛЬЕВИЧ   М\n",
      "4       АБАКУМОВ  СЕРГЕЙ     ВАСИЛЬЕВИЧ   М\n",
      "...          ...     ...            ...  ..\n",
      "62604     ЖАРОВА  МАРИНА    АНАТОЛЬЕВНА   Ж\n",
      "62605  СИРОТКИНА  ГАЛИНА     НИКОЛАЕВНА   Ж\n",
      "62606    ЧУВИЛИН  СЕРГЕЙ     ВИКТОРОВИЧ   М\n",
      "62607    БЕКАСОВ  МИХАИЛ     НИКОЛАЕВИЧ   М\n",
      "62608     ЛЕЗОВА    ИННА     НИКОЛАЕВНА   Ж\n",
      "\n",
      "[62609 rows x 4 columns]\n"
     ]
    }
   ],
   "source": [
    "data = data.fillna('АЛЕКСАНДРОВНА')\n",
    "print(data)"
   ]
  },
  {
   "cell_type": "markdown",
   "metadata": {},
   "source": [
    "Еще раз проверим наши данные на наличие пропущенных значений с помощью той же функции isnull()."
   ]
  },
  {
   "cell_type": "code",
   "execution_count": 7,
   "metadata": {},
   "outputs": [
    {
     "data": {
      "text/plain": [
       "False"
      ]
     },
     "execution_count": 7,
     "metadata": {},
     "output_type": "execute_result"
    }
   ],
   "source": [
    "data.isnull().any().any()"
   ]
  },
  {
   "cell_type": "code",
   "execution_count": 8,
   "metadata": {},
   "outputs": [
    {
     "name": "stdout",
     "output_type": "stream",
     "text": [
      "<class 'pandas.core.frame.DataFrame'>\n",
      "RangeIndex: 62609 entries, 0 to 62608\n",
      "Data columns (total 4 columns):\n",
      "ФАМИЛИЯ     62609 non-null object\n",
      "ИМЯ         62609 non-null object\n",
      "ОТЧЕСТВО    62609 non-null object\n",
      "ПОЛ         62609 non-null object\n",
      "dtypes: object(4)\n",
      "memory usage: 1.9+ MB\n"
     ]
    }
   ],
   "source": [
    "data.info()"
   ]
  },
  {
   "cell_type": "markdown",
   "metadata": {},
   "source": [
    "Пропущенные данные успешно заполнились модой"
   ]
  },
  {
   "cell_type": "markdown",
   "metadata": {},
   "source": [
    "   Наш алгоритм будет строиться на основе окончаний отчеств. Мы выяснили, что большинство отчеств оканчиваются на \"ич\", \"лы\", \"на\", \"зы\" и \"ва\". Из них первые два относятся к мужским отчествам, а последние к женским.\n",
    "\n",
    "   Но при этом в выборке будут встречаться и отчества, которые не относятся к данным категориям, имеющие другие окончания.\n",
    "\n",
    "   Чтобы узнать, к какому полу чаще всего относятся люди, имеющие такие отчества, мы прошлись по всем данным и посчитали сколько человек относится к мужскому полу, а сколько к женскому."
   ]
  },
  {
   "cell_type": "code",
   "execution_count": 9,
   "metadata": {},
   "outputs": [
    {
     "name": "stdout",
     "output_type": "stream",
     "text": [
      "count of male =  195  count of female =  112\n"
     ]
    }
   ],
   "source": [
    "male = 0\n",
    "female = 0\n",
    "for index, row in data.iterrows():\n",
    "    endOfLastname = row['ОТЧЕСТВО'][len(row['ОТЧЕСТВО'])-2:]\n",
    "    if endOfLastname!='ИЧ' and endOfLastname!='ЛЫ' and endOfLastname!='НА' and endOfLastname!='ЗЫ' and endOfLastname!='ВА':\n",
    "        if row['ПОЛ']=='М':\n",
    "            male=male+1\n",
    "        else:\n",
    "            female=female+1\n",
    "print(\"count of male = \", male, \" count of female = \", female)"
   ]
  },
  {
   "cell_type": "markdown",
   "metadata": {},
   "source": [
    "В результате мы выяснили, что мужчин 195, а женщин 112. Так как мужчин больше, мы решили причислять всех людей с отличными от нашей классификации окончаний отчествами к мужскому полу."
   ]
  },
  {
   "cell_type": "code",
   "execution_count": 10,
   "metadata": {},
   "outputs": [
    {
     "name": "stdout",
     "output_type": "stream",
     "text": [
      "<class 'pandas.core.frame.DataFrame'>\n",
      "RangeIndex: 62609 entries, 0 to 62608\n",
      "Data columns (total 5 columns):\n",
      "ФАМИЛИЯ     62609 non-null object\n",
      "ИМЯ         62609 non-null object\n",
      "ОТЧЕСТВО    62609 non-null object\n",
      "ПОЛ         62609 non-null object\n",
      "Pred        0 non-null object\n",
      "dtypes: object(5)\n",
      "memory usage: 2.4+ MB\n"
     ]
    }
   ],
   "source": [
    "data['Pred'] = None\n",
    "data.info()"
   ]
  },
  {
   "cell_type": "markdown",
   "metadata": {},
   "source": [
    "Далее мы создали новый столбец для нашей модели, прошлись по всем данным и заполнили его."
   ]
  },
  {
   "cell_type": "code",
   "execution_count": 11,
   "metadata": {},
   "outputs": [
    {
     "name": "stdout",
     "output_type": "stream",
     "text": [
      "<class 'pandas.core.frame.DataFrame'>\n",
      "RangeIndex: 62609 entries, 0 to 62608\n",
      "Data columns (total 5 columns):\n",
      "ФАМИЛИЯ     62609 non-null object\n",
      "ИМЯ         62609 non-null object\n",
      "ОТЧЕСТВО    62609 non-null object\n",
      "ПОЛ         62609 non-null object\n",
      "Pred        62609 non-null object\n",
      "dtypes: object(5)\n",
      "memory usage: 2.4+ MB\n"
     ]
    }
   ],
   "source": [
    "for index, row in data.iterrows():\n",
    "    endOfLastname = row['ОТЧЕСТВО'][len(row['ОТЧЕСТВО'])-2:]\n",
    "    if endOfLastname=='НА' or endOfLastname=='ЗЫ' or endOfLastname=='ВА':\n",
    "        row['Pred'] = 'Ж'\n",
    "    else:\n",
    "        row['Pred'] = 'М'\n",
    "data.info()"
   ]
  },
  {
   "cell_type": "code",
   "execution_count": 12,
   "metadata": {},
   "outputs": [
    {
     "data": {
      "text/html": [
       "<div>\n",
       "<style scoped>\n",
       "    .dataframe tbody tr th:only-of-type {\n",
       "        vertical-align: middle;\n",
       "    }\n",
       "\n",
       "    .dataframe tbody tr th {\n",
       "        vertical-align: top;\n",
       "    }\n",
       "\n",
       "    .dataframe thead th {\n",
       "        text-align: right;\n",
       "    }\n",
       "</style>\n",
       "<table border=\"1\" class=\"dataframe\">\n",
       "  <thead>\n",
       "    <tr style=\"text-align: right;\">\n",
       "      <th></th>\n",
       "      <th>ФАМИЛИЯ</th>\n",
       "      <th>ИМЯ</th>\n",
       "      <th>ОТЧЕСТВО</th>\n",
       "      <th>ПОЛ</th>\n",
       "      <th>Pred</th>\n",
       "    </tr>\n",
       "  </thead>\n",
       "  <tbody>\n",
       "    <tr>\n",
       "      <td>0</td>\n",
       "      <td>АБАБКОВ</td>\n",
       "      <td>СЕРГЕЙ</td>\n",
       "      <td>ИВАНОВИЧ</td>\n",
       "      <td>М</td>\n",
       "      <td>М</td>\n",
       "    </tr>\n",
       "    <tr>\n",
       "      <td>1</td>\n",
       "      <td>АБАЕВ</td>\n",
       "      <td>АНДРЕЙ</td>\n",
       "      <td>АЛЕКСАНДРОВИЧ</td>\n",
       "      <td>М</td>\n",
       "      <td>М</td>\n",
       "    </tr>\n",
       "    <tr>\n",
       "      <td>2</td>\n",
       "      <td>АБАЗОВА</td>\n",
       "      <td>ЕЛЕНА</td>\n",
       "      <td>НИКОЛАЕВНА</td>\n",
       "      <td>Ж</td>\n",
       "      <td>Ж</td>\n",
       "    </tr>\n",
       "    <tr>\n",
       "      <td>3</td>\n",
       "      <td>АБАКУМОВ</td>\n",
       "      <td>СЕРГЕЙ</td>\n",
       "      <td>ВАСИЛЬЕВИЧ</td>\n",
       "      <td>М</td>\n",
       "      <td>М</td>\n",
       "    </tr>\n",
       "    <tr>\n",
       "      <td>4</td>\n",
       "      <td>АБАКУМОВ</td>\n",
       "      <td>СЕРГЕЙ</td>\n",
       "      <td>ВАСИЛЬЕВИЧ</td>\n",
       "      <td>М</td>\n",
       "      <td>М</td>\n",
       "    </tr>\n",
       "  </tbody>\n",
       "</table>\n",
       "</div>"
      ],
      "text/plain": [
       "    ФАМИЛИЯ     ИМЯ       ОТЧЕСТВО ПОЛ Pred\n",
       "0   АБАБКОВ  СЕРГЕЙ       ИВАНОВИЧ   М    М\n",
       "1     АБАЕВ  АНДРЕЙ  АЛЕКСАНДРОВИЧ   М    М\n",
       "2   АБАЗОВА   ЕЛЕНА     НИКОЛАЕВНА   Ж    Ж\n",
       "3  АБАКУМОВ  СЕРГЕЙ     ВАСИЛЬЕВИЧ   М    М\n",
       "4  АБАКУМОВ  СЕРГЕЙ     ВАСИЛЬЕВИЧ   М    М"
      ]
     },
     "execution_count": 12,
     "metadata": {},
     "output_type": "execute_result"
    }
   ],
   "source": [
    "data.head()"
   ]
  },
  {
   "cell_type": "code",
   "execution_count": 13,
   "metadata": {},
   "outputs": [
    {
     "data": {
      "text/html": [
       "<div>\n",
       "<style scoped>\n",
       "    .dataframe tbody tr th:only-of-type {\n",
       "        vertical-align: middle;\n",
       "    }\n",
       "\n",
       "    .dataframe tbody tr th {\n",
       "        vertical-align: top;\n",
       "    }\n",
       "\n",
       "    .dataframe thead th {\n",
       "        text-align: right;\n",
       "    }\n",
       "</style>\n",
       "<table border=\"1\" class=\"dataframe\">\n",
       "  <thead>\n",
       "    <tr style=\"text-align: right;\">\n",
       "      <th></th>\n",
       "      <th>ФАМИЛИЯ</th>\n",
       "      <th>ИМЯ</th>\n",
       "      <th>ОТЧЕСТВО</th>\n",
       "      <th>ПОЛ</th>\n",
       "      <th>Pred</th>\n",
       "    </tr>\n",
       "  </thead>\n",
       "  <tbody>\n",
       "    <tr>\n",
       "      <td>62604</td>\n",
       "      <td>ЖАРОВА</td>\n",
       "      <td>МАРИНА</td>\n",
       "      <td>АНАТОЛЬЕВНА</td>\n",
       "      <td>Ж</td>\n",
       "      <td>Ж</td>\n",
       "    </tr>\n",
       "    <tr>\n",
       "      <td>62605</td>\n",
       "      <td>СИРОТКИНА</td>\n",
       "      <td>ГАЛИНА</td>\n",
       "      <td>НИКОЛАЕВНА</td>\n",
       "      <td>Ж</td>\n",
       "      <td>Ж</td>\n",
       "    </tr>\n",
       "    <tr>\n",
       "      <td>62606</td>\n",
       "      <td>ЧУВИЛИН</td>\n",
       "      <td>СЕРГЕЙ</td>\n",
       "      <td>ВИКТОРОВИЧ</td>\n",
       "      <td>М</td>\n",
       "      <td>М</td>\n",
       "    </tr>\n",
       "    <tr>\n",
       "      <td>62607</td>\n",
       "      <td>БЕКАСОВ</td>\n",
       "      <td>МИХАИЛ</td>\n",
       "      <td>НИКОЛАЕВИЧ</td>\n",
       "      <td>М</td>\n",
       "      <td>М</td>\n",
       "    </tr>\n",
       "    <tr>\n",
       "      <td>62608</td>\n",
       "      <td>ЛЕЗОВА</td>\n",
       "      <td>ИННА</td>\n",
       "      <td>НИКОЛАЕВНА</td>\n",
       "      <td>Ж</td>\n",
       "      <td>Ж</td>\n",
       "    </tr>\n",
       "  </tbody>\n",
       "</table>\n",
       "</div>"
      ],
      "text/plain": [
       "         ФАМИЛИЯ     ИМЯ     ОТЧЕСТВО ПОЛ Pred\n",
       "62604     ЖАРОВА  МАРИНА  АНАТОЛЬЕВНА   Ж    Ж\n",
       "62605  СИРОТКИНА  ГАЛИНА   НИКОЛАЕВНА   Ж    Ж\n",
       "62606    ЧУВИЛИН  СЕРГЕЙ   ВИКТОРОВИЧ   М    М\n",
       "62607    БЕКАСОВ  МИХАИЛ   НИКОЛАЕВИЧ   М    М\n",
       "62608     ЛЕЗОВА    ИННА   НИКОЛАЕВНА   Ж    Ж"
      ]
     },
     "execution_count": 13,
     "metadata": {},
     "output_type": "execute_result"
    }
   ],
   "source": [
    "data.tail()"
   ]
  },
  {
   "cell_type": "code",
   "execution_count": 14,
   "metadata": {},
   "outputs": [
    {
     "name": "stdout",
     "output_type": "stream",
     "text": [
      "accuracy is  0.9963583510357936\n"
     ]
    }
   ],
   "source": [
    "accuracy = 0\n",
    "for index, row in data.iterrows():\n",
    "    if row['Pred']==row['ПОЛ']:\n",
    "        accuracy=accuracy+1\n",
    "print('accuracy is ', accuracy/len(data))"
   ]
  },
  {
   "cell_type": "markdown",
   "metadata": {},
   "source": [
    "Чтобы выяснить точность нашей модели, мы еще раз прошлись по всем данным и сравнили готовое значение пола с нашим прогнозом. Результат поделили на количество всех элементов. \n",
    "\n",
    "Итак, точность нашего алгоритма равняется 0,996."
   ]
  },
  {
   "cell_type": "markdown",
   "metadata": {},
   "source": [
    "Для сравнения воспользуемся методами машинного обучения. Для этого еще раз считаем данные, чтобы избавиться от изменений, которые мы внесли при предыдущей работе с ними."
   ]
  },
  {
   "cell_type": "code",
   "execution_count": 15,
   "metadata": {},
   "outputs": [
    {
     "data": {
      "text/html": [
       "<div>\n",
       "<style scoped>\n",
       "    .dataframe tbody tr th:only-of-type {\n",
       "        vertical-align: middle;\n",
       "    }\n",
       "\n",
       "    .dataframe tbody tr th {\n",
       "        vertical-align: top;\n",
       "    }\n",
       "\n",
       "    .dataframe thead th {\n",
       "        text-align: right;\n",
       "    }\n",
       "</style>\n",
       "<table border=\"1\" class=\"dataframe\">\n",
       "  <thead>\n",
       "    <tr style=\"text-align: right;\">\n",
       "      <th></th>\n",
       "      <th>ФАМИЛИЯ</th>\n",
       "      <th>ИМЯ</th>\n",
       "      <th>ОТЧЕСТВО</th>\n",
       "      <th>ПОЛ</th>\n",
       "    </tr>\n",
       "  </thead>\n",
       "  <tbody>\n",
       "    <tr>\n",
       "      <td>0</td>\n",
       "      <td>АБАБКОВ</td>\n",
       "      <td>СЕРГЕЙ</td>\n",
       "      <td>ИВАНОВИЧ</td>\n",
       "      <td>М</td>\n",
       "    </tr>\n",
       "    <tr>\n",
       "      <td>1</td>\n",
       "      <td>АБАЕВ</td>\n",
       "      <td>АНДРЕЙ</td>\n",
       "      <td>АЛЕКСАНДРОВИЧ</td>\n",
       "      <td>М</td>\n",
       "    </tr>\n",
       "    <tr>\n",
       "      <td>2</td>\n",
       "      <td>АБАЗОВА</td>\n",
       "      <td>ЕЛЕНА</td>\n",
       "      <td>НИКОЛАЕВНА</td>\n",
       "      <td>Ж</td>\n",
       "    </tr>\n",
       "    <tr>\n",
       "      <td>3</td>\n",
       "      <td>АБАКУМОВ</td>\n",
       "      <td>СЕРГЕЙ</td>\n",
       "      <td>ВАСИЛЬЕВИЧ</td>\n",
       "      <td>М</td>\n",
       "    </tr>\n",
       "    <tr>\n",
       "      <td>4</td>\n",
       "      <td>АБАКУМОВ</td>\n",
       "      <td>СЕРГЕЙ</td>\n",
       "      <td>ВАСИЛЬЕВИЧ</td>\n",
       "      <td>М</td>\n",
       "    </tr>\n",
       "  </tbody>\n",
       "</table>\n",
       "</div>"
      ],
      "text/plain": [
       "    ФАМИЛИЯ     ИМЯ       ОТЧЕСТВО ПОЛ\n",
       "0   АБАБКОВ  СЕРГЕЙ       ИВАНОВИЧ   М\n",
       "1     АБАЕВ  АНДРЕЙ  АЛЕКСАНДРОВИЧ   М\n",
       "2   АБАЗОВА   ЕЛЕНА     НИКОЛАЕВНА   Ж\n",
       "3  АБАКУМОВ  СЕРГЕЙ     ВАСИЛЬЕВИЧ   М\n",
       "4  АБАКУМОВ  СЕРГЕЙ     ВАСИЛЬЕВИЧ   М"
      ]
     },
     "execution_count": 15,
     "metadata": {},
     "output_type": "execute_result"
    }
   ],
   "source": [
    "with open('C:/Users/Nastya/dataMini.csv', 'rb') as f:\n",
    "    result = chardet.detect(f.readline()) \n",
    "\n",
    "\n",
    "data1 = pd.read_csv('C:/Users/Nastya/dataMini.csv', encoding=result['encoding'])\n",
    "data1.head()"
   ]
  },
  {
   "cell_type": "markdown",
   "metadata": {},
   "source": [
    "Прежде всего опять заполним пропущенные значения в столбце \"Отчество\" на чаще встречающееся - Александровна."
   ]
  },
  {
   "cell_type": "code",
   "execution_count": 16,
   "metadata": {},
   "outputs": [
    {
     "name": "stdout",
     "output_type": "stream",
     "text": [
      "         ФАМИЛИЯ     ИМЯ       ОТЧЕСТВО ПОЛ\n",
      "0        АБАБКОВ  СЕРГЕЙ       ИВАНОВИЧ   М\n",
      "1          АБАЕВ  АНДРЕЙ  АЛЕКСАНДРОВИЧ   М\n",
      "2        АБАЗОВА   ЕЛЕНА     НИКОЛАЕВНА   Ж\n",
      "3       АБАКУМОВ  СЕРГЕЙ     ВАСИЛЬЕВИЧ   М\n",
      "4       АБАКУМОВ  СЕРГЕЙ     ВАСИЛЬЕВИЧ   М\n",
      "...          ...     ...            ...  ..\n",
      "62604     ЖАРОВА  МАРИНА    АНАТОЛЬЕВНА   Ж\n",
      "62605  СИРОТКИНА  ГАЛИНА     НИКОЛАЕВНА   Ж\n",
      "62606    ЧУВИЛИН  СЕРГЕЙ     ВИКТОРОВИЧ   М\n",
      "62607    БЕКАСОВ  МИХАИЛ     НИКОЛАЕВИЧ   М\n",
      "62608     ЛЕЗОВА    ИННА     НИКОЛАЕВНА   Ж\n",
      "\n",
      "[62609 rows x 4 columns]\n"
     ]
    }
   ],
   "source": [
    "data1 = data1.fillna('АЛЕКСАНДРОВНА')\n",
    "print(data1)"
   ]
  },
  {
   "cell_type": "markdown",
   "metadata": {},
   "source": [
    "Так как большинство методов машинного обучения может работать только с числовыми значениями, нам нужно изменить наши строковые данные. Для анализа имен достаточно иметь информацию об окончаниях всех частей ФИО. Для имени и фамилии нам будет достаточно последней буквы, а для отчества возьмем последние две."
   ]
  },
  {
   "cell_type": "code",
   "execution_count": 17,
   "metadata": {},
   "outputs": [
    {
     "data": {
      "text/html": [
       "<div>\n",
       "<style scoped>\n",
       "    .dataframe tbody tr th:only-of-type {\n",
       "        vertical-align: middle;\n",
       "    }\n",
       "\n",
       "    .dataframe tbody tr th {\n",
       "        vertical-align: top;\n",
       "    }\n",
       "\n",
       "    .dataframe thead th {\n",
       "        text-align: right;\n",
       "    }\n",
       "</style>\n",
       "<table border=\"1\" class=\"dataframe\">\n",
       "  <thead>\n",
       "    <tr style=\"text-align: right;\">\n",
       "      <th></th>\n",
       "      <th>ФАМИЛИЯ</th>\n",
       "      <th>ИМЯ</th>\n",
       "      <th>ОТЧЕСТВО</th>\n",
       "      <th>ПОЛ</th>\n",
       "      <th>ФАМ_ОКОНЧ</th>\n",
       "      <th>ИМЯ_ОКОНЧ</th>\n",
       "      <th>ОТЧ_ОКОНЧ</th>\n",
       "    </tr>\n",
       "  </thead>\n",
       "  <tbody>\n",
       "    <tr>\n",
       "      <td>0</td>\n",
       "      <td>АБАБКОВ</td>\n",
       "      <td>СЕРГЕЙ</td>\n",
       "      <td>ИВАНОВИЧ</td>\n",
       "      <td>М</td>\n",
       "      <td>None</td>\n",
       "      <td>None</td>\n",
       "      <td>None</td>\n",
       "    </tr>\n",
       "    <tr>\n",
       "      <td>1</td>\n",
       "      <td>АБАЕВ</td>\n",
       "      <td>АНДРЕЙ</td>\n",
       "      <td>АЛЕКСАНДРОВИЧ</td>\n",
       "      <td>М</td>\n",
       "      <td>None</td>\n",
       "      <td>None</td>\n",
       "      <td>None</td>\n",
       "    </tr>\n",
       "    <tr>\n",
       "      <td>2</td>\n",
       "      <td>АБАЗОВА</td>\n",
       "      <td>ЕЛЕНА</td>\n",
       "      <td>НИКОЛАЕВНА</td>\n",
       "      <td>Ж</td>\n",
       "      <td>None</td>\n",
       "      <td>None</td>\n",
       "      <td>None</td>\n",
       "    </tr>\n",
       "    <tr>\n",
       "      <td>3</td>\n",
       "      <td>АБАКУМОВ</td>\n",
       "      <td>СЕРГЕЙ</td>\n",
       "      <td>ВАСИЛЬЕВИЧ</td>\n",
       "      <td>М</td>\n",
       "      <td>None</td>\n",
       "      <td>None</td>\n",
       "      <td>None</td>\n",
       "    </tr>\n",
       "    <tr>\n",
       "      <td>4</td>\n",
       "      <td>АБАКУМОВ</td>\n",
       "      <td>СЕРГЕЙ</td>\n",
       "      <td>ВАСИЛЬЕВИЧ</td>\n",
       "      <td>М</td>\n",
       "      <td>None</td>\n",
       "      <td>None</td>\n",
       "      <td>None</td>\n",
       "    </tr>\n",
       "  </tbody>\n",
       "</table>\n",
       "</div>"
      ],
      "text/plain": [
       "    ФАМИЛИЯ     ИМЯ       ОТЧЕСТВО ПОЛ ФАМ_ОКОНЧ ИМЯ_ОКОНЧ ОТЧ_ОКОНЧ\n",
       "0   АБАБКОВ  СЕРГЕЙ       ИВАНОВИЧ   М      None      None      None\n",
       "1     АБАЕВ  АНДРЕЙ  АЛЕКСАНДРОВИЧ   М      None      None      None\n",
       "2   АБАЗОВА   ЕЛЕНА     НИКОЛАЕВНА   Ж      None      None      None\n",
       "3  АБАКУМОВ  СЕРГЕЙ     ВАСИЛЬЕВИЧ   М      None      None      None\n",
       "4  АБАКУМОВ  СЕРГЕЙ     ВАСИЛЬЕВИЧ   М      None      None      None"
      ]
     },
     "execution_count": 17,
     "metadata": {},
     "output_type": "execute_result"
    }
   ],
   "source": [
    "data1['ФАМ_ОКОНЧ'] = None\n",
    "data1['ИМЯ_ОКОНЧ'] = None\n",
    "data1['ОТЧ_ОКОНЧ'] = None\n",
    "data1.head()"
   ]
  },
  {
   "cell_type": "code",
   "execution_count": 18,
   "metadata": {},
   "outputs": [
    {
     "name": "stdout",
     "output_type": "stream",
     "text": [
      "<class 'pandas.core.frame.DataFrame'>\n",
      "RangeIndex: 62609 entries, 0 to 62608\n",
      "Data columns (total 7 columns):\n",
      "ФАМИЛИЯ      62609 non-null object\n",
      "ИМЯ          62609 non-null object\n",
      "ОТЧЕСТВО     62609 non-null object\n",
      "ПОЛ          62609 non-null object\n",
      "ФАМ_ОКОНЧ    0 non-null object\n",
      "ИМЯ_ОКОНЧ    0 non-null object\n",
      "ОТЧ_ОКОНЧ    0 non-null object\n",
      "dtypes: object(7)\n",
      "memory usage: 3.3+ MB\n"
     ]
    }
   ],
   "source": [
    "data1.info()"
   ]
  },
  {
   "cell_type": "code",
   "execution_count": 19,
   "metadata": {},
   "outputs": [
    {
     "data": {
      "text/html": [
       "<div>\n",
       "<style scoped>\n",
       "    .dataframe tbody tr th:only-of-type {\n",
       "        vertical-align: middle;\n",
       "    }\n",
       "\n",
       "    .dataframe tbody tr th {\n",
       "        vertical-align: top;\n",
       "    }\n",
       "\n",
       "    .dataframe thead th {\n",
       "        text-align: right;\n",
       "    }\n",
       "</style>\n",
       "<table border=\"1\" class=\"dataframe\">\n",
       "  <thead>\n",
       "    <tr style=\"text-align: right;\">\n",
       "      <th></th>\n",
       "      <th>ФАМИЛИЯ</th>\n",
       "      <th>ИМЯ</th>\n",
       "      <th>ОТЧЕСТВО</th>\n",
       "      <th>ПОЛ</th>\n",
       "      <th>ФАМ_ОКОНЧ</th>\n",
       "      <th>ИМЯ_ОКОНЧ</th>\n",
       "      <th>ОТЧ_ОКОНЧ</th>\n",
       "    </tr>\n",
       "  </thead>\n",
       "  <tbody>\n",
       "    <tr>\n",
       "      <td>0</td>\n",
       "      <td>АБАБКОВ</td>\n",
       "      <td>СЕРГЕЙ</td>\n",
       "      <td>ИВАНОВИЧ</td>\n",
       "      <td>М</td>\n",
       "      <td>В</td>\n",
       "      <td>Й</td>\n",
       "      <td>ИЧ</td>\n",
       "    </tr>\n",
       "    <tr>\n",
       "      <td>1</td>\n",
       "      <td>АБАЕВ</td>\n",
       "      <td>АНДРЕЙ</td>\n",
       "      <td>АЛЕКСАНДРОВИЧ</td>\n",
       "      <td>М</td>\n",
       "      <td>В</td>\n",
       "      <td>Й</td>\n",
       "      <td>ИЧ</td>\n",
       "    </tr>\n",
       "    <tr>\n",
       "      <td>2</td>\n",
       "      <td>АБАЗОВА</td>\n",
       "      <td>ЕЛЕНА</td>\n",
       "      <td>НИКОЛАЕВНА</td>\n",
       "      <td>Ж</td>\n",
       "      <td>А</td>\n",
       "      <td>А</td>\n",
       "      <td>НА</td>\n",
       "    </tr>\n",
       "    <tr>\n",
       "      <td>3</td>\n",
       "      <td>АБАКУМОВ</td>\n",
       "      <td>СЕРГЕЙ</td>\n",
       "      <td>ВАСИЛЬЕВИЧ</td>\n",
       "      <td>М</td>\n",
       "      <td>В</td>\n",
       "      <td>Й</td>\n",
       "      <td>ИЧ</td>\n",
       "    </tr>\n",
       "    <tr>\n",
       "      <td>4</td>\n",
       "      <td>АБАКУМОВ</td>\n",
       "      <td>СЕРГЕЙ</td>\n",
       "      <td>ВАСИЛЬЕВИЧ</td>\n",
       "      <td>М</td>\n",
       "      <td>В</td>\n",
       "      <td>Й</td>\n",
       "      <td>ИЧ</td>\n",
       "    </tr>\n",
       "  </tbody>\n",
       "</table>\n",
       "</div>"
      ],
      "text/plain": [
       "    ФАМИЛИЯ     ИМЯ       ОТЧЕСТВО ПОЛ ФАМ_ОКОНЧ ИМЯ_ОКОНЧ ОТЧ_ОКОНЧ\n",
       "0   АБАБКОВ  СЕРГЕЙ       ИВАНОВИЧ   М         В         Й        ИЧ\n",
       "1     АБАЕВ  АНДРЕЙ  АЛЕКСАНДРОВИЧ   М         В         Й        ИЧ\n",
       "2   АБАЗОВА   ЕЛЕНА     НИКОЛАЕВНА   Ж         А         А        НА\n",
       "3  АБАКУМОВ  СЕРГЕЙ     ВАСИЛЬЕВИЧ   М         В         Й        ИЧ\n",
       "4  АБАКУМОВ  СЕРГЕЙ     ВАСИЛЬЕВИЧ   М         В         Й        ИЧ"
      ]
     },
     "execution_count": 19,
     "metadata": {},
     "output_type": "execute_result"
    }
   ],
   "source": [
    "for index, row in data1.iterrows():\n",
    "    endOfSurname = row['ФАМИЛИЯ'][len(row['ФАМИЛИЯ'])-1]\n",
    "    endOfName = row['ИМЯ'][len(row['ИМЯ'])-1]\n",
    "    endOfLastname = row['ОТЧЕСТВО'][len(row['ОТЧЕСТВО'])-2:]\n",
    "    row['ФАМ_ОКОНЧ'] = endOfSurname\n",
    "    row['ИМЯ_ОКОНЧ'] = endOfName\n",
    "    row['ОТЧ_ОКОНЧ'] = endOfLastname\n",
    "data1.head()"
   ]
  },
  {
   "cell_type": "markdown",
   "metadata": {},
   "source": [
    "Создадим словари для конвертирования окончаний в числа. При этом 1 будет значить принадлежность к женскому полу, -1 - к мужскому, а 0 - неопределенные данные. Заполним этими значениями новые столбцы для кодировки окончаний, а все пропущенные значения заменим на 0."
   ]
  },
  {
   "cell_type": "code",
   "execution_count": 20,
   "metadata": {},
   "outputs": [
    {
     "data": {
      "text/html": [
       "<div>\n",
       "<style scoped>\n",
       "    .dataframe tbody tr th:only-of-type {\n",
       "        vertical-align: middle;\n",
       "    }\n",
       "\n",
       "    .dataframe tbody tr th {\n",
       "        vertical-align: top;\n",
       "    }\n",
       "\n",
       "    .dataframe thead th {\n",
       "        text-align: right;\n",
       "    }\n",
       "</style>\n",
       "<table border=\"1\" class=\"dataframe\">\n",
       "  <thead>\n",
       "    <tr style=\"text-align: right;\">\n",
       "      <th></th>\n",
       "      <th>ФАМИЛИЯ</th>\n",
       "      <th>ИМЯ</th>\n",
       "      <th>ОТЧЕСТВО</th>\n",
       "      <th>ПОЛ</th>\n",
       "      <th>ФАМ_ОКОНЧ</th>\n",
       "      <th>ИМЯ_ОКОНЧ</th>\n",
       "      <th>ОТЧ_ОКОНЧ</th>\n",
       "      <th>ФАМИЛИЯ_КОД</th>\n",
       "      <th>ИМЯ_КОД</th>\n",
       "      <th>ОТЧЕСТВО_КОД</th>\n",
       "    </tr>\n",
       "  </thead>\n",
       "  <tbody>\n",
       "    <tr>\n",
       "      <td>0</td>\n",
       "      <td>АБАБКОВ</td>\n",
       "      <td>СЕРГЕЙ</td>\n",
       "      <td>ИВАНОВИЧ</td>\n",
       "      <td>М</td>\n",
       "      <td>В</td>\n",
       "      <td>Й</td>\n",
       "      <td>ИЧ</td>\n",
       "      <td>None</td>\n",
       "      <td>None</td>\n",
       "      <td>None</td>\n",
       "    </tr>\n",
       "    <tr>\n",
       "      <td>1</td>\n",
       "      <td>АБАЕВ</td>\n",
       "      <td>АНДРЕЙ</td>\n",
       "      <td>АЛЕКСАНДРОВИЧ</td>\n",
       "      <td>М</td>\n",
       "      <td>В</td>\n",
       "      <td>Й</td>\n",
       "      <td>ИЧ</td>\n",
       "      <td>None</td>\n",
       "      <td>None</td>\n",
       "      <td>None</td>\n",
       "    </tr>\n",
       "    <tr>\n",
       "      <td>2</td>\n",
       "      <td>АБАЗОВА</td>\n",
       "      <td>ЕЛЕНА</td>\n",
       "      <td>НИКОЛАЕВНА</td>\n",
       "      <td>Ж</td>\n",
       "      <td>А</td>\n",
       "      <td>А</td>\n",
       "      <td>НА</td>\n",
       "      <td>None</td>\n",
       "      <td>None</td>\n",
       "      <td>None</td>\n",
       "    </tr>\n",
       "    <tr>\n",
       "      <td>3</td>\n",
       "      <td>АБАКУМОВ</td>\n",
       "      <td>СЕРГЕЙ</td>\n",
       "      <td>ВАСИЛЬЕВИЧ</td>\n",
       "      <td>М</td>\n",
       "      <td>В</td>\n",
       "      <td>Й</td>\n",
       "      <td>ИЧ</td>\n",
       "      <td>None</td>\n",
       "      <td>None</td>\n",
       "      <td>None</td>\n",
       "    </tr>\n",
       "    <tr>\n",
       "      <td>4</td>\n",
       "      <td>АБАКУМОВ</td>\n",
       "      <td>СЕРГЕЙ</td>\n",
       "      <td>ВАСИЛЬЕВИЧ</td>\n",
       "      <td>М</td>\n",
       "      <td>В</td>\n",
       "      <td>Й</td>\n",
       "      <td>ИЧ</td>\n",
       "      <td>None</td>\n",
       "      <td>None</td>\n",
       "      <td>None</td>\n",
       "    </tr>\n",
       "  </tbody>\n",
       "</table>\n",
       "</div>"
      ],
      "text/plain": [
       "    ФАМИЛИЯ     ИМЯ       ОТЧЕСТВО ПОЛ ФАМ_ОКОНЧ ИМЯ_ОКОНЧ ОТЧ_ОКОНЧ  \\\n",
       "0   АБАБКОВ  СЕРГЕЙ       ИВАНОВИЧ   М         В         Й        ИЧ   \n",
       "1     АБАЕВ  АНДРЕЙ  АЛЕКСАНДРОВИЧ   М         В         Й        ИЧ   \n",
       "2   АБАЗОВА   ЕЛЕНА     НИКОЛАЕВНА   Ж         А         А        НА   \n",
       "3  АБАКУМОВ  СЕРГЕЙ     ВАСИЛЬЕВИЧ   М         В         Й        ИЧ   \n",
       "4  АБАКУМОВ  СЕРГЕЙ     ВАСИЛЬЕВИЧ   М         В         Й        ИЧ   \n",
       "\n",
       "  ФАМИЛИЯ_КОД ИМЯ_КОД ОТЧЕСТВО_КОД  \n",
       "0        None    None         None  \n",
       "1        None    None         None  \n",
       "2        None    None         None  \n",
       "3        None    None         None  \n",
       "4        None    None         None  "
      ]
     },
     "execution_count": 20,
     "metadata": {},
     "output_type": "execute_result"
    }
   ],
   "source": [
    "data1['ФАМИЛИЯ_КОД'] = None\n",
    "data1['ИМЯ_КОД'] = None\n",
    "data1['ОТЧЕСТВО_КОД'] = None\n",
    "data1.head()"
   ]
  },
  {
   "cell_type": "code",
   "execution_count": 21,
   "metadata": {},
   "outputs": [
    {
     "data": {
      "text/html": [
       "<div>\n",
       "<style scoped>\n",
       "    .dataframe tbody tr th:only-of-type {\n",
       "        vertical-align: middle;\n",
       "    }\n",
       "\n",
       "    .dataframe tbody tr th {\n",
       "        vertical-align: top;\n",
       "    }\n",
       "\n",
       "    .dataframe thead th {\n",
       "        text-align: right;\n",
       "    }\n",
       "</style>\n",
       "<table border=\"1\" class=\"dataframe\">\n",
       "  <thead>\n",
       "    <tr style=\"text-align: right;\">\n",
       "      <th></th>\n",
       "      <th>ФАМИЛИЯ</th>\n",
       "      <th>ИМЯ</th>\n",
       "      <th>ОТЧЕСТВО</th>\n",
       "      <th>ПОЛ</th>\n",
       "      <th>ФАМ_ОКОНЧ</th>\n",
       "      <th>ИМЯ_ОКОНЧ</th>\n",
       "      <th>ОТЧ_ОКОНЧ</th>\n",
       "      <th>ФАМИЛИЯ_КОД</th>\n",
       "      <th>ИМЯ_КОД</th>\n",
       "      <th>ОТЧЕСТВО_КОД</th>\n",
       "    </tr>\n",
       "  </thead>\n",
       "  <tbody>\n",
       "    <tr>\n",
       "      <td>0</td>\n",
       "      <td>АБАБКОВ</td>\n",
       "      <td>СЕРГЕЙ</td>\n",
       "      <td>ИВАНОВИЧ</td>\n",
       "      <td>М</td>\n",
       "      <td>В</td>\n",
       "      <td>Й</td>\n",
       "      <td>ИЧ</td>\n",
       "      <td>-1.0</td>\n",
       "      <td>None</td>\n",
       "      <td>None</td>\n",
       "    </tr>\n",
       "    <tr>\n",
       "      <td>1</td>\n",
       "      <td>АБАЕВ</td>\n",
       "      <td>АНДРЕЙ</td>\n",
       "      <td>АЛЕКСАНДРОВИЧ</td>\n",
       "      <td>М</td>\n",
       "      <td>В</td>\n",
       "      <td>Й</td>\n",
       "      <td>ИЧ</td>\n",
       "      <td>-1.0</td>\n",
       "      <td>None</td>\n",
       "      <td>None</td>\n",
       "    </tr>\n",
       "    <tr>\n",
       "      <td>2</td>\n",
       "      <td>АБАЗОВА</td>\n",
       "      <td>ЕЛЕНА</td>\n",
       "      <td>НИКОЛАЕВНА</td>\n",
       "      <td>Ж</td>\n",
       "      <td>А</td>\n",
       "      <td>А</td>\n",
       "      <td>НА</td>\n",
       "      <td>1.0</td>\n",
       "      <td>None</td>\n",
       "      <td>None</td>\n",
       "    </tr>\n",
       "    <tr>\n",
       "      <td>3</td>\n",
       "      <td>АБАКУМОВ</td>\n",
       "      <td>СЕРГЕЙ</td>\n",
       "      <td>ВАСИЛЬЕВИЧ</td>\n",
       "      <td>М</td>\n",
       "      <td>В</td>\n",
       "      <td>Й</td>\n",
       "      <td>ИЧ</td>\n",
       "      <td>-1.0</td>\n",
       "      <td>None</td>\n",
       "      <td>None</td>\n",
       "    </tr>\n",
       "    <tr>\n",
       "      <td>4</td>\n",
       "      <td>АБАКУМОВ</td>\n",
       "      <td>СЕРГЕЙ</td>\n",
       "      <td>ВАСИЛЬЕВИЧ</td>\n",
       "      <td>М</td>\n",
       "      <td>В</td>\n",
       "      <td>Й</td>\n",
       "      <td>ИЧ</td>\n",
       "      <td>-1.0</td>\n",
       "      <td>None</td>\n",
       "      <td>None</td>\n",
       "    </tr>\n",
       "  </tbody>\n",
       "</table>\n",
       "</div>"
      ],
      "text/plain": [
       "    ФАМИЛИЯ     ИМЯ       ОТЧЕСТВО ПОЛ ФАМ_ОКОНЧ ИМЯ_ОКОНЧ ОТЧ_ОКОНЧ  \\\n",
       "0   АБАБКОВ  СЕРГЕЙ       ИВАНОВИЧ   М         В         Й        ИЧ   \n",
       "1     АБАЕВ  АНДРЕЙ  АЛЕКСАНДРОВИЧ   М         В         Й        ИЧ   \n",
       "2   АБАЗОВА   ЕЛЕНА     НИКОЛАЕВНА   Ж         А         А        НА   \n",
       "3  АБАКУМОВ  СЕРГЕЙ     ВАСИЛЬЕВИЧ   М         В         Й        ИЧ   \n",
       "4  АБАКУМОВ  СЕРГЕЙ     ВАСИЛЬЕВИЧ   М         В         Й        ИЧ   \n",
       "\n",
       "   ФАМИЛИЯ_КОД ИМЯ_КОД ОТЧЕСТВО_КОД  \n",
       "0         -1.0    None         None  \n",
       "1         -1.0    None         None  \n",
       "2          1.0    None         None  \n",
       "3         -1.0    None         None  \n",
       "4         -1.0    None         None  "
      ]
     },
     "execution_count": 21,
     "metadata": {},
     "output_type": "execute_result"
    }
   ],
   "source": [
    "dct = {'А': 1, 'Я': 1, 'Н': -1, 'В': -1, 'Й': -1} \n",
    "data1['ФАМИЛИЯ_КОД'] = data1['ФАМ_ОКОНЧ'].map(dct)\n",
    "data1.head()"
   ]
  },
  {
   "cell_type": "code",
   "execution_count": 22,
   "metadata": {},
   "outputs": [
    {
     "data": {
      "text/html": [
       "<div>\n",
       "<style scoped>\n",
       "    .dataframe tbody tr th:only-of-type {\n",
       "        vertical-align: middle;\n",
       "    }\n",
       "\n",
       "    .dataframe tbody tr th {\n",
       "        vertical-align: top;\n",
       "    }\n",
       "\n",
       "    .dataframe thead th {\n",
       "        text-align: right;\n",
       "    }\n",
       "</style>\n",
       "<table border=\"1\" class=\"dataframe\">\n",
       "  <thead>\n",
       "    <tr style=\"text-align: right;\">\n",
       "      <th></th>\n",
       "      <th>ФАМИЛИЯ</th>\n",
       "      <th>ИМЯ</th>\n",
       "      <th>ОТЧЕСТВО</th>\n",
       "      <th>ПОЛ</th>\n",
       "      <th>ФАМ_ОКОНЧ</th>\n",
       "      <th>ИМЯ_ОКОНЧ</th>\n",
       "      <th>ОТЧ_ОКОНЧ</th>\n",
       "      <th>ФАМИЛИЯ_КОД</th>\n",
       "      <th>ИМЯ_КОД</th>\n",
       "      <th>ОТЧЕСТВО_КОД</th>\n",
       "    </tr>\n",
       "  </thead>\n",
       "  <tbody>\n",
       "    <tr>\n",
       "      <td>0</td>\n",
       "      <td>АБАБКОВ</td>\n",
       "      <td>СЕРГЕЙ</td>\n",
       "      <td>ИВАНОВИЧ</td>\n",
       "      <td>М</td>\n",
       "      <td>В</td>\n",
       "      <td>Й</td>\n",
       "      <td>ИЧ</td>\n",
       "      <td>-1.0</td>\n",
       "      <td>None</td>\n",
       "      <td>-1.0</td>\n",
       "    </tr>\n",
       "    <tr>\n",
       "      <td>1</td>\n",
       "      <td>АБАЕВ</td>\n",
       "      <td>АНДРЕЙ</td>\n",
       "      <td>АЛЕКСАНДРОВИЧ</td>\n",
       "      <td>М</td>\n",
       "      <td>В</td>\n",
       "      <td>Й</td>\n",
       "      <td>ИЧ</td>\n",
       "      <td>-1.0</td>\n",
       "      <td>None</td>\n",
       "      <td>-1.0</td>\n",
       "    </tr>\n",
       "    <tr>\n",
       "      <td>2</td>\n",
       "      <td>АБАЗОВА</td>\n",
       "      <td>ЕЛЕНА</td>\n",
       "      <td>НИКОЛАЕВНА</td>\n",
       "      <td>Ж</td>\n",
       "      <td>А</td>\n",
       "      <td>А</td>\n",
       "      <td>НА</td>\n",
       "      <td>1.0</td>\n",
       "      <td>None</td>\n",
       "      <td>1.0</td>\n",
       "    </tr>\n",
       "    <tr>\n",
       "      <td>3</td>\n",
       "      <td>АБАКУМОВ</td>\n",
       "      <td>СЕРГЕЙ</td>\n",
       "      <td>ВАСИЛЬЕВИЧ</td>\n",
       "      <td>М</td>\n",
       "      <td>В</td>\n",
       "      <td>Й</td>\n",
       "      <td>ИЧ</td>\n",
       "      <td>-1.0</td>\n",
       "      <td>None</td>\n",
       "      <td>-1.0</td>\n",
       "    </tr>\n",
       "    <tr>\n",
       "      <td>4</td>\n",
       "      <td>АБАКУМОВ</td>\n",
       "      <td>СЕРГЕЙ</td>\n",
       "      <td>ВАСИЛЬЕВИЧ</td>\n",
       "      <td>М</td>\n",
       "      <td>В</td>\n",
       "      <td>Й</td>\n",
       "      <td>ИЧ</td>\n",
       "      <td>-1.0</td>\n",
       "      <td>None</td>\n",
       "      <td>-1.0</td>\n",
       "    </tr>\n",
       "  </tbody>\n",
       "</table>\n",
       "</div>"
      ],
      "text/plain": [
       "    ФАМИЛИЯ     ИМЯ       ОТЧЕСТВО ПОЛ ФАМ_ОКОНЧ ИМЯ_ОКОНЧ ОТЧ_ОКОНЧ  \\\n",
       "0   АБАБКОВ  СЕРГЕЙ       ИВАНОВИЧ   М         В         Й        ИЧ   \n",
       "1     АБАЕВ  АНДРЕЙ  АЛЕКСАНДРОВИЧ   М         В         Й        ИЧ   \n",
       "2   АБАЗОВА   ЕЛЕНА     НИКОЛАЕВНА   Ж         А         А        НА   \n",
       "3  АБАКУМОВ  СЕРГЕЙ     ВАСИЛЬЕВИЧ   М         В         Й        ИЧ   \n",
       "4  АБАКУМОВ  СЕРГЕЙ     ВАСИЛЬЕВИЧ   М         В         Й        ИЧ   \n",
       "\n",
       "   ФАМИЛИЯ_КОД ИМЯ_КОД  ОТЧЕСТВО_КОД  \n",
       "0         -1.0    None          -1.0  \n",
       "1         -1.0    None          -1.0  \n",
       "2          1.0    None           1.0  \n",
       "3         -1.0    None          -1.0  \n",
       "4         -1.0    None          -1.0  "
      ]
     },
     "execution_count": 22,
     "metadata": {},
     "output_type": "execute_result"
    }
   ],
   "source": [
    "dct_third_name = {'ИЧ':-1, 'ЛЫ':-1, 'НА':1, 'ЗЫ':1, 'ВА':1}\n",
    "data1['ОТЧЕСТВО_КОД'] = data1['ОТЧ_ОКОНЧ'].map(dct_third_name)\n",
    "data1.head()"
   ]
  },
  {
   "cell_type": "code",
   "execution_count": 23,
   "metadata": {},
   "outputs": [
    {
     "data": {
      "text/html": [
       "<div>\n",
       "<style scoped>\n",
       "    .dataframe tbody tr th:only-of-type {\n",
       "        vertical-align: middle;\n",
       "    }\n",
       "\n",
       "    .dataframe tbody tr th {\n",
       "        vertical-align: top;\n",
       "    }\n",
       "\n",
       "    .dataframe thead th {\n",
       "        text-align: right;\n",
       "    }\n",
       "</style>\n",
       "<table border=\"1\" class=\"dataframe\">\n",
       "  <thead>\n",
       "    <tr style=\"text-align: right;\">\n",
       "      <th></th>\n",
       "      <th>ФАМИЛИЯ</th>\n",
       "      <th>ИМЯ</th>\n",
       "      <th>ОТЧЕСТВО</th>\n",
       "      <th>ПОЛ</th>\n",
       "      <th>ФАМ_ОКОНЧ</th>\n",
       "      <th>ИМЯ_ОКОНЧ</th>\n",
       "      <th>ОТЧ_ОКОНЧ</th>\n",
       "      <th>ФАМИЛИЯ_КОД</th>\n",
       "      <th>ИМЯ_КОД</th>\n",
       "      <th>ОТЧЕСТВО_КОД</th>\n",
       "    </tr>\n",
       "  </thead>\n",
       "  <tbody>\n",
       "    <tr>\n",
       "      <td>0</td>\n",
       "      <td>АБАБКОВ</td>\n",
       "      <td>СЕРГЕЙ</td>\n",
       "      <td>ИВАНОВИЧ</td>\n",
       "      <td>М</td>\n",
       "      <td>В</td>\n",
       "      <td>Й</td>\n",
       "      <td>ИЧ</td>\n",
       "      <td>-1.0</td>\n",
       "      <td>-1.0</td>\n",
       "      <td>-1.0</td>\n",
       "    </tr>\n",
       "    <tr>\n",
       "      <td>1</td>\n",
       "      <td>АБАЕВ</td>\n",
       "      <td>АНДРЕЙ</td>\n",
       "      <td>АЛЕКСАНДРОВИЧ</td>\n",
       "      <td>М</td>\n",
       "      <td>В</td>\n",
       "      <td>Й</td>\n",
       "      <td>ИЧ</td>\n",
       "      <td>-1.0</td>\n",
       "      <td>-1.0</td>\n",
       "      <td>-1.0</td>\n",
       "    </tr>\n",
       "    <tr>\n",
       "      <td>2</td>\n",
       "      <td>АБАЗОВА</td>\n",
       "      <td>ЕЛЕНА</td>\n",
       "      <td>НИКОЛАЕВНА</td>\n",
       "      <td>Ж</td>\n",
       "      <td>А</td>\n",
       "      <td>А</td>\n",
       "      <td>НА</td>\n",
       "      <td>1.0</td>\n",
       "      <td>1.0</td>\n",
       "      <td>1.0</td>\n",
       "    </tr>\n",
       "    <tr>\n",
       "      <td>3</td>\n",
       "      <td>АБАКУМОВ</td>\n",
       "      <td>СЕРГЕЙ</td>\n",
       "      <td>ВАСИЛЬЕВИЧ</td>\n",
       "      <td>М</td>\n",
       "      <td>В</td>\n",
       "      <td>Й</td>\n",
       "      <td>ИЧ</td>\n",
       "      <td>-1.0</td>\n",
       "      <td>-1.0</td>\n",
       "      <td>-1.0</td>\n",
       "    </tr>\n",
       "    <tr>\n",
       "      <td>4</td>\n",
       "      <td>АБАКУМОВ</td>\n",
       "      <td>СЕРГЕЙ</td>\n",
       "      <td>ВАСИЛЬЕВИЧ</td>\n",
       "      <td>М</td>\n",
       "      <td>В</td>\n",
       "      <td>Й</td>\n",
       "      <td>ИЧ</td>\n",
       "      <td>-1.0</td>\n",
       "      <td>-1.0</td>\n",
       "      <td>-1.0</td>\n",
       "    </tr>\n",
       "  </tbody>\n",
       "</table>\n",
       "</div>"
      ],
      "text/plain": [
       "    ФАМИЛИЯ     ИМЯ       ОТЧЕСТВО ПОЛ ФАМ_ОКОНЧ ИМЯ_ОКОНЧ ОТЧ_ОКОНЧ  \\\n",
       "0   АБАБКОВ  СЕРГЕЙ       ИВАНОВИЧ   М         В         Й        ИЧ   \n",
       "1     АБАЕВ  АНДРЕЙ  АЛЕКСАНДРОВИЧ   М         В         Й        ИЧ   \n",
       "2   АБАЗОВА   ЕЛЕНА     НИКОЛАЕВНА   Ж         А         А        НА   \n",
       "3  АБАКУМОВ  СЕРГЕЙ     ВАСИЛЬЕВИЧ   М         В         Й        ИЧ   \n",
       "4  АБАКУМОВ  СЕРГЕЙ     ВАСИЛЬЕВИЧ   М         В         Й        ИЧ   \n",
       "\n",
       "   ФАМИЛИЯ_КОД  ИМЯ_КОД  ОТЧЕСТВО_КОД  \n",
       "0         -1.0     -1.0          -1.0  \n",
       "1         -1.0     -1.0          -1.0  \n",
       "2          1.0      1.0           1.0  \n",
       "3         -1.0     -1.0          -1.0  \n",
       "4         -1.0     -1.0          -1.0  "
      ]
     },
     "execution_count": 23,
     "metadata": {},
     "output_type": "execute_result"
    }
   ],
   "source": [
    "dct_name = {'А':1, 'Я':1, 'М':-1, 'Й':-1, 'Н':-1, 'Т':-1, 'Р':-1}\n",
    "data1['ИМЯ_КОД'] = data1['ИМЯ_ОКОНЧ'].map(dct_name)\n",
    "data1.head()"
   ]
  },
  {
   "cell_type": "code",
   "execution_count": 24,
   "metadata": {},
   "outputs": [
    {
     "name": "stdout",
     "output_type": "stream",
     "text": [
      "<class 'pandas.core.frame.DataFrame'>\n",
      "RangeIndex: 62609 entries, 0 to 62608\n",
      "Data columns (total 10 columns):\n",
      "ФАМИЛИЯ         62609 non-null object\n",
      "ИМЯ             62609 non-null object\n",
      "ОТЧЕСТВО        62609 non-null object\n",
      "ПОЛ             62609 non-null object\n",
      "ФАМ_ОКОНЧ       62609 non-null object\n",
      "ИМЯ_ОКОНЧ       62609 non-null object\n",
      "ОТЧ_ОКОНЧ       62609 non-null object\n",
      "ФАМИЛИЯ_КОД     55897 non-null float64\n",
      "ИМЯ_КОД         56206 non-null float64\n",
      "ОТЧЕСТВО_КОД    62302 non-null float64\n",
      "dtypes: float64(3), object(7)\n",
      "memory usage: 4.8+ MB\n"
     ]
    }
   ],
   "source": [
    "data1.info()"
   ]
  },
  {
   "cell_type": "code",
   "execution_count": 25,
   "metadata": {},
   "outputs": [
    {
     "name": "stdout",
     "output_type": "stream",
     "text": [
      "<class 'pandas.core.frame.DataFrame'>\n",
      "RangeIndex: 62609 entries, 0 to 62608\n",
      "Data columns (total 10 columns):\n",
      "ФАМИЛИЯ         62609 non-null object\n",
      "ИМЯ             62609 non-null object\n",
      "ОТЧЕСТВО        62609 non-null object\n",
      "ПОЛ             62609 non-null object\n",
      "ФАМ_ОКОНЧ       62609 non-null object\n",
      "ИМЯ_ОКОНЧ       62609 non-null object\n",
      "ОТЧ_ОКОНЧ       62609 non-null object\n",
      "ФАМИЛИЯ_КОД     62609 non-null float64\n",
      "ИМЯ_КОД         62609 non-null float64\n",
      "ОТЧЕСТВО_КОД    62609 non-null float64\n",
      "dtypes: float64(3), object(7)\n",
      "memory usage: 4.8+ MB\n"
     ]
    }
   ],
   "source": [
    "data1 = data1.fillna(0)\n",
    "data1.info()"
   ]
  },
  {
   "cell_type": "markdown",
   "metadata": {},
   "source": [
    "Таким же образом закодируем пол: женский - 1, мужской - -1."
   ]
  },
  {
   "cell_type": "code",
   "execution_count": 26,
   "metadata": {},
   "outputs": [],
   "source": [
    "data1['ПОЛ_КОД'] = None"
   ]
  },
  {
   "cell_type": "code",
   "execution_count": 27,
   "metadata": {},
   "outputs": [
    {
     "data": {
      "text/html": [
       "<div>\n",
       "<style scoped>\n",
       "    .dataframe tbody tr th:only-of-type {\n",
       "        vertical-align: middle;\n",
       "    }\n",
       "\n",
       "    .dataframe tbody tr th {\n",
       "        vertical-align: top;\n",
       "    }\n",
       "\n",
       "    .dataframe thead th {\n",
       "        text-align: right;\n",
       "    }\n",
       "</style>\n",
       "<table border=\"1\" class=\"dataframe\">\n",
       "  <thead>\n",
       "    <tr style=\"text-align: right;\">\n",
       "      <th></th>\n",
       "      <th>ФАМИЛИЯ</th>\n",
       "      <th>ИМЯ</th>\n",
       "      <th>ОТЧЕСТВО</th>\n",
       "      <th>ПОЛ</th>\n",
       "      <th>ФАМ_ОКОНЧ</th>\n",
       "      <th>ИМЯ_ОКОНЧ</th>\n",
       "      <th>ОТЧ_ОКОНЧ</th>\n",
       "      <th>ФАМИЛИЯ_КОД</th>\n",
       "      <th>ИМЯ_КОД</th>\n",
       "      <th>ОТЧЕСТВО_КОД</th>\n",
       "      <th>ПОЛ_КОД</th>\n",
       "    </tr>\n",
       "  </thead>\n",
       "  <tbody>\n",
       "    <tr>\n",
       "      <td>0</td>\n",
       "      <td>АБАБКОВ</td>\n",
       "      <td>СЕРГЕЙ</td>\n",
       "      <td>ИВАНОВИЧ</td>\n",
       "      <td>М</td>\n",
       "      <td>В</td>\n",
       "      <td>Й</td>\n",
       "      <td>ИЧ</td>\n",
       "      <td>-1.0</td>\n",
       "      <td>-1.0</td>\n",
       "      <td>-1.0</td>\n",
       "      <td>-1</td>\n",
       "    </tr>\n",
       "    <tr>\n",
       "      <td>1</td>\n",
       "      <td>АБАЕВ</td>\n",
       "      <td>АНДРЕЙ</td>\n",
       "      <td>АЛЕКСАНДРОВИЧ</td>\n",
       "      <td>М</td>\n",
       "      <td>В</td>\n",
       "      <td>Й</td>\n",
       "      <td>ИЧ</td>\n",
       "      <td>-1.0</td>\n",
       "      <td>-1.0</td>\n",
       "      <td>-1.0</td>\n",
       "      <td>-1</td>\n",
       "    </tr>\n",
       "    <tr>\n",
       "      <td>2</td>\n",
       "      <td>АБАЗОВА</td>\n",
       "      <td>ЕЛЕНА</td>\n",
       "      <td>НИКОЛАЕВНА</td>\n",
       "      <td>Ж</td>\n",
       "      <td>А</td>\n",
       "      <td>А</td>\n",
       "      <td>НА</td>\n",
       "      <td>1.0</td>\n",
       "      <td>1.0</td>\n",
       "      <td>1.0</td>\n",
       "      <td>1</td>\n",
       "    </tr>\n",
       "    <tr>\n",
       "      <td>3</td>\n",
       "      <td>АБАКУМОВ</td>\n",
       "      <td>СЕРГЕЙ</td>\n",
       "      <td>ВАСИЛЬЕВИЧ</td>\n",
       "      <td>М</td>\n",
       "      <td>В</td>\n",
       "      <td>Й</td>\n",
       "      <td>ИЧ</td>\n",
       "      <td>-1.0</td>\n",
       "      <td>-1.0</td>\n",
       "      <td>-1.0</td>\n",
       "      <td>-1</td>\n",
       "    </tr>\n",
       "    <tr>\n",
       "      <td>4</td>\n",
       "      <td>АБАКУМОВ</td>\n",
       "      <td>СЕРГЕЙ</td>\n",
       "      <td>ВАСИЛЬЕВИЧ</td>\n",
       "      <td>М</td>\n",
       "      <td>В</td>\n",
       "      <td>Й</td>\n",
       "      <td>ИЧ</td>\n",
       "      <td>-1.0</td>\n",
       "      <td>-1.0</td>\n",
       "      <td>-1.0</td>\n",
       "      <td>-1</td>\n",
       "    </tr>\n",
       "  </tbody>\n",
       "</table>\n",
       "</div>"
      ],
      "text/plain": [
       "    ФАМИЛИЯ     ИМЯ       ОТЧЕСТВО ПОЛ ФАМ_ОКОНЧ ИМЯ_ОКОНЧ ОТЧ_ОКОНЧ  \\\n",
       "0   АБАБКОВ  СЕРГЕЙ       ИВАНОВИЧ   М         В         Й        ИЧ   \n",
       "1     АБАЕВ  АНДРЕЙ  АЛЕКСАНДРОВИЧ   М         В         Й        ИЧ   \n",
       "2   АБАЗОВА   ЕЛЕНА     НИКОЛАЕВНА   Ж         А         А        НА   \n",
       "3  АБАКУМОВ  СЕРГЕЙ     ВАСИЛЬЕВИЧ   М         В         Й        ИЧ   \n",
       "4  АБАКУМОВ  СЕРГЕЙ     ВАСИЛЬЕВИЧ   М         В         Й        ИЧ   \n",
       "\n",
       "   ФАМИЛИЯ_КОД  ИМЯ_КОД  ОТЧЕСТВО_КОД  ПОЛ_КОД  \n",
       "0         -1.0     -1.0          -1.0       -1  \n",
       "1         -1.0     -1.0          -1.0       -1  \n",
       "2          1.0      1.0           1.0        1  \n",
       "3         -1.0     -1.0          -1.0       -1  \n",
       "4         -1.0     -1.0          -1.0       -1  "
      ]
     },
     "execution_count": 27,
     "metadata": {},
     "output_type": "execute_result"
    }
   ],
   "source": [
    "dct_gender = {'Ж':1, 'М':-1}\n",
    "data1['ПОЛ_КОД'] = data1['ПОЛ'].map(dct_gender)\n",
    "data1.head()"
   ]
  },
  {
   "cell_type": "markdown",
   "metadata": {},
   "source": [
    "Теперь можем удалить столбцы с окончаниями, так как они нам больше не нужны."
   ]
  },
  {
   "cell_type": "code",
   "execution_count": 28,
   "metadata": {},
   "outputs": [
    {
     "data": {
      "text/html": [
       "<div>\n",
       "<style scoped>\n",
       "    .dataframe tbody tr th:only-of-type {\n",
       "        vertical-align: middle;\n",
       "    }\n",
       "\n",
       "    .dataframe tbody tr th {\n",
       "        vertical-align: top;\n",
       "    }\n",
       "\n",
       "    .dataframe thead th {\n",
       "        text-align: right;\n",
       "    }\n",
       "</style>\n",
       "<table border=\"1\" class=\"dataframe\">\n",
       "  <thead>\n",
       "    <tr style=\"text-align: right;\">\n",
       "      <th></th>\n",
       "      <th>ФАМИЛИЯ</th>\n",
       "      <th>ИМЯ</th>\n",
       "      <th>ОТЧЕСТВО</th>\n",
       "      <th>ПОЛ</th>\n",
       "      <th>ФАМИЛИЯ_КОД</th>\n",
       "      <th>ИМЯ_КОД</th>\n",
       "      <th>ОТЧЕСТВО_КОД</th>\n",
       "      <th>ПОЛ_КОД</th>\n",
       "    </tr>\n",
       "  </thead>\n",
       "  <tbody>\n",
       "    <tr>\n",
       "      <td>0</td>\n",
       "      <td>АБАБКОВ</td>\n",
       "      <td>СЕРГЕЙ</td>\n",
       "      <td>ИВАНОВИЧ</td>\n",
       "      <td>М</td>\n",
       "      <td>-1.0</td>\n",
       "      <td>-1.0</td>\n",
       "      <td>-1.0</td>\n",
       "      <td>-1</td>\n",
       "    </tr>\n",
       "    <tr>\n",
       "      <td>1</td>\n",
       "      <td>АБАЕВ</td>\n",
       "      <td>АНДРЕЙ</td>\n",
       "      <td>АЛЕКСАНДРОВИЧ</td>\n",
       "      <td>М</td>\n",
       "      <td>-1.0</td>\n",
       "      <td>-1.0</td>\n",
       "      <td>-1.0</td>\n",
       "      <td>-1</td>\n",
       "    </tr>\n",
       "    <tr>\n",
       "      <td>2</td>\n",
       "      <td>АБАЗОВА</td>\n",
       "      <td>ЕЛЕНА</td>\n",
       "      <td>НИКОЛАЕВНА</td>\n",
       "      <td>Ж</td>\n",
       "      <td>1.0</td>\n",
       "      <td>1.0</td>\n",
       "      <td>1.0</td>\n",
       "      <td>1</td>\n",
       "    </tr>\n",
       "    <tr>\n",
       "      <td>3</td>\n",
       "      <td>АБАКУМОВ</td>\n",
       "      <td>СЕРГЕЙ</td>\n",
       "      <td>ВАСИЛЬЕВИЧ</td>\n",
       "      <td>М</td>\n",
       "      <td>-1.0</td>\n",
       "      <td>-1.0</td>\n",
       "      <td>-1.0</td>\n",
       "      <td>-1</td>\n",
       "    </tr>\n",
       "    <tr>\n",
       "      <td>4</td>\n",
       "      <td>АБАКУМОВ</td>\n",
       "      <td>СЕРГЕЙ</td>\n",
       "      <td>ВАСИЛЬЕВИЧ</td>\n",
       "      <td>М</td>\n",
       "      <td>-1.0</td>\n",
       "      <td>-1.0</td>\n",
       "      <td>-1.0</td>\n",
       "      <td>-1</td>\n",
       "    </tr>\n",
       "  </tbody>\n",
       "</table>\n",
       "</div>"
      ],
      "text/plain": [
       "    ФАМИЛИЯ     ИМЯ       ОТЧЕСТВО ПОЛ  ФАМИЛИЯ_КОД  ИМЯ_КОД  ОТЧЕСТВО_КОД  \\\n",
       "0   АБАБКОВ  СЕРГЕЙ       ИВАНОВИЧ   М         -1.0     -1.0          -1.0   \n",
       "1     АБАЕВ  АНДРЕЙ  АЛЕКСАНДРОВИЧ   М         -1.0     -1.0          -1.0   \n",
       "2   АБАЗОВА   ЕЛЕНА     НИКОЛАЕВНА   Ж          1.0      1.0           1.0   \n",
       "3  АБАКУМОВ  СЕРГЕЙ     ВАСИЛЬЕВИЧ   М         -1.0     -1.0          -1.0   \n",
       "4  АБАКУМОВ  СЕРГЕЙ     ВАСИЛЬЕВИЧ   М         -1.0     -1.0          -1.0   \n",
       "\n",
       "   ПОЛ_КОД  \n",
       "0       -1  \n",
       "1       -1  \n",
       "2        1  \n",
       "3       -1  \n",
       "4       -1  "
      ]
     },
     "execution_count": 28,
     "metadata": {},
     "output_type": "execute_result"
    }
   ],
   "source": [
    "data1.drop(['ФАМ_ОКОНЧ', 'ИМЯ_ОКОНЧ', 'ОТЧ_ОКОНЧ'], axis='columns', inplace=True)\n",
    "data1.head()"
   ]
  },
  {
   "cell_type": "markdown",
   "metadata": {},
   "source": [
    "Построим дерево решений для нашей выборки.\n",
    "\n",
    "Создадим массив признаков из столбцов: \"ФАМИЛИЯ_КОД\", \"ИМЯ_КОД\", \"ОТЧЕСТВО_КОД\" и массив классов из столбца \"ПОЛ_КОД\". Разделим выборку на тестовую и трейновую, отдавая тестовой 30 процентов данных."
   ]
  },
  {
   "cell_type": "code",
   "execution_count": 29,
   "metadata": {},
   "outputs": [],
   "source": [
    "X = data1[['ФАМИЛИЯ_КОД', 'ИМЯ_КОД', 'ОТЧЕСТВО_КОД']]\n",
    "y = data1[['ПОЛ_КОД']]\n",
    "X_train, X_test, y_train, y_test = train_test_split(X, y, test_size=0.3)"
   ]
  },
  {
   "cell_type": "markdown",
   "metadata": {},
   "source": [
    "Найдем наилучшие параметры для нашего обучающегося дерева и обучим наше дерево на них. "
   ]
  },
  {
   "cell_type": "code",
   "execution_count": 30,
   "metadata": {},
   "outputs": [],
   "source": [
    "gs = GridSearchCV(DecisionTreeClassifier(random_state=17),\n",
    "                  param_grid = {'max_depth' : range(1, 6),\n",
    "                                'max_features' : ['auto', 'log2', None],\n",
    "                                'min_samples_leaf' : range(1, 6),\n",
    "                                'min_samples_split' : range(2, 6),\n",
    "                                'criterion' : ['gini', 'entropy'],\n",
    "                                'presort' : ['auto', True, False],\n",
    "                                'splitter' : ['best', 'random']},\n",
    "                  cv=7, scoring='accuracy'\n",
    "                  ).fit(X_train, y_train)"
   ]
  },
  {
   "cell_type": "markdown",
   "metadata": {},
   "source": [
    "Наилучшие параметры найдены:"
   ]
  },
  {
   "cell_type": "code",
   "execution_count": 31,
   "metadata": {},
   "outputs": [
    {
     "data": {
      "text/plain": [
       "{'criterion': 'gini',\n",
       " 'max_depth': 4,\n",
       " 'max_features': None,\n",
       " 'min_samples_leaf': 1,\n",
       " 'min_samples_split': 2,\n",
       " 'presort': 'auto',\n",
       " 'splitter': 'best'}"
      ]
     },
     "execution_count": 31,
     "metadata": {},
     "output_type": "execute_result"
    }
   ],
   "source": [
    "gs.best_params_"
   ]
  },
  {
   "cell_type": "code",
   "execution_count": 32,
   "metadata": {},
   "outputs": [
    {
     "data": {
      "text/plain": [
       "DecisionTreeClassifier(class_weight=None, criterion='gini', max_depth=3,\n",
       "                       max_features=None, max_leaf_nodes=None,\n",
       "                       min_impurity_decrease=0.0, min_impurity_split=None,\n",
       "                       min_samples_leaf=1, min_samples_split=2,\n",
       "                       min_weight_fraction_leaf=0.0, presort='auto',\n",
       "                       random_state=None, splitter='best')"
      ]
     },
     "execution_count": 32,
     "metadata": {},
     "output_type": "execute_result"
    }
   ],
   "source": [
    "tree=DecisionTreeClassifier(criterion = 'gini', max_depth = 3, min_samples_leaf = 1, min_samples_split = 2, presort = 'auto', splitter = 'best')\n",
    "tree.fit(X_train, y_train)"
   ]
  },
  {
   "cell_type": "code",
   "execution_count": 33,
   "metadata": {},
   "outputs": [
    {
     "data": {
      "text/plain": [
       "0.9977638844521517"
      ]
     },
     "execution_count": 33,
     "metadata": {},
     "output_type": "execute_result"
    }
   ],
   "source": [
    "tree.score(X_train, y_train)"
   ]
  },
  {
   "cell_type": "markdown",
   "metadata": {},
   "source": [
    "В результате точность нашего дерева решений на трейновой выборке равна 0,997. "
   ]
  },
  {
   "cell_type": "code",
   "execution_count": 34,
   "metadata": {},
   "outputs": [
    {
     "data": {
      "text/plain": [
       "DecisionTreeClassifier(class_weight=None, criterion='gini', max_depth=3,\n",
       "                       max_features=None, max_leaf_nodes=None,\n",
       "                       min_impurity_decrease=0.0, min_impurity_split=None,\n",
       "                       min_samples_leaf=1, min_samples_split=2,\n",
       "                       min_weight_fraction_leaf=0.0, presort='auto',\n",
       "                       random_state=None, splitter='best')"
      ]
     },
     "execution_count": 34,
     "metadata": {},
     "output_type": "execute_result"
    }
   ],
   "source": [
    "tree.fit(X_test, y_test)"
   ]
  },
  {
   "cell_type": "code",
   "execution_count": 35,
   "metadata": {},
   "outputs": [
    {
     "data": {
      "text/plain": [
       "0.9971782995261673"
      ]
     },
     "execution_count": 35,
     "metadata": {},
     "output_type": "execute_result"
    }
   ],
   "source": [
    "tree.score(X_test, y_test)"
   ]
  },
  {
   "cell_type": "markdown",
   "metadata": {},
   "source": [
    "А точность нашего дерева решений на тестовой выборке равна 0,99717."
   ]
  },
  {
   "cell_type": "markdown",
   "metadata": {},
   "source": [
    "Наша модель показала высшие результаты точности, поэтому мы можем перейти к более продвинутым техникам машинного обучения, которые можно объединить словом «ансамбли». Ансамбль — это некая совокупность, части которой образуют единое целое.\n",
    "\n",
    "**Bagging** — это один из первых и самых простых видов ансамблей. Бэггинг основан на статистическом методе бутстрэпа, который позволяет оценивать многие статистики сложных распределений.\n",
    "\n",
    "В данной технологии классификации все элементарные классификаторы обучаются и работают параллельно (независимо друг от друга). Идея заключается в том, что классификаторы не исправляют ошибки друг друга, а компенсируют их при голосовании. Базовые классификаторы должны быть независимыми, это могут быть классификаторы основанные на разных группах методов или же обученные на независимых наборах данных."
   ]
  },
  {
   "cell_type": "markdown",
   "metadata": {},
   "source": [
    "Для начала работы с методом сгенерируем массив деревьев от 1 до 301 с шагом 10, это значит, что на выходе мы получим 1, 11, 21, ... , 101, 121, ..., 291, 301 дерево."
   ]
  },
  {
   "cell_type": "code",
   "execution_count": 37,
   "metadata": {},
   "outputs": [
    {
     "name": "stderr",
     "output_type": "stream",
     "text": [
      "C:\\Users\\Nastya\\Anaconda3\\lib\\site-packages\\sklearn\\ensemble\\bagging.py:623: DataConversionWarning: A column-vector y was passed when a 1d array was expected. Please change the shape of y to (n_samples, ), for example using ravel().\n",
      "  y = column_or_1d(y, warn=True)\n",
      "C:\\Users\\Nastya\\Anaconda3\\lib\\site-packages\\sklearn\\ensemble\\bagging.py:611: UserWarning: Some inputs do not have OOB scores. This probably means too few estimators were used to compute any reliable oob estimates.\n",
      "  warn(\"Some inputs do not have OOB scores. \"\n",
      "C:\\Users\\Nastya\\Anaconda3\\lib\\site-packages\\sklearn\\ensemble\\bagging.py:616: RuntimeWarning: invalid value encountered in true_divide\n",
      "  predictions.sum(axis=1)[:, np.newaxis])\n",
      "C:\\Users\\Nastya\\Anaconda3\\lib\\site-packages\\sklearn\\ensemble\\bagging.py:623: DataConversionWarning: A column-vector y was passed when a 1d array was expected. Please change the shape of y to (n_samples, ), for example using ravel().\n",
      "  y = column_or_1d(y, warn=True)\n",
      "C:\\Users\\Nastya\\Anaconda3\\lib\\site-packages\\sklearn\\ensemble\\bagging.py:611: UserWarning: Some inputs do not have OOB scores. This probably means too few estimators were used to compute any reliable oob estimates.\n",
      "  warn(\"Some inputs do not have OOB scores. \"\n",
      "C:\\Users\\Nastya\\Anaconda3\\lib\\site-packages\\sklearn\\ensemble\\bagging.py:616: RuntimeWarning: invalid value encountered in true_divide\n",
      "  predictions.sum(axis=1)[:, np.newaxis])\n",
      "C:\\Users\\Nastya\\Anaconda3\\lib\\site-packages\\sklearn\\ensemble\\bagging.py:623: DataConversionWarning: A column-vector y was passed when a 1d array was expected. Please change the shape of y to (n_samples, ), for example using ravel().\n",
      "  y = column_or_1d(y, warn=True)\n",
      "C:\\Users\\Nastya\\Anaconda3\\lib\\site-packages\\sklearn\\ensemble\\bagging.py:611: UserWarning: Some inputs do not have OOB scores. This probably means too few estimators were used to compute any reliable oob estimates.\n",
      "  warn(\"Some inputs do not have OOB scores. \"\n",
      "C:\\Users\\Nastya\\Anaconda3\\lib\\site-packages\\sklearn\\ensemble\\bagging.py:616: RuntimeWarning: invalid value encountered in true_divide\n",
      "  predictions.sum(axis=1)[:, np.newaxis])\n",
      "C:\\Users\\Nastya\\Anaconda3\\lib\\site-packages\\sklearn\\ensemble\\bagging.py:623: DataConversionWarning: A column-vector y was passed when a 1d array was expected. Please change the shape of y to (n_samples, ), for example using ravel().\n",
      "  y = column_or_1d(y, warn=True)\n",
      "C:\\Users\\Nastya\\Anaconda3\\lib\\site-packages\\sklearn\\ensemble\\bagging.py:623: DataConversionWarning: A column-vector y was passed when a 1d array was expected. Please change the shape of y to (n_samples, ), for example using ravel().\n",
      "  y = column_or_1d(y, warn=True)\n",
      "C:\\Users\\Nastya\\Anaconda3\\lib\\site-packages\\sklearn\\ensemble\\bagging.py:623: DataConversionWarning: A column-vector y was passed when a 1d array was expected. Please change the shape of y to (n_samples, ), for example using ravel().\n",
      "  y = column_or_1d(y, warn=True)\n",
      "C:\\Users\\Nastya\\Anaconda3\\lib\\site-packages\\sklearn\\ensemble\\bagging.py:623: DataConversionWarning: A column-vector y was passed when a 1d array was expected. Please change the shape of y to (n_samples, ), for example using ravel().\n",
      "  y = column_or_1d(y, warn=True)\n",
      "C:\\Users\\Nastya\\Anaconda3\\lib\\site-packages\\sklearn\\ensemble\\bagging.py:623: DataConversionWarning: A column-vector y was passed when a 1d array was expected. Please change the shape of y to (n_samples, ), for example using ravel().\n",
      "  y = column_or_1d(y, warn=True)\n",
      "C:\\Users\\Nastya\\Anaconda3\\lib\\site-packages\\sklearn\\ensemble\\bagging.py:623: DataConversionWarning: A column-vector y was passed when a 1d array was expected. Please change the shape of y to (n_samples, ), for example using ravel().\n",
      "  y = column_or_1d(y, warn=True)\n",
      "C:\\Users\\Nastya\\Anaconda3\\lib\\site-packages\\sklearn\\ensemble\\bagging.py:623: DataConversionWarning: A column-vector y was passed when a 1d array was expected. Please change the shape of y to (n_samples, ), for example using ravel().\n",
      "  y = column_or_1d(y, warn=True)\n",
      "C:\\Users\\Nastya\\Anaconda3\\lib\\site-packages\\sklearn\\ensemble\\bagging.py:623: DataConversionWarning: A column-vector y was passed when a 1d array was expected. Please change the shape of y to (n_samples, ), for example using ravel().\n",
      "  y = column_or_1d(y, warn=True)\n",
      "C:\\Users\\Nastya\\Anaconda3\\lib\\site-packages\\sklearn\\ensemble\\bagging.py:623: DataConversionWarning: A column-vector y was passed when a 1d array was expected. Please change the shape of y to (n_samples, ), for example using ravel().\n",
      "  y = column_or_1d(y, warn=True)\n",
      "C:\\Users\\Nastya\\Anaconda3\\lib\\site-packages\\sklearn\\ensemble\\bagging.py:623: DataConversionWarning: A column-vector y was passed when a 1d array was expected. Please change the shape of y to (n_samples, ), for example using ravel().\n",
      "  y = column_or_1d(y, warn=True)\n",
      "C:\\Users\\Nastya\\Anaconda3\\lib\\site-packages\\sklearn\\ensemble\\bagging.py:623: DataConversionWarning: A column-vector y was passed when a 1d array was expected. Please change the shape of y to (n_samples, ), for example using ravel().\n",
      "  y = column_or_1d(y, warn=True)\n",
      "C:\\Users\\Nastya\\Anaconda3\\lib\\site-packages\\sklearn\\ensemble\\bagging.py:623: DataConversionWarning: A column-vector y was passed when a 1d array was expected. Please change the shape of y to (n_samples, ), for example using ravel().\n",
      "  y = column_or_1d(y, warn=True)\n",
      "C:\\Users\\Nastya\\Anaconda3\\lib\\site-packages\\sklearn\\ensemble\\bagging.py:623: DataConversionWarning: A column-vector y was passed when a 1d array was expected. Please change the shape of y to (n_samples, ), for example using ravel().\n",
      "  y = column_or_1d(y, warn=True)\n",
      "C:\\Users\\Nastya\\Anaconda3\\lib\\site-packages\\sklearn\\ensemble\\bagging.py:623: DataConversionWarning: A column-vector y was passed when a 1d array was expected. Please change the shape of y to (n_samples, ), for example using ravel().\n",
      "  y = column_or_1d(y, warn=True)\n",
      "C:\\Users\\Nastya\\Anaconda3\\lib\\site-packages\\sklearn\\ensemble\\bagging.py:623: DataConversionWarning: A column-vector y was passed when a 1d array was expected. Please change the shape of y to (n_samples, ), for example using ravel().\n",
      "  y = column_or_1d(y, warn=True)\n",
      "C:\\Users\\Nastya\\Anaconda3\\lib\\site-packages\\sklearn\\ensemble\\bagging.py:623: DataConversionWarning: A column-vector y was passed when a 1d array was expected. Please change the shape of y to (n_samples, ), for example using ravel().\n",
      "  y = column_or_1d(y, warn=True)\n",
      "C:\\Users\\Nastya\\Anaconda3\\lib\\site-packages\\sklearn\\ensemble\\bagging.py:623: DataConversionWarning: A column-vector y was passed when a 1d array was expected. Please change the shape of y to (n_samples, ), for example using ravel().\n",
      "  y = column_or_1d(y, warn=True)\n",
      "C:\\Users\\Nastya\\Anaconda3\\lib\\site-packages\\sklearn\\ensemble\\bagging.py:623: DataConversionWarning: A column-vector y was passed when a 1d array was expected. Please change the shape of y to (n_samples, ), for example using ravel().\n",
      "  y = column_or_1d(y, warn=True)\n",
      "C:\\Users\\Nastya\\Anaconda3\\lib\\site-packages\\sklearn\\ensemble\\bagging.py:623: DataConversionWarning: A column-vector y was passed when a 1d array was expected. Please change the shape of y to (n_samples, ), for example using ravel().\n",
      "  y = column_or_1d(y, warn=True)\n",
      "C:\\Users\\Nastya\\Anaconda3\\lib\\site-packages\\sklearn\\ensemble\\bagging.py:623: DataConversionWarning: A column-vector y was passed when a 1d array was expected. Please change the shape of y to (n_samples, ), for example using ravel().\n",
      "  y = column_or_1d(y, warn=True)\n",
      "C:\\Users\\Nastya\\Anaconda3\\lib\\site-packages\\sklearn\\ensemble\\bagging.py:623: DataConversionWarning: A column-vector y was passed when a 1d array was expected. Please change the shape of y to (n_samples, ), for example using ravel().\n",
      "  y = column_or_1d(y, warn=True)\n",
      "C:\\Users\\Nastya\\Anaconda3\\lib\\site-packages\\sklearn\\ensemble\\bagging.py:623: DataConversionWarning: A column-vector y was passed when a 1d array was expected. Please change the shape of y to (n_samples, ), for example using ravel().\n",
      "  y = column_or_1d(y, warn=True)\n",
      "C:\\Users\\Nastya\\Anaconda3\\lib\\site-packages\\sklearn\\ensemble\\bagging.py:623: DataConversionWarning: A column-vector y was passed when a 1d array was expected. Please change the shape of y to (n_samples, ), for example using ravel().\n",
      "  y = column_or_1d(y, warn=True)\n",
      "C:\\Users\\Nastya\\Anaconda3\\lib\\site-packages\\sklearn\\ensemble\\bagging.py:623: DataConversionWarning: A column-vector y was passed when a 1d array was expected. Please change the shape of y to (n_samples, ), for example using ravel().\n",
      "  y = column_or_1d(y, warn=True)\n",
      "C:\\Users\\Nastya\\Anaconda3\\lib\\site-packages\\sklearn\\ensemble\\bagging.py:623: DataConversionWarning: A column-vector y was passed when a 1d array was expected. Please change the shape of y to (n_samples, ), for example using ravel().\n",
      "  y = column_or_1d(y, warn=True)\n",
      "C:\\Users\\Nastya\\Anaconda3\\lib\\site-packages\\sklearn\\ensemble\\bagging.py:623: DataConversionWarning: A column-vector y was passed when a 1d array was expected. Please change the shape of y to (n_samples, ), for example using ravel().\n",
      "  y = column_or_1d(y, warn=True)\n",
      "C:\\Users\\Nastya\\Anaconda3\\lib\\site-packages\\sklearn\\ensemble\\bagging.py:623: DataConversionWarning: A column-vector y was passed when a 1d array was expected. Please change the shape of y to (n_samples, ), for example using ravel().\n",
      "  y = column_or_1d(y, warn=True)\n",
      "C:\\Users\\Nastya\\Anaconda3\\lib\\site-packages\\sklearn\\ensemble\\bagging.py:623: DataConversionWarning: A column-vector y was passed when a 1d array was expected. Please change the shape of y to (n_samples, ), for example using ravel().\n",
      "  y = column_or_1d(y, warn=True)\n"
     ]
    },
    {
     "data": {
      "text/html": [
       "<div>\n",
       "<style scoped>\n",
       "    .dataframe tbody tr th:only-of-type {\n",
       "        vertical-align: middle;\n",
       "    }\n",
       "\n",
       "    .dataframe tbody tr th {\n",
       "        vertical-align: top;\n",
       "    }\n",
       "\n",
       "    .dataframe thead th {\n",
       "        text-align: right;\n",
       "    }\n",
       "</style>\n",
       "<table border=\"1\" class=\"dataframe\">\n",
       "  <thead>\n",
       "    <tr style=\"text-align: right;\">\n",
       "      <th></th>\n",
       "      <th>ntree</th>\n",
       "      <th>score</th>\n",
       "    </tr>\n",
       "  </thead>\n",
       "  <tbody>\n",
       "    <tr>\n",
       "      <td>0</td>\n",
       "      <td>1.0</td>\n",
       "      <td>0.996752</td>\n",
       "    </tr>\n",
       "    <tr>\n",
       "      <td>1</td>\n",
       "      <td>11.0</td>\n",
       "      <td>0.996859</td>\n",
       "    </tr>\n",
       "    <tr>\n",
       "      <td>2</td>\n",
       "      <td>21.0</td>\n",
       "      <td>0.996859</td>\n",
       "    </tr>\n",
       "    <tr>\n",
       "      <td>3</td>\n",
       "      <td>31.0</td>\n",
       "      <td>0.996859</td>\n",
       "    </tr>\n",
       "    <tr>\n",
       "      <td>4</td>\n",
       "      <td>41.0</td>\n",
       "      <td>0.996859</td>\n",
       "    </tr>\n",
       "    <tr>\n",
       "      <td>5</td>\n",
       "      <td>51.0</td>\n",
       "      <td>0.996859</td>\n",
       "    </tr>\n",
       "    <tr>\n",
       "      <td>6</td>\n",
       "      <td>61.0</td>\n",
       "      <td>0.996859</td>\n",
       "    </tr>\n",
       "    <tr>\n",
       "      <td>7</td>\n",
       "      <td>71.0</td>\n",
       "      <td>0.996859</td>\n",
       "    </tr>\n",
       "    <tr>\n",
       "      <td>8</td>\n",
       "      <td>81.0</td>\n",
       "      <td>0.996859</td>\n",
       "    </tr>\n",
       "    <tr>\n",
       "      <td>9</td>\n",
       "      <td>91.0</td>\n",
       "      <td>0.996859</td>\n",
       "    </tr>\n",
       "    <tr>\n",
       "      <td>10</td>\n",
       "      <td>101.0</td>\n",
       "      <td>0.996859</td>\n",
       "    </tr>\n",
       "    <tr>\n",
       "      <td>11</td>\n",
       "      <td>111.0</td>\n",
       "      <td>0.996859</td>\n",
       "    </tr>\n",
       "    <tr>\n",
       "      <td>12</td>\n",
       "      <td>121.0</td>\n",
       "      <td>0.996859</td>\n",
       "    </tr>\n",
       "    <tr>\n",
       "      <td>13</td>\n",
       "      <td>131.0</td>\n",
       "      <td>0.996859</td>\n",
       "    </tr>\n",
       "    <tr>\n",
       "      <td>14</td>\n",
       "      <td>141.0</td>\n",
       "      <td>0.996859</td>\n",
       "    </tr>\n",
       "    <tr>\n",
       "      <td>15</td>\n",
       "      <td>151.0</td>\n",
       "      <td>0.996859</td>\n",
       "    </tr>\n",
       "    <tr>\n",
       "      <td>16</td>\n",
       "      <td>161.0</td>\n",
       "      <td>0.996859</td>\n",
       "    </tr>\n",
       "    <tr>\n",
       "      <td>17</td>\n",
       "      <td>171.0</td>\n",
       "      <td>0.996859</td>\n",
       "    </tr>\n",
       "    <tr>\n",
       "      <td>18</td>\n",
       "      <td>181.0</td>\n",
       "      <td>0.996859</td>\n",
       "    </tr>\n",
       "    <tr>\n",
       "      <td>19</td>\n",
       "      <td>191.0</td>\n",
       "      <td>0.996859</td>\n",
       "    </tr>\n",
       "    <tr>\n",
       "      <td>20</td>\n",
       "      <td>201.0</td>\n",
       "      <td>0.996859</td>\n",
       "    </tr>\n",
       "    <tr>\n",
       "      <td>21</td>\n",
       "      <td>211.0</td>\n",
       "      <td>0.996859</td>\n",
       "    </tr>\n",
       "    <tr>\n",
       "      <td>22</td>\n",
       "      <td>221.0</td>\n",
       "      <td>0.996859</td>\n",
       "    </tr>\n",
       "    <tr>\n",
       "      <td>23</td>\n",
       "      <td>231.0</td>\n",
       "      <td>0.996859</td>\n",
       "    </tr>\n",
       "    <tr>\n",
       "      <td>24</td>\n",
       "      <td>241.0</td>\n",
       "      <td>0.996859</td>\n",
       "    </tr>\n",
       "    <tr>\n",
       "      <td>25</td>\n",
       "      <td>251.0</td>\n",
       "      <td>0.996859</td>\n",
       "    </tr>\n",
       "    <tr>\n",
       "      <td>26</td>\n",
       "      <td>261.0</td>\n",
       "      <td>0.996859</td>\n",
       "    </tr>\n",
       "    <tr>\n",
       "      <td>27</td>\n",
       "      <td>271.0</td>\n",
       "      <td>0.996859</td>\n",
       "    </tr>\n",
       "    <tr>\n",
       "      <td>28</td>\n",
       "      <td>281.0</td>\n",
       "      <td>0.996859</td>\n",
       "    </tr>\n",
       "    <tr>\n",
       "      <td>29</td>\n",
       "      <td>291.0</td>\n",
       "      <td>0.996859</td>\n",
       "    </tr>\n",
       "    <tr>\n",
       "      <td>30</td>\n",
       "      <td>301.0</td>\n",
       "      <td>0.996859</td>\n",
       "    </tr>\n",
       "  </tbody>\n",
       "</table>\n",
       "</div>"
      ],
      "text/plain": [
       "    ntree     score\n",
       "0     1.0  0.996752\n",
       "1    11.0  0.996859\n",
       "2    21.0  0.996859\n",
       "3    31.0  0.996859\n",
       "4    41.0  0.996859\n",
       "5    51.0  0.996859\n",
       "6    61.0  0.996859\n",
       "7    71.0  0.996859\n",
       "8    81.0  0.996859\n",
       "9    91.0  0.996859\n",
       "10  101.0  0.996859\n",
       "11  111.0  0.996859\n",
       "12  121.0  0.996859\n",
       "13  131.0  0.996859\n",
       "14  141.0  0.996859\n",
       "15  151.0  0.996859\n",
       "16  161.0  0.996859\n",
       "17  171.0  0.996859\n",
       "18  181.0  0.996859\n",
       "19  191.0  0.996859\n",
       "20  201.0  0.996859\n",
       "21  211.0  0.996859\n",
       "22  221.0  0.996859\n",
       "23  231.0  0.996859\n",
       "24  241.0  0.996859\n",
       "25  251.0  0.996859\n",
       "26  261.0  0.996859\n",
       "27  271.0  0.996859\n",
       "28  281.0  0.996859\n",
       "29  291.0  0.996859\n",
       "30  301.0  0.996859"
      ]
     },
     "execution_count": 37,
     "metadata": {},
     "output_type": "execute_result"
    }
   ],
   "source": [
    "trees_grid = [i for i in range(1, 302, 10)]\n",
    "\n",
    "temp_test_acc = pd.DataFrame(columns=['ntree', 'score'])\n",
    "for ntrees in trees_grid:\n",
    "    rfc = BaggingClassifier(n_estimators=ntrees, n_jobs=-1, oob_score=True)\n",
    "    rfc.fit(X_train, y_train)\n",
    "    rfc.score(X_test, y_test)\n",
    "    temp_test_acc = temp_test_acc.append({'ntree': ntrees, 'score': rfc.score(X_test, y_test)}, ignore_index=True)\n",
    "temp_test_acc"
   ]
  },
  {
   "cell_type": "markdown",
   "metadata": {},
   "source": [
    "Теперь найдем, начиная с какого числа деревьев, наша точность становится примерно одинаковой. Построим график ее значений для наглядности. В нашем случае получилось, что после леса из 11 деревьев точность не изменяется."
   ]
  },
  {
   "cell_type": "code",
   "execution_count": 40,
   "metadata": {},
   "outputs": [
    {
     "data": {
      "text/plain": [
       "[<matplotlib.lines.Line2D at 0x287e64b7908>]"
      ]
     },
     "execution_count": 40,
     "metadata": {},
     "output_type": "execute_result"
    },
    {
     "data": {
      "image/png": "[encoded data removed]",
      "text/plain": [
       "<Figure size 432x288 with 1 Axes>"
      ]
     },
     "metadata": {
      "needs_background": "light"
     },
     "output_type": "display_data"
    }
   ],
   "source": [
    "plt.plot(temp_test_acc['ntree'], temp_test_acc['score'])"
   ]
  },
  {
   "cell_type": "markdown",
   "metadata": {},
   "source": [
    "Теперь проверим нашу модель на параметре - max_samples(максимальная выборка). Для него аналогично сгенерируем массив значений с 1 до 30 с шагом - 3. "
   ]
  },
  {
   "cell_type": "code",
   "execution_count": 41,
   "metadata": {},
   "outputs": [
    {
     "name": "stderr",
     "output_type": "stream",
     "text": [
      "C:\\Users\\Nastya\\Anaconda3\\lib\\site-packages\\sklearn\\ensemble\\bagging.py:623: DataConversionWarning: A column-vector y was passed when a 1d array was expected. Please change the shape of y to (n_samples, ), for example using ravel().\n",
      "  y = column_or_1d(y, warn=True)\n",
      "C:\\Users\\Nastya\\Anaconda3\\lib\\site-packages\\sklearn\\ensemble\\bagging.py:623: DataConversionWarning: A column-vector y was passed when a 1d array was expected. Please change the shape of y to (n_samples, ), for example using ravel().\n",
      "  y = column_or_1d(y, warn=True)\n",
      "C:\\Users\\Nastya\\Anaconda3\\lib\\site-packages\\sklearn\\ensemble\\bagging.py:623: DataConversionWarning: A column-vector y was passed when a 1d array was expected. Please change the shape of y to (n_samples, ), for example using ravel().\n",
      "  y = column_or_1d(y, warn=True)\n",
      "C:\\Users\\Nastya\\Anaconda3\\lib\\site-packages\\sklearn\\ensemble\\bagging.py:623: DataConversionWarning: A column-vector y was passed when a 1d array was expected. Please change the shape of y to (n_samples, ), for example using ravel().\n",
      "  y = column_or_1d(y, warn=True)\n",
      "C:\\Users\\Nastya\\Anaconda3\\lib\\site-packages\\sklearn\\ensemble\\bagging.py:623: DataConversionWarning: A column-vector y was passed when a 1d array was expected. Please change the shape of y to (n_samples, ), for example using ravel().\n",
      "  y = column_or_1d(y, warn=True)\n",
      "C:\\Users\\Nastya\\Anaconda3\\lib\\site-packages\\sklearn\\ensemble\\bagging.py:623: DataConversionWarning: A column-vector y was passed when a 1d array was expected. Please change the shape of y to (n_samples, ), for example using ravel().\n",
      "  y = column_or_1d(y, warn=True)\n",
      "C:\\Users\\Nastya\\Anaconda3\\lib\\site-packages\\sklearn\\ensemble\\bagging.py:623: DataConversionWarning: A column-vector y was passed when a 1d array was expected. Please change the shape of y to (n_samples, ), for example using ravel().\n",
      "  y = column_or_1d(y, warn=True)\n",
      "C:\\Users\\Nastya\\Anaconda3\\lib\\site-packages\\sklearn\\ensemble\\bagging.py:623: DataConversionWarning: A column-vector y was passed when a 1d array was expected. Please change the shape of y to (n_samples, ), for example using ravel().\n",
      "  y = column_or_1d(y, warn=True)\n",
      "C:\\Users\\Nastya\\Anaconda3\\lib\\site-packages\\sklearn\\ensemble\\bagging.py:623: DataConversionWarning: A column-vector y was passed when a 1d array was expected. Please change the shape of y to (n_samples, ), for example using ravel().\n",
      "  y = column_or_1d(y, warn=True)\n",
      "C:\\Users\\Nastya\\Anaconda3\\lib\\site-packages\\sklearn\\ensemble\\bagging.py:623: DataConversionWarning: A column-vector y was passed when a 1d array was expected. Please change the shape of y to (n_samples, ), for example using ravel().\n",
      "  y = column_or_1d(y, warn=True)\n"
     ]
    },
    {
     "data": {
      "text/html": [
       "<div>\n",
       "<style scoped>\n",
       "    .dataframe tbody tr th:only-of-type {\n",
       "        vertical-align: middle;\n",
       "    }\n",
       "\n",
       "    .dataframe tbody tr th {\n",
       "        vertical-align: top;\n",
       "    }\n",
       "\n",
       "    .dataframe thead th {\n",
       "        text-align: right;\n",
       "    }\n",
       "</style>\n",
       "<table border=\"1\" class=\"dataframe\">\n",
       "  <thead>\n",
       "    <tr style=\"text-align: right;\">\n",
       "      <th></th>\n",
       "      <th>sample</th>\n",
       "      <th>score</th>\n",
       "    </tr>\n",
       "  </thead>\n",
       "  <tbody>\n",
       "    <tr>\n",
       "      <td>0</td>\n",
       "      <td>1.0</td>\n",
       "      <td>0.565352</td>\n",
       "    </tr>\n",
       "    <tr>\n",
       "      <td>1</td>\n",
       "      <td>4.0</td>\n",
       "      <td>0.984241</td>\n",
       "    </tr>\n",
       "    <tr>\n",
       "      <td>2</td>\n",
       "      <td>7.0</td>\n",
       "      <td>0.994942</td>\n",
       "    </tr>\n",
       "    <tr>\n",
       "      <td>3</td>\n",
       "      <td>10.0</td>\n",
       "      <td>0.967577</td>\n",
       "    </tr>\n",
       "    <tr>\n",
       "      <td>4</td>\n",
       "      <td>13.0</td>\n",
       "      <td>0.995847</td>\n",
       "    </tr>\n",
       "    <tr>\n",
       "      <td>5</td>\n",
       "      <td>16.0</td>\n",
       "      <td>0.995847</td>\n",
       "    </tr>\n",
       "    <tr>\n",
       "      <td>6</td>\n",
       "      <td>19.0</td>\n",
       "      <td>0.995847</td>\n",
       "    </tr>\n",
       "    <tr>\n",
       "      <td>7</td>\n",
       "      <td>22.0</td>\n",
       "      <td>0.995847</td>\n",
       "    </tr>\n",
       "    <tr>\n",
       "      <td>8</td>\n",
       "      <td>25.0</td>\n",
       "      <td>0.995847</td>\n",
       "    </tr>\n",
       "    <tr>\n",
       "      <td>9</td>\n",
       "      <td>28.0</td>\n",
       "      <td>0.995847</td>\n",
       "    </tr>\n",
       "  </tbody>\n",
       "</table>\n",
       "</div>"
      ],
      "text/plain": [
       "   sample     score\n",
       "0     1.0  0.565352\n",
       "1     4.0  0.984241\n",
       "2     7.0  0.994942\n",
       "3    10.0  0.967577\n",
       "4    13.0  0.995847\n",
       "5    16.0  0.995847\n",
       "6    19.0  0.995847\n",
       "7    22.0  0.995847\n",
       "8    25.0  0.995847\n",
       "9    28.0  0.995847"
      ]
     },
     "execution_count": 41,
     "metadata": {},
     "output_type": "execute_result"
    }
   ],
   "source": [
    "max_samples_grid = [i for i in range(1, 30, 3)]\n",
    "\n",
    "temp_test_acc = pd.DataFrame(columns=['sample', 'score'])\n",
    "for max_samples in max_samples_grid:\n",
    "    rfc = BaggingClassifier(n_estimators=11, n_jobs=-1, oob_score=True, max_samples=max_samples)\n",
    "    rfc.fit(X_train, y_train)\n",
    "    rfc.score(X_test, y_test)\n",
    "    temp_test_acc = temp_test_acc.append({'sample': max_samples, 'score': rfc.score(X_test, y_test)}, ignore_index=True)\n",
    "temp_test_acc"
   ]
  },
  {
   "cell_type": "code",
   "execution_count": 43,
   "metadata": {},
   "outputs": [
    {
     "data": {
      "text/plain": [
       "[<matplotlib.lines.Line2D at 0x287e69b7148>]"
      ]
     },
     "execution_count": 43,
     "metadata": {},
     "output_type": "execute_result"
    },
    {
     "data": {
      "image/png": "[encoded data removed]",
      "text/plain": [
       "<Figure size 432x288 with 1 Axes>"
      ]
     },
     "metadata": {
      "needs_background": "light"
     },
     "output_type": "display_data"
    }
   ],
   "source": [
    "plt.plot(temp_test_acc['sample'], temp_test_acc['score'])"
   ]
  },
  {
   "cell_type": "markdown",
   "metadata": {},
   "source": [
    "После построения графика мы выяснили, что лучшая точность получилась на значении 13."
   ]
  },
  {
   "cell_type": "code",
   "execution_count": 44,
   "metadata": {},
   "outputs": [
    {
     "name": "stderr",
     "output_type": "stream",
     "text": [
      "C:\\Users\\Nastya\\Anaconda3\\lib\\site-packages\\sklearn\\ensemble\\bagging.py:623: DataConversionWarning: A column-vector y was passed when a 1d array was expected. Please change the shape of y to (n_samples, ), for example using ravel().\n",
      "  y = column_or_1d(y, warn=True)\n"
     ]
    },
    {
     "data": {
      "text/plain": [
       "0.9675770643667145"
      ]
     },
     "execution_count": 44,
     "metadata": {},
     "output_type": "execute_result"
    }
   ],
   "source": [
    "rfc = BaggingClassifier(n_estimators=11, n_jobs=-1, oob_score=True, max_samples=13)\n",
    "rfc.fit(X_train, y_train)\n",
    "rfc.score(X_test, y_test)"
   ]
  },
  {
   "cell_type": "markdown",
   "metadata": {},
   "source": [
    "Мы применили эти параметры на нашей готовой модели, чтобы проверить ее точность. В результате получили - 0.967"
   ]
  },
  {
   "cell_type": "markdown",
   "metadata": {},
   "source": [
    "Перейдем к следующему алгоритму классификации - Random forest или случайный лес.\n",
    "\n",
    "Решающие деревья являются хорошим семейством базовых классификаторов для бэггинга, поскольку они достаточно сложны и могут достигать нулевой ошибки на любой выборке. Но метод случайных подпространств - **RandomForest**, позволяет снизить коррелированность между деревьями и избежать переобучения. Базовые алгоритмы обучаются на различных подмножествах признакового описания, которые также выделяются случайным образом"
   ]
  },
  {
   "cell_type": "markdown",
   "metadata": {},
   "source": [
    "Аналогично работе с Бэггингом сгенерируем массив деревьев от 1 до 301 с шагом 10, после чего найдем число деревьев, при котором точность наилучшая."
   ]
  },
  {
   "cell_type": "code",
   "execution_count": 46,
   "metadata": {},
   "outputs": [
    {
     "name": "stderr",
     "output_type": "stream",
     "text": [
      "C:\\Users\\Nastya\\Anaconda3\\lib\\site-packages\\ipykernel_launcher.py:7: DataConversionWarning: A column-vector y was passed when a 1d array was expected. Please change the shape of y to (n_samples,), for example using ravel().\n",
      "  import sys\n",
      "C:\\Users\\Nastya\\Anaconda3\\lib\\site-packages\\sklearn\\ensemble\\forest.py:460: UserWarning: Some inputs do not have OOB scores. This probably means too few trees were used to compute any reliable oob estimates.\n",
      "  warn(\"Some inputs do not have OOB scores. \"\n",
      "C:\\Users\\Nastya\\Anaconda3\\lib\\site-packages\\sklearn\\ensemble\\forest.py:465: RuntimeWarning: invalid value encountered in true_divide\n",
      "  predictions[k].sum(axis=1)[:, np.newaxis])\n",
      "C:\\Users\\Nastya\\Anaconda3\\lib\\site-packages\\ipykernel_launcher.py:7: DataConversionWarning: A column-vector y was passed when a 1d array was expected. Please change the shape of y to (n_samples,), for example using ravel().\n",
      "  import sys\n",
      "C:\\Users\\Nastya\\Anaconda3\\lib\\site-packages\\sklearn\\ensemble\\forest.py:460: UserWarning: Some inputs do not have OOB scores. This probably means too few trees were used to compute any reliable oob estimates.\n",
      "  warn(\"Some inputs do not have OOB scores. \"\n",
      "C:\\Users\\Nastya\\Anaconda3\\lib\\site-packages\\sklearn\\ensemble\\forest.py:465: RuntimeWarning: invalid value encountered in true_divide\n",
      "  predictions[k].sum(axis=1)[:, np.newaxis])\n",
      "C:\\Users\\Nastya\\Anaconda3\\lib\\site-packages\\ipykernel_launcher.py:7: DataConversionWarning: A column-vector y was passed when a 1d array was expected. Please change the shape of y to (n_samples,), for example using ravel().\n",
      "  import sys\n",
      "C:\\Users\\Nastya\\Anaconda3\\lib\\site-packages\\sklearn\\ensemble\\forest.py:460: UserWarning: Some inputs do not have OOB scores. This probably means too few trees were used to compute any reliable oob estimates.\n",
      "  warn(\"Some inputs do not have OOB scores. \"\n",
      "C:\\Users\\Nastya\\Anaconda3\\lib\\site-packages\\sklearn\\ensemble\\forest.py:465: RuntimeWarning: invalid value encountered in true_divide\n",
      "  predictions[k].sum(axis=1)[:, np.newaxis])\n",
      "C:\\Users\\Nastya\\Anaconda3\\lib\\site-packages\\ipykernel_launcher.py:7: DataConversionWarning: A column-vector y was passed when a 1d array was expected. Please change the shape of y to (n_samples,), for example using ravel().\n",
      "  import sys\n",
      "C:\\Users\\Nastya\\Anaconda3\\lib\\site-packages\\ipykernel_launcher.py:7: DataConversionWarning: A column-vector y was passed when a 1d array was expected. Please change the shape of y to (n_samples,), for example using ravel().\n",
      "  import sys\n",
      "C:\\Users\\Nastya\\Anaconda3\\lib\\site-packages\\ipykernel_launcher.py:7: DataConversionWarning: A column-vector y was passed when a 1d array was expected. Please change the shape of y to (n_samples,), for example using ravel().\n",
      "  import sys\n",
      "C:\\Users\\Nastya\\Anaconda3\\lib\\site-packages\\ipykernel_launcher.py:7: DataConversionWarning: A column-vector y was passed when a 1d array was expected. Please change the shape of y to (n_samples,), for example using ravel().\n",
      "  import sys\n",
      "C:\\Users\\Nastya\\Anaconda3\\lib\\site-packages\\ipykernel_launcher.py:7: DataConversionWarning: A column-vector y was passed when a 1d array was expected. Please change the shape of y to (n_samples,), for example using ravel().\n",
      "  import sys\n",
      "C:\\Users\\Nastya\\Anaconda3\\lib\\site-packages\\ipykernel_launcher.py:7: DataConversionWarning: A column-vector y was passed when a 1d array was expected. Please change the shape of y to (n_samples,), for example using ravel().\n",
      "  import sys\n",
      "C:\\Users\\Nastya\\Anaconda3\\lib\\site-packages\\ipykernel_launcher.py:7: DataConversionWarning: A column-vector y was passed when a 1d array was expected. Please change the shape of y to (n_samples,), for example using ravel().\n",
      "  import sys\n",
      "C:\\Users\\Nastya\\Anaconda3\\lib\\site-packages\\ipykernel_launcher.py:7: DataConversionWarning: A column-vector y was passed when a 1d array was expected. Please change the shape of y to (n_samples,), for example using ravel().\n",
      "  import sys\n",
      "C:\\Users\\Nastya\\Anaconda3\\lib\\site-packages\\ipykernel_launcher.py:7: DataConversionWarning: A column-vector y was passed when a 1d array was expected. Please change the shape of y to (n_samples,), for example using ravel().\n",
      "  import sys\n",
      "C:\\Users\\Nastya\\Anaconda3\\lib\\site-packages\\ipykernel_launcher.py:7: DataConversionWarning: A column-vector y was passed when a 1d array was expected. Please change the shape of y to (n_samples,), for example using ravel().\n",
      "  import sys\n",
      "C:\\Users\\Nastya\\Anaconda3\\lib\\site-packages\\ipykernel_launcher.py:7: DataConversionWarning: A column-vector y was passed when a 1d array was expected. Please change the shape of y to (n_samples,), for example using ravel().\n",
      "  import sys\n",
      "C:\\Users\\Nastya\\Anaconda3\\lib\\site-packages\\ipykernel_launcher.py:7: DataConversionWarning: A column-vector y was passed when a 1d array was expected. Please change the shape of y to (n_samples,), for example using ravel().\n",
      "  import sys\n",
      "C:\\Users\\Nastya\\Anaconda3\\lib\\site-packages\\ipykernel_launcher.py:7: DataConversionWarning: A column-vector y was passed when a 1d array was expected. Please change the shape of y to (n_samples,), for example using ravel().\n",
      "  import sys\n",
      "C:\\Users\\Nastya\\Anaconda3\\lib\\site-packages\\ipykernel_launcher.py:7: DataConversionWarning: A column-vector y was passed when a 1d array was expected. Please change the shape of y to (n_samples,), for example using ravel().\n",
      "  import sys\n",
      "C:\\Users\\Nastya\\Anaconda3\\lib\\site-packages\\ipykernel_launcher.py:7: DataConversionWarning: A column-vector y was passed when a 1d array was expected. Please change the shape of y to (n_samples,), for example using ravel().\n",
      "  import sys\n",
      "C:\\Users\\Nastya\\Anaconda3\\lib\\site-packages\\ipykernel_launcher.py:7: DataConversionWarning: A column-vector y was passed when a 1d array was expected. Please change the shape of y to (n_samples,), for example using ravel().\n",
      "  import sys\n",
      "C:\\Users\\Nastya\\Anaconda3\\lib\\site-packages\\ipykernel_launcher.py:7: DataConversionWarning: A column-vector y was passed when a 1d array was expected. Please change the shape of y to (n_samples,), for example using ravel().\n",
      "  import sys\n",
      "C:\\Users\\Nastya\\Anaconda3\\lib\\site-packages\\ipykernel_launcher.py:7: DataConversionWarning: A column-vector y was passed when a 1d array was expected. Please change the shape of y to (n_samples,), for example using ravel().\n",
      "  import sys\n",
      "C:\\Users\\Nastya\\Anaconda3\\lib\\site-packages\\ipykernel_launcher.py:7: DataConversionWarning: A column-vector y was passed when a 1d array was expected. Please change the shape of y to (n_samples,), for example using ravel().\n",
      "  import sys\n",
      "C:\\Users\\Nastya\\Anaconda3\\lib\\site-packages\\ipykernel_launcher.py:7: DataConversionWarning: A column-vector y was passed when a 1d array was expected. Please change the shape of y to (n_samples,), for example using ravel().\n",
      "  import sys\n",
      "C:\\Users\\Nastya\\Anaconda3\\lib\\site-packages\\ipykernel_launcher.py:7: DataConversionWarning: A column-vector y was passed when a 1d array was expected. Please change the shape of y to (n_samples,), for example using ravel().\n",
      "  import sys\n",
      "C:\\Users\\Nastya\\Anaconda3\\lib\\site-packages\\ipykernel_launcher.py:7: DataConversionWarning: A column-vector y was passed when a 1d array was expected. Please change the shape of y to (n_samples,), for example using ravel().\n",
      "  import sys\n",
      "C:\\Users\\Nastya\\Anaconda3\\lib\\site-packages\\ipykernel_launcher.py:7: DataConversionWarning: A column-vector y was passed when a 1d array was expected. Please change the shape of y to (n_samples,), for example using ravel().\n",
      "  import sys\n",
      "C:\\Users\\Nastya\\Anaconda3\\lib\\site-packages\\ipykernel_launcher.py:7: DataConversionWarning: A column-vector y was passed when a 1d array was expected. Please change the shape of y to (n_samples,), for example using ravel().\n",
      "  import sys\n",
      "C:\\Users\\Nastya\\Anaconda3\\lib\\site-packages\\ipykernel_launcher.py:7: DataConversionWarning: A column-vector y was passed when a 1d array was expected. Please change the shape of y to (n_samples,), for example using ravel().\n",
      "  import sys\n",
      "C:\\Users\\Nastya\\Anaconda3\\lib\\site-packages\\ipykernel_launcher.py:7: DataConversionWarning: A column-vector y was passed when a 1d array was expected. Please change the shape of y to (n_samples,), for example using ravel().\n",
      "  import sys\n",
      "C:\\Users\\Nastya\\Anaconda3\\lib\\site-packages\\ipykernel_launcher.py:7: DataConversionWarning: A column-vector y was passed when a 1d array was expected. Please change the shape of y to (n_samples,), for example using ravel().\n",
      "  import sys\n",
      "C:\\Users\\Nastya\\Anaconda3\\lib\\site-packages\\ipykernel_launcher.py:7: DataConversionWarning: A column-vector y was passed when a 1d array was expected. Please change the shape of y to (n_samples,), for example using ravel().\n",
      "  import sys\n"
     ]
    },
    {
     "data": {
      "text/html": [
       "<div>\n",
       "<style scoped>\n",
       "    .dataframe tbody tr th:only-of-type {\n",
       "        vertical-align: middle;\n",
       "    }\n",
       "\n",
       "    .dataframe tbody tr th {\n",
       "        vertical-align: top;\n",
       "    }\n",
       "\n",
       "    .dataframe thead th {\n",
       "        text-align: right;\n",
       "    }\n",
       "</style>\n",
       "<table border=\"1\" class=\"dataframe\">\n",
       "  <thead>\n",
       "    <tr style=\"text-align: right;\">\n",
       "      <th></th>\n",
       "      <th>ntree</th>\n",
       "      <th>score</th>\n",
       "    </tr>\n",
       "  </thead>\n",
       "  <tbody>\n",
       "    <tr>\n",
       "      <td>0</td>\n",
       "      <td>1.0</td>\n",
       "      <td>0.996859</td>\n",
       "    </tr>\n",
       "    <tr>\n",
       "      <td>1</td>\n",
       "      <td>11.0</td>\n",
       "      <td>0.996859</td>\n",
       "    </tr>\n",
       "    <tr>\n",
       "      <td>2</td>\n",
       "      <td>21.0</td>\n",
       "      <td>0.996859</td>\n",
       "    </tr>\n",
       "    <tr>\n",
       "      <td>3</td>\n",
       "      <td>31.0</td>\n",
       "      <td>0.996912</td>\n",
       "    </tr>\n",
       "    <tr>\n",
       "      <td>4</td>\n",
       "      <td>41.0</td>\n",
       "      <td>0.996912</td>\n",
       "    </tr>\n",
       "    <tr>\n",
       "      <td>5</td>\n",
       "      <td>51.0</td>\n",
       "      <td>0.996912</td>\n",
       "    </tr>\n",
       "    <tr>\n",
       "      <td>6</td>\n",
       "      <td>61.0</td>\n",
       "      <td>0.996912</td>\n",
       "    </tr>\n",
       "    <tr>\n",
       "      <td>7</td>\n",
       "      <td>71.0</td>\n",
       "      <td>0.996859</td>\n",
       "    </tr>\n",
       "    <tr>\n",
       "      <td>8</td>\n",
       "      <td>81.0</td>\n",
       "      <td>0.996859</td>\n",
       "    </tr>\n",
       "    <tr>\n",
       "      <td>9</td>\n",
       "      <td>91.0</td>\n",
       "      <td>0.996859</td>\n",
       "    </tr>\n",
       "    <tr>\n",
       "      <td>10</td>\n",
       "      <td>101.0</td>\n",
       "      <td>0.996859</td>\n",
       "    </tr>\n",
       "    <tr>\n",
       "      <td>11</td>\n",
       "      <td>111.0</td>\n",
       "      <td>0.996859</td>\n",
       "    </tr>\n",
       "    <tr>\n",
       "      <td>12</td>\n",
       "      <td>121.0</td>\n",
       "      <td>0.996859</td>\n",
       "    </tr>\n",
       "    <tr>\n",
       "      <td>13</td>\n",
       "      <td>131.0</td>\n",
       "      <td>0.996859</td>\n",
       "    </tr>\n",
       "    <tr>\n",
       "      <td>14</td>\n",
       "      <td>141.0</td>\n",
       "      <td>0.996859</td>\n",
       "    </tr>\n",
       "    <tr>\n",
       "      <td>15</td>\n",
       "      <td>151.0</td>\n",
       "      <td>0.996859</td>\n",
       "    </tr>\n",
       "    <tr>\n",
       "      <td>16</td>\n",
       "      <td>161.0</td>\n",
       "      <td>0.996859</td>\n",
       "    </tr>\n",
       "    <tr>\n",
       "      <td>17</td>\n",
       "      <td>171.0</td>\n",
       "      <td>0.996859</td>\n",
       "    </tr>\n",
       "    <tr>\n",
       "      <td>18</td>\n",
       "      <td>181.0</td>\n",
       "      <td>0.996859</td>\n",
       "    </tr>\n",
       "    <tr>\n",
       "      <td>19</td>\n",
       "      <td>191.0</td>\n",
       "      <td>0.996859</td>\n",
       "    </tr>\n",
       "    <tr>\n",
       "      <td>20</td>\n",
       "      <td>201.0</td>\n",
       "      <td>0.996859</td>\n",
       "    </tr>\n",
       "    <tr>\n",
       "      <td>21</td>\n",
       "      <td>211.0</td>\n",
       "      <td>0.996859</td>\n",
       "    </tr>\n",
       "    <tr>\n",
       "      <td>22</td>\n",
       "      <td>221.0</td>\n",
       "      <td>0.996859</td>\n",
       "    </tr>\n",
       "    <tr>\n",
       "      <td>23</td>\n",
       "      <td>231.0</td>\n",
       "      <td>0.996859</td>\n",
       "    </tr>\n",
       "    <tr>\n",
       "      <td>24</td>\n",
       "      <td>241.0</td>\n",
       "      <td>0.996859</td>\n",
       "    </tr>\n",
       "    <tr>\n",
       "      <td>25</td>\n",
       "      <td>251.0</td>\n",
       "      <td>0.996859</td>\n",
       "    </tr>\n",
       "    <tr>\n",
       "      <td>26</td>\n",
       "      <td>261.0</td>\n",
       "      <td>0.996859</td>\n",
       "    </tr>\n",
       "    <tr>\n",
       "      <td>27</td>\n",
       "      <td>271.0</td>\n",
       "      <td>0.996859</td>\n",
       "    </tr>\n",
       "    <tr>\n",
       "      <td>28</td>\n",
       "      <td>281.0</td>\n",
       "      <td>0.996859</td>\n",
       "    </tr>\n",
       "    <tr>\n",
       "      <td>29</td>\n",
       "      <td>291.0</td>\n",
       "      <td>0.996859</td>\n",
       "    </tr>\n",
       "    <tr>\n",
       "      <td>30</td>\n",
       "      <td>301.0</td>\n",
       "      <td>0.996859</td>\n",
       "    </tr>\n",
       "  </tbody>\n",
       "</table>\n",
       "</div>"
      ],
      "text/plain": [
       "    ntree     score\n",
       "0     1.0  0.996859\n",
       "1    11.0  0.996859\n",
       "2    21.0  0.996859\n",
       "3    31.0  0.996912\n",
       "4    41.0  0.996912\n",
       "5    51.0  0.996912\n",
       "6    61.0  0.996912\n",
       "7    71.0  0.996859\n",
       "8    81.0  0.996859\n",
       "9    91.0  0.996859\n",
       "10  101.0  0.996859\n",
       "11  111.0  0.996859\n",
       "12  121.0  0.996859\n",
       "13  131.0  0.996859\n",
       "14  141.0  0.996859\n",
       "15  151.0  0.996859\n",
       "16  161.0  0.996859\n",
       "17  171.0  0.996859\n",
       "18  181.0  0.996859\n",
       "19  191.0  0.996859\n",
       "20  201.0  0.996859\n",
       "21  211.0  0.996859\n",
       "22  221.0  0.996859\n",
       "23  231.0  0.996859\n",
       "24  241.0  0.996859\n",
       "25  251.0  0.996859\n",
       "26  261.0  0.996859\n",
       "27  271.0  0.996859\n",
       "28  281.0  0.996859\n",
       "29  291.0  0.996859\n",
       "30  301.0  0.996859"
      ]
     },
     "execution_count": 46,
     "metadata": {},
     "output_type": "execute_result"
    }
   ],
   "source": [
    "trees_grid = [i for i in range(1, 302, 10)]\n",
    "\n",
    "temp_test_acc = pd.DataFrame(columns=['ntree', 'score'])\n",
    "for ntrees in trees_grid:\n",
    "    rfc = RandomForestClassifier(n_estimators=ntrees, random_state=42, n_jobs=-1, oob_score=True)\n",
    "    rfc.fit(X_train, y_train)\n",
    "    rfc.score(X_test, y_test)\n",
    "    temp_test_acc = temp_test_acc.append({'ntree': ntrees, 'score': rfc.score(X_test, y_test)}, ignore_index=True)\n",
    "temp_test_acc"
   ]
  },
  {
   "cell_type": "markdown",
   "metadata": {},
   "source": [
    " В данном случае это леса из 31-61 дерева. Возьмем лес из 31 дерева."
   ]
  },
  {
   "cell_type": "code",
   "execution_count": 47,
   "metadata": {},
   "outputs": [
    {
     "data": {
      "text/plain": [
       "[<matplotlib.lines.Line2D at 0x287e67c4f88>]"
      ]
     },
     "execution_count": 47,
     "metadata": {},
     "output_type": "execute_result"
    },
    {
     "data": {
      "image/png": "[encoded data removed]",
      "text/plain": [
       "<Figure size 432x288 with 1 Axes>"
      ]
     },
     "metadata": {
      "needs_background": "light"
     },
     "output_type": "display_data"
    }
   ],
   "source": [
    "plt.plot(temp_test_acc['ntree'], temp_test_acc['score'])"
   ]
  },
  {
   "cell_type": "markdown",
   "metadata": {},
   "source": [
    "Так же как и при работе с Бэггингом проверим нашу модель на параметре - depth(глубина). Для него сгенерируем массив значений от 3 до 30 с шагом 3. "
   ]
  },
  {
   "cell_type": "code",
   "execution_count": 48,
   "metadata": {},
   "outputs": [
    {
     "name": "stderr",
     "output_type": "stream",
     "text": [
      "C:\\Users\\Nastya\\Anaconda3\\lib\\site-packages\\ipykernel_launcher.py:6: DataConversionWarning: A column-vector y was passed when a 1d array was expected. Please change the shape of y to (n_samples,), for example using ravel().\n",
      "  \n",
      "C:\\Users\\Nastya\\Anaconda3\\lib\\site-packages\\ipykernel_launcher.py:6: DataConversionWarning: A column-vector y was passed when a 1d array was expected. Please change the shape of y to (n_samples,), for example using ravel().\n",
      "  \n",
      "C:\\Users\\Nastya\\Anaconda3\\lib\\site-packages\\ipykernel_launcher.py:6: DataConversionWarning: A column-vector y was passed when a 1d array was expected. Please change the shape of y to (n_samples,), for example using ravel().\n",
      "  \n",
      "C:\\Users\\Nastya\\Anaconda3\\lib\\site-packages\\ipykernel_launcher.py:6: DataConversionWarning: A column-vector y was passed when a 1d array was expected. Please change the shape of y to (n_samples,), for example using ravel().\n",
      "  \n",
      "C:\\Users\\Nastya\\Anaconda3\\lib\\site-packages\\ipykernel_launcher.py:6: DataConversionWarning: A column-vector y was passed when a 1d array was expected. Please change the shape of y to (n_samples,), for example using ravel().\n",
      "  \n",
      "C:\\Users\\Nastya\\Anaconda3\\lib\\site-packages\\ipykernel_launcher.py:6: DataConversionWarning: A column-vector y was passed when a 1d array was expected. Please change the shape of y to (n_samples,), for example using ravel().\n",
      "  \n",
      "C:\\Users\\Nastya\\Anaconda3\\lib\\site-packages\\ipykernel_launcher.py:6: DataConversionWarning: A column-vector y was passed when a 1d array was expected. Please change the shape of y to (n_samples,), for example using ravel().\n",
      "  \n",
      "C:\\Users\\Nastya\\Anaconda3\\lib\\site-packages\\ipykernel_launcher.py:6: DataConversionWarning: A column-vector y was passed when a 1d array was expected. Please change the shape of y to (n_samples,), for example using ravel().\n",
      "  \n",
      "C:\\Users\\Nastya\\Anaconda3\\lib\\site-packages\\ipykernel_launcher.py:6: DataConversionWarning: A column-vector y was passed when a 1d array was expected. Please change the shape of y to (n_samples,), for example using ravel().\n",
      "  \n"
     ]
    },
    {
     "data": {
      "text/html": [
       "<div>\n",
       "<style scoped>\n",
       "    .dataframe tbody tr th:only-of-type {\n",
       "        vertical-align: middle;\n",
       "    }\n",
       "\n",
       "    .dataframe tbody tr th {\n",
       "        vertical-align: top;\n",
       "    }\n",
       "\n",
       "    .dataframe thead th {\n",
       "        text-align: right;\n",
       "    }\n",
       "</style>\n",
       "<table border=\"1\" class=\"dataframe\">\n",
       "  <thead>\n",
       "    <tr style=\"text-align: right;\">\n",
       "      <th></th>\n",
       "      <th>depth</th>\n",
       "      <th>score</th>\n",
       "    </tr>\n",
       "  </thead>\n",
       "  <tbody>\n",
       "    <tr>\n",
       "      <td>0</td>\n",
       "      <td>3.0</td>\n",
       "      <td>0.996912</td>\n",
       "    </tr>\n",
       "    <tr>\n",
       "      <td>1</td>\n",
       "      <td>6.0</td>\n",
       "      <td>0.996912</td>\n",
       "    </tr>\n",
       "    <tr>\n",
       "      <td>2</td>\n",
       "      <td>9.0</td>\n",
       "      <td>0.996912</td>\n",
       "    </tr>\n",
       "    <tr>\n",
       "      <td>3</td>\n",
       "      <td>12.0</td>\n",
       "      <td>0.996912</td>\n",
       "    </tr>\n",
       "    <tr>\n",
       "      <td>4</td>\n",
       "      <td>15.0</td>\n",
       "      <td>0.996912</td>\n",
       "    </tr>\n",
       "    <tr>\n",
       "      <td>5</td>\n",
       "      <td>18.0</td>\n",
       "      <td>0.996912</td>\n",
       "    </tr>\n",
       "    <tr>\n",
       "      <td>6</td>\n",
       "      <td>21.0</td>\n",
       "      <td>0.996912</td>\n",
       "    </tr>\n",
       "    <tr>\n",
       "      <td>7</td>\n",
       "      <td>24.0</td>\n",
       "      <td>0.996912</td>\n",
       "    </tr>\n",
       "    <tr>\n",
       "      <td>8</td>\n",
       "      <td>27.0</td>\n",
       "      <td>0.996912</td>\n",
       "    </tr>\n",
       "  </tbody>\n",
       "</table>\n",
       "</div>"
      ],
      "text/plain": [
       "   depth     score\n",
       "0    3.0  0.996912\n",
       "1    6.0  0.996912\n",
       "2    9.0  0.996912\n",
       "3   12.0  0.996912\n",
       "4   15.0  0.996912\n",
       "5   18.0  0.996912\n",
       "6   21.0  0.996912\n",
       "7   24.0  0.996912\n",
       "8   27.0  0.996912"
      ]
     },
     "execution_count": 48,
     "metadata": {},
     "output_type": "execute_result"
    }
   ],
   "source": [
    "max_depth_grid = [i for i in range(3, 30, 3)]\n",
    "\n",
    "temp_test_acc = pd.DataFrame(columns=['depth', 'score'])\n",
    "for max_depth in max_depth_grid:\n",
    "    rfc = RandomForestClassifier(n_estimators=31, random_state=42, n_jobs=-1, oob_score=True, max_depth=max_depth)\n",
    "    rfc.fit(X_train, y_train)\n",
    "    rfc.score(X_test, y_test)\n",
    "    temp_test_acc = temp_test_acc.append({'depth': max_depth, 'score': rfc.score(X_test, y_test)}, ignore_index=True)\n",
    "temp_test_acc"
   ]
  },
  {
   "cell_type": "code",
   "execution_count": 49,
   "metadata": {},
   "outputs": [
    {
     "data": {
      "text/plain": [
       "[<matplotlib.lines.Line2D at 0x287e681af08>]"
      ]
     },
     "execution_count": 49,
     "metadata": {},
     "output_type": "execute_result"
    },
    {
     "data": {
      "image/png": "[encoded data removed]",
      "text/plain": [
       "<Figure size 432x288 with 1 Axes>"
      ]
     },
     "metadata": {
      "needs_background": "light"
     },
     "output_type": "display_data"
    }
   ],
   "source": [
    "plt.plot(temp_test_acc['depth'], temp_test_acc['score'])"
   ]
  },
  {
   "cell_type": "markdown",
   "metadata": {},
   "source": [
    "По графику видно, что точность одинакова при любом значении. "
   ]
  },
  {
   "cell_type": "markdown",
   "metadata": {},
   "source": [
    "Опять же применим эти параметры на нашей готовой модели, чтобы проверить ее точность. "
   ]
  },
  {
   "cell_type": "code",
   "execution_count": 50,
   "metadata": {},
   "outputs": [
    {
     "name": "stderr",
     "output_type": "stream",
     "text": [
      "C:\\Users\\Nastya\\Anaconda3\\lib\\site-packages\\ipykernel_launcher.py:2: DataConversionWarning: A column-vector y was passed when a 1d array was expected. Please change the shape of y to (n_samples,), for example using ravel().\n",
      "  \n"
     ]
    },
    {
     "data": {
      "text/plain": [
       "0.9969121013682586"
      ]
     },
     "execution_count": 50,
     "metadata": {},
     "output_type": "execute_result"
    }
   ],
   "source": [
    "rfc = RandomForestClassifier(n_estimators=31, random_state=42, n_jobs=-1, oob_score=True, max_depth = 3)\n",
    "rfc.fit(X_train, y_train)\n",
    "rfc.score(X_test, y_test)"
   ]
  },
  {
   "cell_type": "markdown",
   "metadata": {},
   "source": [
    "В результате получили точность, равную 0.997"
   ]
  }
 ],
 "metadata": {
  "kernelspec": {
   "display_name": "Python 3",
   "language": "python",
   "name": "python3"
  },
  "language_info": {
   "codemirror_mode": {
    "name": "ipython",
    "version": 3
   },
   "file_extension": ".py",
   "mimetype": "text/x-python",
   "name": "python",
   "nbconvert_exporter": "python",
   "pygments_lexer": "ipython3",
   "version": "3.7.4"
  }
 },
 "nbformat": 4,
 "nbformat_minor": 2
}
