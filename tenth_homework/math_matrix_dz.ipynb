{
 "cells": [
  {
   "cell_type": "code",
   "execution_count": 1,
   "metadata": {},
   "outputs": [],
   "source": [
    "import numpy as np"
   ]
  },
  {
   "cell_type": "markdown",
   "metadata": {},
   "source": [
    "__1.__ Установить, какие произведения матриц $AB$ и $BA$ определены, и найти размерности полученных матриц:\n",
    "\n",
    "   а) $A$ — матрица $4\\times 2$, $B$ — матрица $4\\times 2$; $AB$ и $BA$ - неопределены (недопустимая операция)\n",
    "   \n",
    "   \n",
    "    \n",
    "   б) $A$ — матрица $2\\times 5$, $B$ — матрица $5\\times 3$; $AB$ - $2\\times 3$; $BA$ - неопределена\n",
    "    \n",
    "   в) $A$ — матрица $8\\times 3$, $B$ — матрица $3\\times 8$; $AB$ - $8\\times 8$;  $BA$ - $3\\times 3$\n",
    "    \n",
    "   г) $A$ — квадратная матрица $4\\times 4$, $B$ — квадратная матрица $4\\times 4$. $AB$ - $4\\times 4$; $BA$ - $4\\times 4$"
   ]
  },
  {
   "cell_type": "code",
   "execution_count": 10,
   "metadata": {},
   "outputs": [
    {
     "name": "stdout",
     "output_type": "stream",
     "text": [
      "a)\n"
     ]
    },
    {
     "ename": "ValueError",
     "evalue": "shapes (4,2) and (4,2) not aligned: 2 (dim 1) != 4 (dim 0)",
     "output_type": "error",
     "traceback": [
      "\u001b[1;31m---------------------------------------------------------------------------\u001b[0m",
      "\u001b[1;31mValueError\u001b[0m                                Traceback (most recent call last)",
      "\u001b[1;32m<ipython-input-10-9dbf0bfb961b>\u001b[0m in \u001b[0;36m<module>\u001b[1;34m\u001b[0m\n\u001b[0;32m      2\u001b[0m \u001b[0mB\u001b[0m \u001b[1;33m=\u001b[0m \u001b[0mnp\u001b[0m\u001b[1;33m.\u001b[0m\u001b[0marray\u001b[0m\u001b[1;33m(\u001b[0m\u001b[1;33m[\u001b[0m\u001b[1;33m[\u001b[0m\u001b[1;36m1\u001b[0m\u001b[1;33m,\u001b[0m \u001b[1;36m0\u001b[0m\u001b[1;33m]\u001b[0m\u001b[1;33m,\u001b[0m \u001b[1;33m[\u001b[0m\u001b[1;36m2\u001b[0m\u001b[1;33m,\u001b[0m \u001b[1;36m1\u001b[0m\u001b[1;33m]\u001b[0m\u001b[1;33m,\u001b[0m \u001b[1;33m[\u001b[0m\u001b[1;36m10\u001b[0m\u001b[1;33m,\u001b[0m \u001b[1;36m5\u001b[0m\u001b[1;33m]\u001b[0m\u001b[1;33m,\u001b[0m \u001b[1;33m[\u001b[0m\u001b[1;36m5\u001b[0m\u001b[1;33m,\u001b[0m \u001b[1;36m5\u001b[0m\u001b[1;33m]\u001b[0m\u001b[1;33m]\u001b[0m\u001b[1;33m)\u001b[0m\u001b[1;33m\u001b[0m\u001b[1;33m\u001b[0m\u001b[0m\n\u001b[0;32m      3\u001b[0m \u001b[0mprint\u001b[0m\u001b[1;33m(\u001b[0m\u001b[1;34m'a)'\u001b[0m\u001b[1;33m)\u001b[0m\u001b[1;33m\u001b[0m\u001b[1;33m\u001b[0m\u001b[0m\n\u001b[1;32m----> 4\u001b[1;33m \u001b[0mprint\u001b[0m\u001b[1;33m(\u001b[0m\u001b[1;34mf'Матрица AB\\n{np.dot(A, B)}'\u001b[0m\u001b[1;33m)\u001b[0m\u001b[1;33m\u001b[0m\u001b[1;33m\u001b[0m\u001b[0m\n\u001b[0m\u001b[0;32m      5\u001b[0m \u001b[0mprint\u001b[0m\u001b[1;33m(\u001b[0m\u001b[1;34mf'Матрица BA\\n{np.dot(B, A)}'\u001b[0m\u001b[1;33m)\u001b[0m\u001b[1;33m\u001b[0m\u001b[1;33m\u001b[0m\u001b[0m\n",
      "\u001b[1;31mValueError\u001b[0m: shapes (4,2) and (4,2) not aligned: 2 (dim 1) != 4 (dim 0)"
     ]
    }
   ],
   "source": [
    "A = np.array([[1, 0], [2, 1], [10, 5], [5, 5]])\n",
    "B = np.array([[1, 0], [2, 1], [10, 5], [5, 5]])\n",
    "print('a)')\n",
    "print(f'Матрица AB\\n{np.dot(A, B)}')\n",
    "print(f'Матрица BA\\n{np.dot(B, A)}')"
   ]
  },
  {
   "cell_type": "code",
   "execution_count": 11,
   "metadata": {},
   "outputs": [
    {
     "name": "stdout",
     "output_type": "stream",
     "text": [
      "б)\n",
      "Матрица AB\n",
      "[[101  60  67]\n",
      " [101  60  67]]\n"
     ]
    },
    {
     "ename": "ValueError",
     "evalue": "shapes (5,3) and (2,5) not aligned: 3 (dim 1) != 2 (dim 0)",
     "output_type": "error",
     "traceback": [
      "\u001b[1;31m---------------------------------------------------------------------------\u001b[0m",
      "\u001b[1;31mValueError\u001b[0m                                Traceback (most recent call last)",
      "\u001b[1;32m<ipython-input-11-99facb5134b2>\u001b[0m in \u001b[0;36m<module>\u001b[1;34m\u001b[0m\n\u001b[0;32m      3\u001b[0m \u001b[0mprint\u001b[0m\u001b[1;33m(\u001b[0m\u001b[1;34m'б)'\u001b[0m\u001b[1;33m)\u001b[0m\u001b[1;33m\u001b[0m\u001b[1;33m\u001b[0m\u001b[0m\n\u001b[0;32m      4\u001b[0m \u001b[0mprint\u001b[0m\u001b[1;33m(\u001b[0m\u001b[1;34mf'Матрица AB\\n{np.dot(A, B)}'\u001b[0m\u001b[1;33m)\u001b[0m\u001b[1;33m\u001b[0m\u001b[1;33m\u001b[0m\u001b[0m\n\u001b[1;32m----> 5\u001b[1;33m \u001b[0mprint\u001b[0m\u001b[1;33m(\u001b[0m\u001b[1;34mf'Матрица BA\\n{np.dot(B, A)}'\u001b[0m\u001b[1;33m)\u001b[0m\u001b[1;33m\u001b[0m\u001b[1;33m\u001b[0m\u001b[0m\n\u001b[0m",
      "\u001b[1;31mValueError\u001b[0m: shapes (5,3) and (2,5) not aligned: 3 (dim 1) != 2 (dim 0)"
     ]
    }
   ],
   "source": [
    "A = np.array([[1, 0, 3, 4, 5], [1, 0, 3, 4, 5]])\n",
    "B = np.array([[1, 0, 4], [2, 1, 5], [10, 5, 7], [5, 5, 8], [10, 5, 2]])\n",
    "print('б)')\n",
    "print(f'Матрица AB\\n{np.dot(A, B)}')\n",
    "print(f'Матрица BA\\n{np.dot(B, A)}') "
   ]
  },
  {
   "cell_type": "code",
   "execution_count": 12,
   "metadata": {},
   "outputs": [
    {
     "name": "stdout",
     "output_type": "stream",
     "text": [
      "в)\n",
      "Матрица AB\n",
      "[[  5   4  15  12  25  39  13  33]\n",
      " [  8   5  24  20  40  62  22  54]\n",
      " [ 22   7  66  64 110 166  74 162]\n",
      " [ 18   8  54  46  90 139  51 123]\n",
      " [ 17   2  51  54  85 126  64 132]\n",
      " [ 15   8  45  40  75 115  45 105]\n",
      " [ 12   9  36  26  60  95  27  75]\n",
      " [ 25   8  75  66 125 192  74 174]]\n",
      "Матрица BA\n",
      "[[213 165 240]\n",
      " [181 124 181]\n",
      " [183 125 186]]\n"
     ]
    }
   ],
   "source": [
    "A = np.array([[1, 0, 4], [2, 1, 5], [10, 5, 7], [5, 5, 8], [10, 5, 2], [5, 2, 8], [1, 2, 9], [8, 9, 8]])\n",
    "B = np.array([[1, 0, 3, 4, 5, 7, 5, 9], [1, 0, 3, 2, 5, 8, 2, 6], [1, 1, 3, 2, 5, 8, 2, 6]])\n",
    "print('в)')\n",
    "print(f'Матрица AB\\n{np.dot(A, B)}')\n",
    "print(f'Матрица BA\\n{np.dot(B, A)}')"
   ]
  },
  {
   "cell_type": "code",
   "execution_count": 13,
   "metadata": {},
   "outputs": [
    {
     "name": "stdout",
     "output_type": "stream",
     "text": [
      "г)\n",
      "Матрица AB\n",
      "[[ 86  60  70  51]\n",
      " [ 99  66  86  67]\n",
      " [120  65 147 141]\n",
      " [ 60  30  84  76]]\n",
      "Матрица BA\n",
      "[[ 96  65  81  38]\n",
      " [ 89  51  84  52]\n",
      " [ 80  50 128 123]\n",
      " [ 95  50 119 100]]\n"
     ]
    }
   ],
   "source": [
    "A = np.array([[1, 0, 5, 7], [2, 1, 6, 7], [10, 5, 8, 4], [5, 5, 4, 1]])\n",
    "B = np.array([[1, 0, 6, 7], [2, 1, 7, 3], [10, 5, 3, 6], [5, 5, 7, 2]])\n",
    "print('г)')\n",
    "print(f'Матрица AB\\n{np.dot(A, B)}')\n",
    "print(f'Матрица BA\\n{np.dot(B, A)}')"
   ]
  },
  {
   "cell_type": "markdown",
   "metadata": {},
   "source": [
    "__2.__ Найти сумму и произведение матриц $A=\\begin{pmatrix}\n",
    "1 & -2\\\\ \n",
    "3 & 0\n",
    "\\end{pmatrix}$ и $B=\\begin{pmatrix}\n",
    "4 & -1\\\\ \n",
    "0 & 5\n",
    "\\end{pmatrix}.$ "
   ]
  },
  {
   "cell_type": "code",
   "execution_count": 14,
   "metadata": {},
   "outputs": [
    {
     "name": "stdout",
     "output_type": "stream",
     "text": [
      "Сумма матриц A + B\n",
      "[[ 5 -3]\n",
      " [ 3  5]]\n",
      "Произведение AB\n",
      "[[  4 -11]\n",
      " [ 12  -3]]\n"
     ]
    }
   ],
   "source": [
    "A = np.array([[1, -2], [3, 0]])\n",
    "B = np.array([[4, -1], [0, 5]])\n",
    "\n",
    "print(f'Сумма матриц A + B\\n{A + B}')\n",
    "print(f'Произведение AB\\n{np.dot(A, B)}')"
   ]
  },
  {
   "cell_type": "markdown",
   "metadata": {},
   "source": [
    "__3.__ Из закономерностей сложения и умножения матриц на число можно сделать вывод, что матрицы одного размера образуют линейное пространство. Вычислить линейную комбинацию $3A-2B+4C$ для матриц $A=\\begin{pmatrix}\n",
    "1 & 7\\\\ \n",
    "3 & -6\n",
    "\\end{pmatrix}$, $B=\\begin{pmatrix}\n",
    "0 & 5\\\\ \n",
    "2 & -1\n",
    "\\end{pmatrix}$, $C=\\begin{pmatrix}\n",
    "2 & -4\\\\ \n",
    "1 & 1\n",
    "\\end{pmatrix}.$"
   ]
  },
  {
   "cell_type": "code",
   "execution_count": 30,
   "metadata": {},
   "outputs": [
    {
     "name": "stdout",
     "output_type": "stream",
     "text": [
      "Линейная комбинация  3𝐴 − 2𝐵 + 4𝐶 = \n",
      "[[ 11  -5]\n",
      " [  9 -12]]\n",
      "\n"
     ]
    }
   ],
   "source": [
    "A = np.array([[1, 7], [3, -6]])\n",
    "B = np.array([[0, 5], [2 ,-1]])\n",
    "C = np.array([[2 ,-4],[1, 1]])\n",
    "\n",
    "B2 = -2*B\n",
    "\n",
    "print(f\"Линейная комбинация  3𝐴 − 2𝐵 + 4𝐶 = \\n{3*A + B2 + 4*C}\\n\") "
   ]
  },
  {
   "cell_type": "markdown",
   "metadata": {},
   "source": [
    "__4.__ Дана матрица $A=\\begin{pmatrix}\n",
    "4 & 1\\\\ \n",
    "5 & -2\\\\ \n",
    "2 & 3\n",
    "\\end{pmatrix}$.\n",
    "Вычислить $AA^{T}$ и $A^{T}A$."
   ]
  },
  {
   "cell_type": "code",
   "execution_count": 31,
   "metadata": {},
   "outputs": [
    {
     "name": "stdout",
     "output_type": "stream",
     "text": [
      "Матрица AA^T\n",
      "[[17 18 11]\n",
      " [18 29  4]\n",
      " [11  4 13]]\n",
      "Матрица A^T*A\n",
      "[[45  0]\n",
      " [ 0 14]]\n"
     ]
    }
   ],
   "source": [
    "A = np.array([[4, 1], [5, -2], [2, 3]])\n",
    "AT = A.T\n",
    "print(f'Матрица AA^T\\n{np.dot(A, AT)}')\n",
    "print(f'Матрица A^T*A\\n{np.dot(AT, A)}')"
   ]
  },
  {
   "cell_type": "markdown",
   "metadata": {},
   "source": [
    "__5.__ Вычислить определитель:\n",
    "\n",
    "   a)\n",
    "\n",
    "$$\\begin{vmatrix}\n",
    "sinx & -cosx\\\\ \n",
    "cosx & sinx\n",
    "\\end{vmatrix};$$\n",
    "\n",
    "  б)\n",
    "    \n",
    "$$\\begin{vmatrix}\n",
    "4 & 2 & 3\\\\ \n",
    "0 & 5 & 1\\\\ \n",
    "0 & 0 & 9\n",
    "\\end{vmatrix};$$\n",
    "\n",
    "в)\n",
    "\n",
    "$$\\begin{vmatrix}\n",
    "1 & 2 & 3\\\\ \n",
    "4 & 5 & 6\\\\ \n",
    "7 & 8 & 9\n",
    "\\end{vmatrix}.$$"
   ]
  },
  {
   "cell_type": "code",
   "execution_count": 34,
   "metadata": {},
   "outputs": [
    {
     "name": "stdout",
     "output_type": "stream",
     "text": [
      "а)\n",
      "Определитель:\n",
      " sin^2(x)+cos^2(x) = 1\n"
     ]
    }
   ],
   "source": [
    "A = np.array([[4, 1], [5, -2]])\n",
    "print('а)')\n",
    "print(f'Определитель:\\n sin^2(x)+cos^2(x) = 1')"
   ]
  },
  {
   "cell_type": "code",
   "execution_count": 35,
   "metadata": {},
   "outputs": [
    {
     "name": "stdout",
     "output_type": "stream",
     "text": [
      "б)\n",
      "Определитель:\n",
      " 4 * 5 * 9 = 180\n",
      "Определитель:\n",
      "180\n"
     ]
    }
   ],
   "source": [
    "A = np.array([[4, 2, 3], [0, 5, 1], [0, 0, 9]])\n",
    "print('б)')\n",
    "print(f'Определитель:\\n 4 * 5 * 9 = 180')\n",
    "print(f'Определитель:\\n{np.linalg.det(A):.0f}')"
   ]
  },
  {
   "cell_type": "code",
   "execution_count": 37,
   "metadata": {},
   "outputs": [
    {
     "name": "stdout",
     "output_type": "stream",
     "text": [
      "в)\n",
      "Определитель:\n",
      "-0\n"
     ]
    }
   ],
   "source": [
    "A = np.array([[1, 2, 3], [4, 5, 6], [7, 8, 9]])\n",
    "print('в)')\n",
    "print(f'Определитель:\\n{np.linalg.det(A):.0f}')"
   ]
  },
  {
   "cell_type": "markdown",
   "metadata": {},
   "source": [
    "__6.__  Доказать, что матрица\n",
    "\n",
    "$$\\begin{pmatrix}\n",
    "-2 & 7 & -3\\\\ \n",
    "4 & -14 & 6\\\\ \n",
    "-3 & 7 & 13\n",
    "\\end{pmatrix}$$\n",
    "   \n",
    "вырожденная."
   ]
  },
  {
   "cell_type": "code",
   "execution_count": 39,
   "metadata": {},
   "outputs": [
    {
     "name": "stdout",
     "output_type": "stream",
     "text": [
      "Определитель:\n",
      "0\n",
      "Так как определитель ноль -> матрица вырожденная\n"
     ]
    }
   ],
   "source": [
    "A = np.array([[-2, 7, -3], [4, -14, 6], [-3, 7, 13]])\n",
    "print(f'Определитель:\\n{np.linalg.det(A):.0f}')\n",
    "print('Так как определитель ноль -> матрица вырожденная')"
   ]
  },
  {
   "cell_type": "markdown",
   "metadata": {},
   "source": [
    "__7.__ Найти ранг матрицы:\n",
    "\n",
    "   а) $\\begin{pmatrix}\n",
    "1 & 2 & 3\\\\ \n",
    "1 & 1 & 1\\\\ \n",
    "2 & 3 & 4\n",
    "\\end{pmatrix};$"
   ]
  },
  {
   "cell_type": "code",
   "execution_count": 40,
   "metadata": {},
   "outputs": [
    {
     "name": "stdout",
     "output_type": "stream",
     "text": [
      "Ранг матрицы: 2\n"
     ]
    }
   ],
   "source": [
    "A = np.array([[1, 2, 3], [1, 1, 1], [2, 3, 4]])\n",
    "print(f'Ранг матрицы: {np.linalg.matrix_rank(A)}')"
   ]
  }
 ],
 "metadata": {
  "kernelspec": {
   "display_name": "Python 3",
   "language": "python",
   "name": "python3"
  },
  "language_info": {
   "codemirror_mode": {
    "name": "ipython",
    "version": 3
   },
   "file_extension": ".py",
   "mimetype": "text/x-python",
   "name": "python",
   "nbconvert_exporter": "python",
   "pygments_lexer": "ipython3",
   "version": "3.7.4"
  }
 },
 "nbformat": 4,
 "nbformat_minor": 2
}
